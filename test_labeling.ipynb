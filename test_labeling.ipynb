{
 "cells": [
  {
   "cell_type": "code",
   "execution_count": 1,
   "id": "c93f8aac-4628-4ea2-8b32-cb744e038e90",
   "metadata": {},
   "outputs": [],
   "source": [
    "import pandas as pd\n"
   ]
  },
  {
   "cell_type": "code",
   "execution_count": null,
   "id": "49312f07-46a2-4d34-bf36-71fa23021616",
   "metadata": {},
   "outputs": [],
   "source": []
  },
  {
   "cell_type": "markdown",
   "id": "8f3c1faa-0c4e-4b18-b0c7-bf27f3b82c0d",
   "metadata": {},
   "source": [
    "## Dataset Creation\n",
    "\n",
    "First, let's use a dataset of violations stored in pandas dataframe. This will help us manage our data as we add more attributes, like predictions and labels for svc codes"
   ]
  },
  {
   "cell_type": "code",
   "execution_count": 3,
   "id": "1584be06-ed7f-4f52-9bc1-36acf1ff96cb",
   "metadata": {},
   "outputs": [],
   "source": [
    "df = pd.read_csv('speeding_violations_dataset.csv')"
   ]
  },
  {
   "cell_type": "code",
   "execution_count": 4,
   "id": "7d136af4-b4dd-40b9-b3f5-5af41ff5e456",
   "metadata": {},
   "outputs": [
    {
     "data": {
      "text/html": [
       "<div>\n",
       "<style scoped>\n",
       "    .dataframe tbody tr th:only-of-type {\n",
       "        vertical-align: middle;\n",
       "    }\n",
       "\n",
       "    .dataframe tbody tr th {\n",
       "        vertical-align: top;\n",
       "    }\n",
       "\n",
       "    .dataframe thead th {\n",
       "        text-align: right;\n",
       "    }\n",
       "</style>\n",
       "<table border=\"1\" class=\"dataframe\">\n",
       "  <thead>\n",
       "    <tr style=\"text-align: right;\">\n",
       "      <th></th>\n",
       "      <th>text</th>\n",
       "      <th>ground_truth</th>\n",
       "    </tr>\n",
       "  </thead>\n",
       "  <tbody>\n",
       "    <tr>\n",
       "      <th>0</th>\n",
       "      <td>EXCEED POSTED SPEED/BRIDGE BY 13 MPH</td>\n",
       "      <td>SPEED 11-15 OVER LIMIT</td>\n",
       "    </tr>\n",
       "    <tr>\n",
       "      <th>1</th>\n",
       "      <td>SPEEDING IN SCHOOL ZONE 16 MPH IN A 20 MPH ZONE</td>\n",
       "      <td>SPEED IN SCHOOL ZONE</td>\n",
       "    </tr>\n",
       "    <tr>\n",
       "      <th>2</th>\n",
       "      <td>SPEEDING 80/70</td>\n",
       "      <td>SPEED 6-10 OVER LIMIT</td>\n",
       "    </tr>\n",
       "    <tr>\n",
       "      <th>3</th>\n",
       "      <td>SPEEDING 10% ABOVE THE POSTED SPEED 112MPH IN ...</td>\n",
       "      <td>SPEED 46 PLUS OVER LIMIT</td>\n",
       "    </tr>\n",
       "    <tr>\n",
       "      <th>4</th>\n",
       "      <td>SPEEDING 15 MPH OVER IN A RESIDENTIAL AREA</td>\n",
       "      <td>SPEED 11-15 OVER LIMIT</td>\n",
       "    </tr>\n",
       "    <tr>\n",
       "      <th>5</th>\n",
       "      <td>SPEEDING 21+ MPH COUNTY/STATE</td>\n",
       "      <td>SPEED 21-25 OVER LIMIT</td>\n",
       "    </tr>\n",
       "    <tr>\n",
       "      <th>6</th>\n",
       "      <td>SPEEDING 86 MPH IN A 75 MPH ZONE</td>\n",
       "      <td>SPEED 11-15 OVER LIMIT</td>\n",
       "    </tr>\n",
       "    <tr>\n",
       "      <th>7</th>\n",
       "      <td>SPEEDING (CITY - NOT URBAN)</td>\n",
       "      <td>SPEED - GENERAL</td>\n",
       "    </tr>\n",
       "    <tr>\n",
       "      <th>8</th>\n",
       "      <td>SPEEDING MORE THAN 10 MPH (11-14)76/55</td>\n",
       "      <td>SPEED 21-25 OVER LIMIT</td>\n",
       "    </tr>\n",
       "    <tr>\n",
       "      <th>9</th>\n",
       "      <td>SPEEDING IN EXCESSS OF LAWFUL MAXIMUM LIMIT(S15)</td>\n",
       "      <td>SPEED - GENERAL</td>\n",
       "    </tr>\n",
       "    <tr>\n",
       "      <th>10</th>\n",
       "      <td>SPEEDING NEAR A CONSTRUCTION ZONE AT 48 MPH IN...</td>\n",
       "      <td>SPEED IN WORK ZONE</td>\n",
       "    </tr>\n",
       "    <tr>\n",
       "      <th>11</th>\n",
       "      <td>SPEEDING (1-10)-CDL ONLY 45 MPH IN A 35 MPH ZONE</td>\n",
       "      <td>SPEED 6-10 OVER LIMIT</td>\n",
       "    </tr>\n",
       "    <tr>\n",
       "      <th>12</th>\n",
       "      <td>SPEEDING 25 PLUS</td>\n",
       "      <td>SPEED - GENERAL</td>\n",
       "    </tr>\n",
       "  </tbody>\n",
       "</table>\n",
       "</div>"
      ],
      "text/plain": [
       "                                                 text  \\\n",
       "0                EXCEED POSTED SPEED/BRIDGE BY 13 MPH   \n",
       "1     SPEEDING IN SCHOOL ZONE 16 MPH IN A 20 MPH ZONE   \n",
       "2                                      SPEEDING 80/70   \n",
       "3   SPEEDING 10% ABOVE THE POSTED SPEED 112MPH IN ...   \n",
       "4          SPEEDING 15 MPH OVER IN A RESIDENTIAL AREA   \n",
       "5                       SPEEDING 21+ MPH COUNTY/STATE   \n",
       "6                    SPEEDING 86 MPH IN A 75 MPH ZONE   \n",
       "7                         SPEEDING (CITY - NOT URBAN)   \n",
       "8              SPEEDING MORE THAN 10 MPH (11-14)76/55   \n",
       "9    SPEEDING IN EXCESSS OF LAWFUL MAXIMUM LIMIT(S15)   \n",
       "10  SPEEDING NEAR A CONSTRUCTION ZONE AT 48 MPH IN...   \n",
       "11   SPEEDING (1-10)-CDL ONLY 45 MPH IN A 35 MPH ZONE   \n",
       "12                                   SPEEDING 25 PLUS   \n",
       "\n",
       "                ground_truth  \n",
       "0     SPEED 11-15 OVER LIMIT  \n",
       "1       SPEED IN SCHOOL ZONE  \n",
       "2      SPEED 6-10 OVER LIMIT  \n",
       "3   SPEED 46 PLUS OVER LIMIT  \n",
       "4     SPEED 11-15 OVER LIMIT  \n",
       "5     SPEED 21-25 OVER LIMIT  \n",
       "6     SPEED 11-15 OVER LIMIT  \n",
       "7            SPEED - GENERAL  \n",
       "8     SPEED 21-25 OVER LIMIT  \n",
       "9            SPEED - GENERAL  \n",
       "10        SPEED IN WORK ZONE  \n",
       "11     SPEED 6-10 OVER LIMIT  \n",
       "12           SPEED - GENERAL  "
      ]
     },
     "execution_count": 4,
     "metadata": {},
     "output_type": "execute_result"
    }
   ],
   "source": [
    "df"
   ]
  },
  {
   "cell_type": "code",
   "execution_count": null,
   "id": "b685b317-3474-4e27-96a2-7170345e006a",
   "metadata": {},
   "outputs": [],
   "source": []
  },
  {
   "cell_type": "code",
   "execution_count": 10,
   "id": "dedcb722-ebbc-49f4-a820-3c939f3970ac",
   "metadata": {},
   "outputs": [],
   "source": [
    "speeding_list = ['SPEED IN SCHOOL ZONE', \n",
    "    'SPEED IN WORK ZONE', \n",
    "    'SPEED LIMIT FOR TRUCKS AND BUSES', \n",
    "    'SPEED WHILE TOWING'\n",
    "    'SPEED 1-5 OVER LIMIT',\n",
    "    'SPEED 6-10 OVER LIMIT',\n",
    "    'SPEED 11-15 OVER LIMIT',\n",
    "    'SPEED 16-20 OVER LIMIT',\n",
    "    'SPEED 21-25 OVER LIMIT',\n",
    "    'SPEED 26-30 OVER LIMIT',\n",
    "    'SPEED 31-35 OVER LIMIT',\n",
    "    'SPEED 36-40 OVER LIMIT',\n",
    "    'SPEED 41-45 OVER LIMIT',\n",
    "    'SPEED 46 PLUS OVER LIMIT',\n",
    "    'SPEED OVER 29 MPH IN EXCESS',\n",
    "    'SPEED - GENERAL',\n",
    "    'SPEED GREATER THAN REASONABLE OR PRUDENT',\n",
    "    'DRIVE OVER MAXIMUM SPEED LIMIT',\n",
    "    'EXCESSIVE SPEED',\n",
    "    'SPECIAL SPEED LIMITATIONS',\n",
    "    'STATE SPEED ZONES AS NOTED BY SIGNS'\n",
    "    ]"
   ]
  },
  {
   "cell_type": "markdown",
   "id": "722ae97c-dbd1-45c3-b6b7-98f031b0adad",
   "metadata": {},
   "source": [
    "We instantiate Dataset that uses this pandas dataframe as a data source. Dataset object takes care of input data schema and data streaming:"
   ]
  },
  {
   "cell_type": "markdown",
   "id": "6a8d94f5-e9b8-4279-b48b-0a307d0c7724",
   "metadata": {},
   "source": [
    "## Create Agent\n",
    "To create Agent, we need to to define 2 things:\n",
    "\n",
    "Skills - Agent's abilities are defined as Skills. Each agent can possess many different skills. In our case, this agent only has one labeling skill, to produce a classification of SVC violation codes for a given piece of text. To define this skill, we will leverage an LLM, passing it instructions and the set of labeles we expect to receive back.\n",
    "\n",
    "Environment - that is where the Agent receives ground truth signal to improve its skill. Since we already created ground truth dataset, we can simply refer to the column from the dataframe. In the real world scenario, you may consider using a different environment where ground truth signal can be obtained asynchoronously by gathering real human feedback during agent's learning phase."
   ]
  },
  {
   "cell_type": "code",
   "execution_count": null,
   "id": "4db39d21-d7c9-4e3d-9b04-4d330264ab59",
   "metadata": {},
   "outputs": [],
   "source": []
  },
  {
   "cell_type": "code",
   "execution_count": 11,
   "id": "230bec93-1a23-40ee-a4cd-732a056cb603",
   "metadata": {},
   "outputs": [],
   "source": [
    "from adala.agents import Agent\n",
    "from adala.environments import StaticEnvironment\n",
    "from adala.skills import ClassificationSkill\n",
    "from adala.runtimes import OpenAIChatRuntime, GuidanceRuntime\n",
    "from rich import print"
   ]
  },
  {
   "cell_type": "code",
   "execution_count": 12,
   "id": "973be88b-8e92-4759-9a13-0ba80c83f1a8",
   "metadata": {},
   "outputs": [],
   "source": [
    "prompt = \"\"\"\n",
    "\n",
    "Your task is to classify each violation code into the correct category based on specific criteria. Consider the following instructions:\n",
    "\n",
    "1. If the violation description includes 'WORK ZONE' OR 'CONSTRUCTION ZONE', assign the label \"SPEED IN WORK ZONE.\" Apply the zone-specific labels regardless of mentions of numerical speeds like 1-10, 10-20, etc.\n",
    "\n",
    "2. If the violation description includes 'SCHOOL ZONE', assign the label \"SPEED IN SCHOOL ZONE.\" Apply the zone-specific labels regardless of mentions of numerical speeds like 1-10, 10-20, etc.\n",
    "\n",
    "3. For violations in the format 'SPEEDING X/Y,' deduce the excess amount (|X - Y|) to find the appropriate category range.  If the calculated excess falls within a specific range like Example: SPEEDING 80/70 excess is 10, hence label would be SPEED 6-10 OVER LIMIT because 10 is in the 6-10 range.\n",
    "\n",
    "4. For explicit speeds, such as 'SPEED X MPH IN A Y MPH ZONE,' calculate the excess as |X - Y| to determine the fitting category range. If the calculated excess is above 45, use the label \"SPEED 46 PLUS OVER LIMIT.\"\n",
    "\n",
    "5. Use the label 'SPEED - GENERAL' for violations with non-numerical descriptions or qualitative descriptions without specific speed details. Non-numerical descriptions mean that there is no mention of a range of speeds or quantifiable information regarding how much the speed exceeded by.\n",
    "\n",
    "Remember to provide the correct category label based on the specified criteria for each violation code.\n",
    "\"\"\""
   ]
  },
  {
   "cell_type": "code",
   "execution_count": 13,
   "id": "3a0b8bf6-4157-4475-88b1-04795756324a",
   "metadata": {},
   "outputs": [],
   "source": [
    "prompt = promptlayer.prompts.get(\"speeding_violation_catergorize\")['template']"
   ]
  },
  {
   "cell_type": "code",
   "execution_count": 14,
   "id": "1a1d2d94-03ae-4332-8cc5-2fe0cde097c2",
   "metadata": {},
   "outputs": [
    {
     "data": {
      "text/plain": [
       "'Your task is to classify each violation code into the correct category based on specific criteria. Consider the following instructions:\\n\\n1. If the violation description includes \\'WORK ZONE\\' OR \\'CONSTRUCTION ZONE\\', assign the label \"SPEED IN WORK ZONE.\" Apply the zone-specific labels regardless of mentions of numerical speeds like 1-10, 10-20, etc.\\n\\n2. If the violation description includes \\'SCHOOL ZONE\\', assign the label \"SPEED IN SCHOOL ZONE.\" Apply the zone-specific labels regardless of mentions of numerical speeds like 1-10, 10-20, etc.\\n\\n3. For violations in the format \\'SPEEDING X/Y,\\' deduce the excess amount (|X - Y|) to find the appropriate category range.  If the calculated excess falls within a specific range like Example: SPEEDING 80/70 excess is 10, hence label would be SPEED 6-10 OVER LIMIT because 10 is in the 6-10 range.\\n\\n4. For explicit speeds, such as \\'SPEED X MPH IN A Y MPH ZONE,\\' calculate the excess as |X - Y| to determine the fitting category range. If the calculated excess is above 45, use the label \"SPEED 46 PLUS OVER LIMIT.\"\\n\\n5. Use the label \\'SPEED - GENERAL\\' for violations with non-numerical descriptions or qualitative descriptions without specific speed details. Non-numerical descriptions mean that there is no mention of a range of speeds or quantifiable information regarding how much the speed exceeded by.\\n\\nRemember to provide the correct category label based on the specified criteria for each violation code.\\n'"
      ]
     },
     "execution_count": 14,
     "metadata": {},
     "output_type": "execute_result"
    }
   ],
   "source": [
    "prompt"
   ]
  },
  {
   "cell_type": "code",
   "execution_count": 15,
   "id": "63c0225d-44f8-4b5b-a0c9-f9deb424dcc5",
   "metadata": {},
   "outputs": [
    {
     "data": {
      "text/html": [
       "<pre style=\"white-space:pre;overflow-x:auto;line-height:normal;font-family:Menlo,'DejaVu Sans Mono',consolas,'Courier New',monospace\"><span style=\"color: #000080; text-decoration-color: #000080; font-weight: bold\">Agent Instance</span>\n",
       "\n",
       "Environment: StaticEnvironment\n",
       "Skills: speeding_violation_catergorize\n",
       "Runtimes: openai\n",
       "Default Runtime: openai\n",
       "Default Teacher Runtime: openai-gpt3\n",
       "</pre>\n"
      ],
      "text/plain": [
       "\u001b[1;34mAgent Instance\u001b[0m\n",
       "\n",
       "Environment: StaticEnvironment\n",
       "Skills: speeding_violation_catergorize\n",
       "Runtimes: openai\n",
       "Default Runtime: openai\n",
       "Default Teacher Runtime: openai-gpt3\n"
      ]
     },
     "metadata": {},
     "output_type": "display_data"
    }
   ],
   "source": [
    "agent = Agent(\n",
    "    # define the agent's labeling skill that should classify text onto 2 categories\n",
    "    skills=ClassificationSkill(\n",
    "        name='speeding_violation_catergorize',\n",
    "        description='Classify traffic violation codes based on the nature and severity of the speeding incident.',\n",
    "        instructions=prompt,\n",
    "        labels={'prediction': speeding_list},\n",
    "        input_template='Input: {text}',\n",
    "        output_template='Output: {prediction}'\n",
    "    ),\n",
    "    \n",
    "    # basic environment extracts ground truth signal from the input records\n",
    "    environment=StaticEnvironment(\n",
    "        df=df,\n",
    "        ground_truth_columns={'prediction': 'ground_truth'}\n",
    "    ),\n",
    "    \n",
    "    runtimes = {\n",
    "        'openai': GuidanceRuntime(),\n",
    "    },\n",
    "    default_runtime='openai',\n",
    "    \n",
    "    teacher_runtimes = {\n",
    "      'openai-gpt3': OpenAIChatRuntime(model='gpt-3.5-turbo'),\n",
    "      'openai-gpt4': OpenAIChatRuntime(model='gpt-3.5-turbo'),\n",
    "    },\n",
    "    \n",
    "    # NOTE! If you don't have an access to gpt4 - replace it with \"openai-gpt3\"\n",
    "    default_teacher_runtime='openai-gpt3'\n",
    ")\n",
    "\n",
    "print(agent)"
   ]
  },
  {
   "cell_type": "markdown",
   "id": "b14dc6b7-bee0-4051-b9d1-9c0e02bb2978",
   "metadata": {},
   "source": [
    "Learning Agent\n",
    "We will now let Agent learn from the ground truth. After every action, Agent returns its Experience, where it stores various observations like predicted data, errors, accuracy, etc."
   ]
  },
  {
   "cell_type": "code",
   "execution_count": null,
   "id": "b8d8e165-8976-4574-bb07-1eebeb59c9a2",
   "metadata": {},
   "outputs": [],
   "source": []
  },
  {
   "cell_type": "code",
   "execution_count": 206,
   "id": "9b58d730-61c4-4d90-bcda-f4fd75f5c48e",
   "metadata": {},
   "outputs": [
    {
     "data": {
      "text/html": [
       "<pre style=\"white-space:pre;overflow-x:auto;line-height:normal;font-family:Menlo,'DejaVu Sans Mono',consolas,'Courier New',monospace\">\n",
       "\n",
       "=&gt; Iteration #<span style=\"color: #008080; text-decoration-color: #008080; font-weight: bold\">0</span>: Getting feedback, analyzing and improving <span style=\"color: #808000; text-decoration-color: #808000\">...</span>\n",
       "</pre>\n"
      ],
      "text/plain": [
       "\n",
       "\n",
       "=> Iteration #\u001b[1;36m0\u001b[0m: Getting feedback, analyzing and improving \u001b[33m...\u001b[0m\n"
      ]
     },
     "metadata": {},
     "output_type": "display_data"
    },
    {
     "data": {
      "text/html": [
       "<pre style=\"white-space:pre;overflow-x:auto;line-height:normal;font-family:Menlo,'DejaVu Sans Mono',consolas,'Courier New',monospace\">Applying skill: speeding_violation_catergorize\n",
       "</pre>\n"
      ],
      "text/plain": [
       "Applying skill: speeding_violation_catergorize\n"
      ]
     },
     "metadata": {},
     "output_type": "display_data"
    },
    {
     "name": "stderr",
     "output_type": "stream",
     "text": [
      "  0%|                                                   | 0/13 [00:00<?, ?it/s]/Users/pranav/opt/anaconda3/envs/label/lib/python3.8/site-packages/guidance/library/_select.py:146: RuntimeWarning: divide by zero encountered in log\n",
      "  logprobs_out[k] = np.log(or_prob)\n",
      "100%|██████████████████████████████████████████| 13/13 [00:00<00:00, 26.82it/s]\n"
     ]
    },
    {
     "data": {
      "text/html": [
       "<pre style=\"white-space:pre;overflow-x:auto;line-height:normal;font-family:Menlo,'DejaVu Sans Mono',consolas,'Courier New',monospace\">Predictions and feedback:\n",
       "</pre>\n"
      ],
      "text/plain": [
       "Predictions and feedback:\n"
      ]
     },
     "metadata": {},
     "output_type": "display_data"
    },
    {
     "data": {
      "text/html": [
       "<pre style=\"white-space:pre;overflow-x:auto;line-height:normal;font-family:Menlo,'DejaVu Sans Mono',consolas,'Courier New',monospace\">                                                                                                                   \n",
       " <span style=\"color: #800080; text-decoration-color: #800080; font-weight: bold\"> prediction__fb         </span> <span style=\"color: #800080; text-decoration-color: #800080; font-weight: bold\"> text                             </span> <span style=\"color: #800080; text-decoration-color: #800080; font-weight: bold\"> ground_truth             </span> <span style=\"color: #800080; text-decoration-color: #800080; font-weight: bold\"> prediction               </span> \n",
       " ───────────────────────────────────────────────────────────────────────────────────────────────────────────────── \n",
       "  Prediction is correct.   EXCEED POSTED SPEED/BRIDGE BY 13   SPEED 11-15 OVER LIMIT     SPEED 11-15 OVER LIMIT    \n",
       "                           MPH                                                                                     \n",
       " <span style=\"color: #7f7f7f; text-decoration-color: #7f7f7f\"> Prediction is correct. </span> <span style=\"color: #7f7f7f; text-decoration-color: #7f7f7f\"> SPEEDING IN SCHOOL ZONE 16 MPH   </span> <span style=\"color: #7f7f7f; text-decoration-color: #7f7f7f\"> SPEED IN SCHOOL ZONE     </span> <span style=\"color: #7f7f7f; text-decoration-color: #7f7f7f\"> SPEED IN SCHOOL ZONE     </span> \n",
       " <span style=\"color: #7f7f7f; text-decoration-color: #7f7f7f\">                        </span> <span style=\"color: #7f7f7f; text-decoration-color: #7f7f7f\"> IN A 20 MPH ZONE                 </span> <span style=\"color: #7f7f7f; text-decoration-color: #7f7f7f\">                          </span> <span style=\"color: #7f7f7f; text-decoration-color: #7f7f7f\">                          </span> \n",
       "  Prediction is correct.   SPEEDING 80/70                     SPEED 6-10 OVER LIMIT      SPEED 6-10 OVER LIMIT     \n",
       " <span style=\"color: #7f7f7f; text-decoration-color: #7f7f7f\"> Prediction is correct. </span> <span style=\"color: #7f7f7f; text-decoration-color: #7f7f7f\"> SPEEDING 10% ABOVE THE POSTED    </span> <span style=\"color: #7f7f7f; text-decoration-color: #7f7f7f\"> SPEED 46 PLUS OVER LIMIT </span> <span style=\"color: #7f7f7f; text-decoration-color: #7f7f7f\"> SPEED 46 PLUS OVER LIMIT </span> \n",
       " <span style=\"color: #7f7f7f; text-decoration-color: #7f7f7f\">                        </span> <span style=\"color: #7f7f7f; text-decoration-color: #7f7f7f\"> SPEED 112MPH IN A 60 MPH ZONE    </span> <span style=\"color: #7f7f7f; text-decoration-color: #7f7f7f\">                          </span> <span style=\"color: #7f7f7f; text-decoration-color: #7f7f7f\">                          </span> \n",
       "  Prediction is correct.   SPEEDING 15 MPH OVER IN A          SPEED 11-15 OVER LIMIT     SPEED 11-15 OVER LIMIT    \n",
       "                           RESIDENTIAL AREA                                                                        \n",
       "                                                                                                                   \n",
       "</pre>\n"
      ],
      "text/plain": [
       "                                                                                                                   \n",
       " \u001b[1;35m \u001b[0m\u001b[1;35mprediction__fb        \u001b[0m\u001b[1;35m \u001b[0m \u001b[1;35m \u001b[0m\u001b[1;35mtext                            \u001b[0m\u001b[1;35m \u001b[0m \u001b[1;35m \u001b[0m\u001b[1;35mground_truth            \u001b[0m\u001b[1;35m \u001b[0m \u001b[1;35m \u001b[0m\u001b[1;35mprediction              \u001b[0m\u001b[1;35m \u001b[0m \n",
       " ───────────────────────────────────────────────────────────────────────────────────────────────────────────────── \n",
       "  Prediction is correct.   EXCEED POSTED SPEED/BRIDGE BY 13   SPEED 11-15 OVER LIMIT     SPEED 11-15 OVER LIMIT    \n",
       "                           MPH                                                                                     \n",
       " \u001b[2m \u001b[0m\u001b[2mPrediction is correct.\u001b[0m\u001b[2m \u001b[0m \u001b[2m \u001b[0m\u001b[2mSPEEDING IN SCHOOL ZONE 16 MPH  \u001b[0m\u001b[2m \u001b[0m \u001b[2m \u001b[0m\u001b[2mSPEED IN SCHOOL ZONE    \u001b[0m\u001b[2m \u001b[0m \u001b[2m \u001b[0m\u001b[2mSPEED IN SCHOOL ZONE    \u001b[0m\u001b[2m \u001b[0m \n",
       " \u001b[2m                        \u001b[0m \u001b[2m \u001b[0m\u001b[2mIN A 20 MPH ZONE                \u001b[0m\u001b[2m \u001b[0m \u001b[2m                          \u001b[0m \u001b[2m                          \u001b[0m \n",
       "  Prediction is correct.   SPEEDING 80/70                     SPEED 6-10 OVER LIMIT      SPEED 6-10 OVER LIMIT     \n",
       " \u001b[2m \u001b[0m\u001b[2mPrediction is correct.\u001b[0m\u001b[2m \u001b[0m \u001b[2m \u001b[0m\u001b[2mSPEEDING 10% ABOVE THE POSTED   \u001b[0m\u001b[2m \u001b[0m \u001b[2m \u001b[0m\u001b[2mSPEED 46 PLUS OVER LIMIT\u001b[0m\u001b[2m \u001b[0m \u001b[2m \u001b[0m\u001b[2mSPEED 46 PLUS OVER LIMIT\u001b[0m\u001b[2m \u001b[0m \n",
       " \u001b[2m                        \u001b[0m \u001b[2m \u001b[0m\u001b[2mSPEED 112MPH IN A 60 MPH ZONE   \u001b[0m\u001b[2m \u001b[0m \u001b[2m                          \u001b[0m \u001b[2m                          \u001b[0m \n",
       "  Prediction is correct.   SPEEDING 15 MPH OVER IN A          SPEED 11-15 OVER LIMIT     SPEED 11-15 OVER LIMIT    \n",
       "                           RESIDENTIAL AREA                                                                        \n",
       "                                                                                                                   \n"
      ]
     },
     "metadata": {},
     "output_type": "display_data"
    },
    {
     "data": {
      "text/html": [
       "<pre style=\"white-space:pre;overflow-x:auto;line-height:normal;font-family:Menlo,'DejaVu Sans Mono',consolas,'Courier New',monospace\">No errors found!\n",
       "</pre>\n"
      ],
      "text/plain": [
       "No errors found!\n"
      ]
     },
     "metadata": {},
     "output_type": "display_data"
    },
    {
     "data": {
      "text/html": [
       "<pre style=\"white-space:pre;overflow-x:auto;line-height:normal;font-family:Menlo,'DejaVu Sans Mono',consolas,'Courier New',monospace\">\n",
       "\n",
       "=&gt; Iteration #<span style=\"color: #008080; text-decoration-color: #008080; font-weight: bold\">1</span>: Getting feedback, analyzing and improving <span style=\"color: #808000; text-decoration-color: #808000\">...</span>\n",
       "</pre>\n"
      ],
      "text/plain": [
       "\n",
       "\n",
       "=> Iteration #\u001b[1;36m1\u001b[0m: Getting feedback, analyzing and improving \u001b[33m...\u001b[0m\n"
      ]
     },
     "metadata": {},
     "output_type": "display_data"
    },
    {
     "data": {
      "text/html": [
       "<pre style=\"white-space:pre;overflow-x:auto;line-height:normal;font-family:Menlo,'DejaVu Sans Mono',consolas,'Courier New',monospace\">Applying skill: speeding_violation_catergorize\n",
       "</pre>\n"
      ],
      "text/plain": [
       "Applying skill: speeding_violation_catergorize\n"
      ]
     },
     "metadata": {},
     "output_type": "display_data"
    },
    {
     "name": "stderr",
     "output_type": "stream",
     "text": [
      "  0%|                                                   | 0/13 [00:00<?, ?it/s]/Users/pranav/opt/anaconda3/envs/label/lib/python3.8/site-packages/guidance/library/_select.py:146: RuntimeWarning: divide by zero encountered in log\n",
      "  logprobs_out[k] = np.log(or_prob)\n",
      "100%|██████████████████████████████████████████| 13/13 [00:00<00:00, 28.86it/s]\n"
     ]
    },
    {
     "data": {
      "text/html": [
       "<pre style=\"white-space:pre;overflow-x:auto;line-height:normal;font-family:Menlo,'DejaVu Sans Mono',consolas,'Courier New',monospace\">Predictions and feedback:\n",
       "</pre>\n"
      ],
      "text/plain": [
       "Predictions and feedback:\n"
      ]
     },
     "metadata": {},
     "output_type": "display_data"
    },
    {
     "data": {
      "text/html": [
       "<pre style=\"white-space:pre;overflow-x:auto;line-height:normal;font-family:Menlo,'DejaVu Sans Mono',consolas,'Courier New',monospace\">                                                                                                                   \n",
       " <span style=\"color: #800080; text-decoration-color: #800080; font-weight: bold\"> prediction__fb         </span> <span style=\"color: #800080; text-decoration-color: #800080; font-weight: bold\"> text                             </span> <span style=\"color: #800080; text-decoration-color: #800080; font-weight: bold\"> ground_truth             </span> <span style=\"color: #800080; text-decoration-color: #800080; font-weight: bold\"> prediction               </span> \n",
       " ───────────────────────────────────────────────────────────────────────────────────────────────────────────────── \n",
       "  Prediction is correct.   EXCEED POSTED SPEED/BRIDGE BY 13   SPEED 11-15 OVER LIMIT     SPEED 11-15 OVER LIMIT    \n",
       "                           MPH                                                                                     \n",
       " <span style=\"color: #7f7f7f; text-decoration-color: #7f7f7f\"> Prediction is correct. </span> <span style=\"color: #7f7f7f; text-decoration-color: #7f7f7f\"> SPEEDING IN SCHOOL ZONE 16 MPH   </span> <span style=\"color: #7f7f7f; text-decoration-color: #7f7f7f\"> SPEED IN SCHOOL ZONE     </span> <span style=\"color: #7f7f7f; text-decoration-color: #7f7f7f\"> SPEED IN SCHOOL ZONE     </span> \n",
       " <span style=\"color: #7f7f7f; text-decoration-color: #7f7f7f\">                        </span> <span style=\"color: #7f7f7f; text-decoration-color: #7f7f7f\"> IN A 20 MPH ZONE                 </span> <span style=\"color: #7f7f7f; text-decoration-color: #7f7f7f\">                          </span> <span style=\"color: #7f7f7f; text-decoration-color: #7f7f7f\">                          </span> \n",
       "  Prediction is correct.   SPEEDING 80/70                     SPEED 6-10 OVER LIMIT      SPEED 6-10 OVER LIMIT     \n",
       " <span style=\"color: #7f7f7f; text-decoration-color: #7f7f7f\"> Prediction is correct. </span> <span style=\"color: #7f7f7f; text-decoration-color: #7f7f7f\"> SPEEDING 10% ABOVE THE POSTED    </span> <span style=\"color: #7f7f7f; text-decoration-color: #7f7f7f\"> SPEED 46 PLUS OVER LIMIT </span> <span style=\"color: #7f7f7f; text-decoration-color: #7f7f7f\"> SPEED 46 PLUS OVER LIMIT </span> \n",
       " <span style=\"color: #7f7f7f; text-decoration-color: #7f7f7f\">                        </span> <span style=\"color: #7f7f7f; text-decoration-color: #7f7f7f\"> SPEED 112MPH IN A 60 MPH ZONE    </span> <span style=\"color: #7f7f7f; text-decoration-color: #7f7f7f\">                          </span> <span style=\"color: #7f7f7f; text-decoration-color: #7f7f7f\">                          </span> \n",
       "  Prediction is correct.   SPEEDING 15 MPH OVER IN A          SPEED 11-15 OVER LIMIT     SPEED 11-15 OVER LIMIT    \n",
       "                           RESIDENTIAL AREA                                                                        \n",
       "                                                                                                                   \n",
       "</pre>\n"
      ],
      "text/plain": [
       "                                                                                                                   \n",
       " \u001b[1;35m \u001b[0m\u001b[1;35mprediction__fb        \u001b[0m\u001b[1;35m \u001b[0m \u001b[1;35m \u001b[0m\u001b[1;35mtext                            \u001b[0m\u001b[1;35m \u001b[0m \u001b[1;35m \u001b[0m\u001b[1;35mground_truth            \u001b[0m\u001b[1;35m \u001b[0m \u001b[1;35m \u001b[0m\u001b[1;35mprediction              \u001b[0m\u001b[1;35m \u001b[0m \n",
       " ───────────────────────────────────────────────────────────────────────────────────────────────────────────────── \n",
       "  Prediction is correct.   EXCEED POSTED SPEED/BRIDGE BY 13   SPEED 11-15 OVER LIMIT     SPEED 11-15 OVER LIMIT    \n",
       "                           MPH                                                                                     \n",
       " \u001b[2m \u001b[0m\u001b[2mPrediction is correct.\u001b[0m\u001b[2m \u001b[0m \u001b[2m \u001b[0m\u001b[2mSPEEDING IN SCHOOL ZONE 16 MPH  \u001b[0m\u001b[2m \u001b[0m \u001b[2m \u001b[0m\u001b[2mSPEED IN SCHOOL ZONE    \u001b[0m\u001b[2m \u001b[0m \u001b[2m \u001b[0m\u001b[2mSPEED IN SCHOOL ZONE    \u001b[0m\u001b[2m \u001b[0m \n",
       " \u001b[2m                        \u001b[0m \u001b[2m \u001b[0m\u001b[2mIN A 20 MPH ZONE                \u001b[0m\u001b[2m \u001b[0m \u001b[2m                          \u001b[0m \u001b[2m                          \u001b[0m \n",
       "  Prediction is correct.   SPEEDING 80/70                     SPEED 6-10 OVER LIMIT      SPEED 6-10 OVER LIMIT     \n",
       " \u001b[2m \u001b[0m\u001b[2mPrediction is correct.\u001b[0m\u001b[2m \u001b[0m \u001b[2m \u001b[0m\u001b[2mSPEEDING 10% ABOVE THE POSTED   \u001b[0m\u001b[2m \u001b[0m \u001b[2m \u001b[0m\u001b[2mSPEED 46 PLUS OVER LIMIT\u001b[0m\u001b[2m \u001b[0m \u001b[2m \u001b[0m\u001b[2mSPEED 46 PLUS OVER LIMIT\u001b[0m\u001b[2m \u001b[0m \n",
       " \u001b[2m                        \u001b[0m \u001b[2m \u001b[0m\u001b[2mSPEED 112MPH IN A 60 MPH ZONE   \u001b[0m\u001b[2m \u001b[0m \u001b[2m                          \u001b[0m \u001b[2m                          \u001b[0m \n",
       "  Prediction is correct.   SPEEDING 15 MPH OVER IN A          SPEED 11-15 OVER LIMIT     SPEED 11-15 OVER LIMIT    \n",
       "                           RESIDENTIAL AREA                                                                        \n",
       "                                                                                                                   \n"
      ]
     },
     "metadata": {},
     "output_type": "display_data"
    },
    {
     "data": {
      "text/html": [
       "<pre style=\"white-space:pre;overflow-x:auto;line-height:normal;font-family:Menlo,'DejaVu Sans Mono',consolas,'Courier New',monospace\">No errors found!\n",
       "</pre>\n"
      ],
      "text/plain": [
       "No errors found!\n"
      ]
     },
     "metadata": {},
     "output_type": "display_data"
    },
    {
     "data": {
      "text/html": [
       "<pre style=\"white-space:pre;overflow-x:auto;line-height:normal;font-family:Menlo,'DejaVu Sans Mono',consolas,'Courier New',monospace\">\n",
       "\n",
       "=&gt; Iteration #<span style=\"color: #008080; text-decoration-color: #008080; font-weight: bold\">2</span>: Getting feedback, analyzing and improving <span style=\"color: #808000; text-decoration-color: #808000\">...</span>\n",
       "</pre>\n"
      ],
      "text/plain": [
       "\n",
       "\n",
       "=> Iteration #\u001b[1;36m2\u001b[0m: Getting feedback, analyzing and improving \u001b[33m...\u001b[0m\n"
      ]
     },
     "metadata": {},
     "output_type": "display_data"
    },
    {
     "data": {
      "text/html": [
       "<pre style=\"white-space:pre;overflow-x:auto;line-height:normal;font-family:Menlo,'DejaVu Sans Mono',consolas,'Courier New',monospace\">Applying skill: speeding_violation_catergorize\n",
       "</pre>\n"
      ],
      "text/plain": [
       "Applying skill: speeding_violation_catergorize\n"
      ]
     },
     "metadata": {},
     "output_type": "display_data"
    },
    {
     "name": "stderr",
     "output_type": "stream",
     "text": [
      "  0%|                                                   | 0/13 [00:00<?, ?it/s]/Users/pranav/opt/anaconda3/envs/label/lib/python3.8/site-packages/guidance/library/_select.py:146: RuntimeWarning: divide by zero encountered in log\n",
      "  logprobs_out[k] = np.log(or_prob)\n",
      "100%|██████████████████████████████████████████| 13/13 [00:00<00:00, 27.02it/s]\n"
     ]
    },
    {
     "data": {
      "text/html": [
       "<pre style=\"white-space:pre;overflow-x:auto;line-height:normal;font-family:Menlo,'DejaVu Sans Mono',consolas,'Courier New',monospace\">Predictions and feedback:\n",
       "</pre>\n"
      ],
      "text/plain": [
       "Predictions and feedback:\n"
      ]
     },
     "metadata": {},
     "output_type": "display_data"
    },
    {
     "data": {
      "text/html": [
       "<pre style=\"white-space:pre;overflow-x:auto;line-height:normal;font-family:Menlo,'DejaVu Sans Mono',consolas,'Courier New',monospace\">                                                                                                                   \n",
       " <span style=\"color: #800080; text-decoration-color: #800080; font-weight: bold\"> prediction__fb         </span> <span style=\"color: #800080; text-decoration-color: #800080; font-weight: bold\"> text                             </span> <span style=\"color: #800080; text-decoration-color: #800080; font-weight: bold\"> ground_truth             </span> <span style=\"color: #800080; text-decoration-color: #800080; font-weight: bold\"> prediction               </span> \n",
       " ───────────────────────────────────────────────────────────────────────────────────────────────────────────────── \n",
       "  Prediction is correct.   EXCEED POSTED SPEED/BRIDGE BY 13   SPEED 11-15 OVER LIMIT     SPEED 11-15 OVER LIMIT    \n",
       "                           MPH                                                                                     \n",
       " <span style=\"color: #7f7f7f; text-decoration-color: #7f7f7f\"> Prediction is correct. </span> <span style=\"color: #7f7f7f; text-decoration-color: #7f7f7f\"> SPEEDING IN SCHOOL ZONE 16 MPH   </span> <span style=\"color: #7f7f7f; text-decoration-color: #7f7f7f\"> SPEED IN SCHOOL ZONE     </span> <span style=\"color: #7f7f7f; text-decoration-color: #7f7f7f\"> SPEED IN SCHOOL ZONE     </span> \n",
       " <span style=\"color: #7f7f7f; text-decoration-color: #7f7f7f\">                        </span> <span style=\"color: #7f7f7f; text-decoration-color: #7f7f7f\"> IN A 20 MPH ZONE                 </span> <span style=\"color: #7f7f7f; text-decoration-color: #7f7f7f\">                          </span> <span style=\"color: #7f7f7f; text-decoration-color: #7f7f7f\">                          </span> \n",
       "  Prediction is correct.   SPEEDING 80/70                     SPEED 6-10 OVER LIMIT      SPEED 6-10 OVER LIMIT     \n",
       " <span style=\"color: #7f7f7f; text-decoration-color: #7f7f7f\"> Prediction is correct. </span> <span style=\"color: #7f7f7f; text-decoration-color: #7f7f7f\"> SPEEDING 10% ABOVE THE POSTED    </span> <span style=\"color: #7f7f7f; text-decoration-color: #7f7f7f\"> SPEED 46 PLUS OVER LIMIT </span> <span style=\"color: #7f7f7f; text-decoration-color: #7f7f7f\"> SPEED 46 PLUS OVER LIMIT </span> \n",
       " <span style=\"color: #7f7f7f; text-decoration-color: #7f7f7f\">                        </span> <span style=\"color: #7f7f7f; text-decoration-color: #7f7f7f\"> SPEED 112MPH IN A 60 MPH ZONE    </span> <span style=\"color: #7f7f7f; text-decoration-color: #7f7f7f\">                          </span> <span style=\"color: #7f7f7f; text-decoration-color: #7f7f7f\">                          </span> \n",
       "  Prediction is correct.   SPEEDING 15 MPH OVER IN A          SPEED 11-15 OVER LIMIT     SPEED 11-15 OVER LIMIT    \n",
       "                           RESIDENTIAL AREA                                                                        \n",
       "                                                                                                                   \n",
       "</pre>\n"
      ],
      "text/plain": [
       "                                                                                                                   \n",
       " \u001b[1;35m \u001b[0m\u001b[1;35mprediction__fb        \u001b[0m\u001b[1;35m \u001b[0m \u001b[1;35m \u001b[0m\u001b[1;35mtext                            \u001b[0m\u001b[1;35m \u001b[0m \u001b[1;35m \u001b[0m\u001b[1;35mground_truth            \u001b[0m\u001b[1;35m \u001b[0m \u001b[1;35m \u001b[0m\u001b[1;35mprediction              \u001b[0m\u001b[1;35m \u001b[0m \n",
       " ───────────────────────────────────────────────────────────────────────────────────────────────────────────────── \n",
       "  Prediction is correct.   EXCEED POSTED SPEED/BRIDGE BY 13   SPEED 11-15 OVER LIMIT     SPEED 11-15 OVER LIMIT    \n",
       "                           MPH                                                                                     \n",
       " \u001b[2m \u001b[0m\u001b[2mPrediction is correct.\u001b[0m\u001b[2m \u001b[0m \u001b[2m \u001b[0m\u001b[2mSPEEDING IN SCHOOL ZONE 16 MPH  \u001b[0m\u001b[2m \u001b[0m \u001b[2m \u001b[0m\u001b[2mSPEED IN SCHOOL ZONE    \u001b[0m\u001b[2m \u001b[0m \u001b[2m \u001b[0m\u001b[2mSPEED IN SCHOOL ZONE    \u001b[0m\u001b[2m \u001b[0m \n",
       " \u001b[2m                        \u001b[0m \u001b[2m \u001b[0m\u001b[2mIN A 20 MPH ZONE                \u001b[0m\u001b[2m \u001b[0m \u001b[2m                          \u001b[0m \u001b[2m                          \u001b[0m \n",
       "  Prediction is correct.   SPEEDING 80/70                     SPEED 6-10 OVER LIMIT      SPEED 6-10 OVER LIMIT     \n",
       " \u001b[2m \u001b[0m\u001b[2mPrediction is correct.\u001b[0m\u001b[2m \u001b[0m \u001b[2m \u001b[0m\u001b[2mSPEEDING 10% ABOVE THE POSTED   \u001b[0m\u001b[2m \u001b[0m \u001b[2m \u001b[0m\u001b[2mSPEED 46 PLUS OVER LIMIT\u001b[0m\u001b[2m \u001b[0m \u001b[2m \u001b[0m\u001b[2mSPEED 46 PLUS OVER LIMIT\u001b[0m\u001b[2m \u001b[0m \n",
       " \u001b[2m                        \u001b[0m \u001b[2m \u001b[0m\u001b[2mSPEED 112MPH IN A 60 MPH ZONE   \u001b[0m\u001b[2m \u001b[0m \u001b[2m                          \u001b[0m \u001b[2m                          \u001b[0m \n",
       "  Prediction is correct.   SPEEDING 15 MPH OVER IN A          SPEED 11-15 OVER LIMIT     SPEED 11-15 OVER LIMIT    \n",
       "                           RESIDENTIAL AREA                                                                        \n",
       "                                                                                                                   \n"
      ]
     },
     "metadata": {},
     "output_type": "display_data"
    },
    {
     "data": {
      "text/html": [
       "<pre style=\"white-space:pre;overflow-x:auto;line-height:normal;font-family:Menlo,'DejaVu Sans Mono',consolas,'Courier New',monospace\">No errors found!\n",
       "</pre>\n"
      ],
      "text/plain": [
       "No errors found!\n"
      ]
     },
     "metadata": {},
     "output_type": "display_data"
    },
    {
     "data": {
      "text/html": [
       "<pre style=\"white-space:pre;overflow-x:auto;line-height:normal;font-family:Menlo,'DejaVu Sans Mono',consolas,'Courier New',monospace\">Train is done!\n",
       "</pre>\n"
      ],
      "text/plain": [
       "Train is done!\n"
      ]
     },
     "metadata": {},
     "output_type": "display_data"
    }
   ],
   "source": [
    "ground_truth_signal = agent.learn(learning_iterations=3, accuracy_threshold=0.90)"
   ]
  },
  {
   "cell_type": "code",
   "execution_count": null,
   "id": "e3cb1aab-8758-4607-8474-27eecabaa1ed",
   "metadata": {},
   "outputs": [],
   "source": []
  },
  {
   "cell_type": "code",
   "execution_count": null,
   "id": "9aace926-82b3-47a8-ab0e-248037e15454",
   "metadata": {},
   "outputs": [],
   "source": []
  },
  {
   "cell_type": "code",
   "execution_count": null,
   "id": "efc63aa4-1d32-4f65-8c53-f1b0a5a924d6",
   "metadata": {},
   "outputs": [],
   "source": []
  },
  {
   "cell_type": "code",
   "execution_count": 193,
   "id": "445c6f3f-18fb-44f6-a634-e9ac9dc3665b",
   "metadata": {},
   "outputs": [],
   "source": [
    "test_df = pd.DataFrame([\n",
    "    \"SPEEDING 45 IN A 25 MPH RESIDENTIAL ZONE\",\n",
    "    \"SPEEDING 88 IN A 55 MPH HIGHWAY ZONE\",\n",
    "    \"SPEEDING 25 MPH PLUS\",\n",
    "    \"SPEEDING 50/35 IN DOWNTOWN TRAFFIC\",\n",
    "    \"SPEEDING AT 95 MPH IN A 65 MPH INTERSTATE ZONE\"\n",
    "], columns=['text'])\n"
   ]
  },
  {
   "cell_type": "code",
   "execution_count": 194,
   "id": "3a8a45ec-46ab-425e-b347-5e3e7bdd2e65",
   "metadata": {},
   "outputs": [
    {
     "data": {
      "text/html": [
       "<div>\n",
       "<style scoped>\n",
       "    .dataframe tbody tr th:only-of-type {\n",
       "        vertical-align: middle;\n",
       "    }\n",
       "\n",
       "    .dataframe tbody tr th {\n",
       "        vertical-align: top;\n",
       "    }\n",
       "\n",
       "    .dataframe thead th {\n",
       "        text-align: right;\n",
       "    }\n",
       "</style>\n",
       "<table border=\"1\" class=\"dataframe\">\n",
       "  <thead>\n",
       "    <tr style=\"text-align: right;\">\n",
       "      <th></th>\n",
       "      <th>text</th>\n",
       "    </tr>\n",
       "  </thead>\n",
       "  <tbody>\n",
       "    <tr>\n",
       "      <th>0</th>\n",
       "      <td>SPEEDING 45 IN A 25 MPH RESIDENTIAL ZONE</td>\n",
       "    </tr>\n",
       "    <tr>\n",
       "      <th>1</th>\n",
       "      <td>SPEEDING 88 IN A 55 MPH HIGHWAY ZONE</td>\n",
       "    </tr>\n",
       "    <tr>\n",
       "      <th>2</th>\n",
       "      <td>SPEEDING 25 MPH PLUS</td>\n",
       "    </tr>\n",
       "    <tr>\n",
       "      <th>3</th>\n",
       "      <td>SPEEDING 50/35 IN DOWNTOWN TRAFFIC</td>\n",
       "    </tr>\n",
       "    <tr>\n",
       "      <th>4</th>\n",
       "      <td>SPEEDING AT 95 MPH IN A 65 MPH INTERSTATE ZONE</td>\n",
       "    </tr>\n",
       "  </tbody>\n",
       "</table>\n",
       "</div>"
      ],
      "text/plain": [
       "                                             text\n",
       "0        SPEEDING 45 IN A 25 MPH RESIDENTIAL ZONE\n",
       "1            SPEEDING 88 IN A 55 MPH HIGHWAY ZONE\n",
       "2                            SPEEDING 25 MPH PLUS\n",
       "3              SPEEDING 50/35 IN DOWNTOWN TRAFFIC\n",
       "4  SPEEDING AT 95 MPH IN A 65 MPH INTERSTATE ZONE"
      ]
     },
     "execution_count": 194,
     "metadata": {},
     "output_type": "execute_result"
    }
   ],
   "source": [
    "test_df"
   ]
  },
  {
   "cell_type": "code",
   "execution_count": 207,
   "id": "e2898c17-d718-4d2d-bce2-dd5c00ed8230",
   "metadata": {},
   "outputs": [
    {
     "data": {
      "text/html": [
       "<pre style=\"white-space:pre;overflow-x:auto;line-height:normal;font-family:Menlo,'DejaVu Sans Mono',consolas,'Courier New',monospace\">Applying skill: speeding_violation_catergorize\n",
       "</pre>\n"
      ],
      "text/plain": [
       "Applying skill: speeding_violation_catergorize\n"
      ]
     },
     "metadata": {},
     "output_type": "display_data"
    },
    {
     "name": "stderr",
     "output_type": "stream",
     "text": [
      "  0%|                                                    | 0/5 [00:00<?, ?it/s]/Users/pranav/opt/anaconda3/envs/label/lib/python3.8/site-packages/guidance/library/_select.py:146: RuntimeWarning: divide by zero encountered in log\n",
      "  logprobs_out[k] = np.log(or_prob)\n",
      "100%|████████████████████████████████████████████| 5/5 [00:00<00:00, 26.06it/s]\n"
     ]
    }
   ],
   "source": [
    "predictions = agent.run(test_df)\n"
   ]
  },
  {
   "cell_type": "code",
   "execution_count": 163,
   "id": "8973ada0-f564-4c71-9b1a-83ec730c903d",
   "metadata": {},
   "outputs": [
    {
     "data": {
      "text/html": [
       "<div>\n",
       "<style scoped>\n",
       "    .dataframe tbody tr th:only-of-type {\n",
       "        vertical-align: middle;\n",
       "    }\n",
       "\n",
       "    .dataframe tbody tr th {\n",
       "        vertical-align: top;\n",
       "    }\n",
       "\n",
       "    .dataframe thead th {\n",
       "        text-align: right;\n",
       "    }\n",
       "</style>\n",
       "<table border=\"1\" class=\"dataframe\">\n",
       "  <thead>\n",
       "    <tr style=\"text-align: right;\">\n",
       "      <th></th>\n",
       "      <th>text</th>\n",
       "      <th>prediction</th>\n",
       "    </tr>\n",
       "  </thead>\n",
       "  <tbody>\n",
       "    <tr>\n",
       "      <th>0</th>\n",
       "      <td>SPEEDING 45 IN A 25 MPH RESIDENTIAL ZONE</td>\n",
       "      <td>SPEED 20 PLUS OVER LIMIT</td>\n",
       "    </tr>\n",
       "    <tr>\n",
       "      <th>1</th>\n",
       "      <td>SPEEDING 88 IN A 55 MPH HIGHWAY ZONE</td>\n",
       "      <td>SPEED 31 PLUS OVER LIMIT</td>\n",
       "    </tr>\n",
       "    <tr>\n",
       "      <th>2</th>\n",
       "      <td>SPEEDING 25 PLUS</td>\n",
       "      <td>SPEED 25 PLUS OVER LIMIT</td>\n",
       "    </tr>\n",
       "    <tr>\n",
       "      <th>3</th>\n",
       "      <td>SPEEDING 50/35 IN DOWNTOWN TRAFFIC</td>\n",
       "      <td>SPEED 15 PLUS OVER LIMIT</td>\n",
       "    </tr>\n",
       "    <tr>\n",
       "      <th>4</th>\n",
       "      <td>SPEEDING AT 95 MPH IN A 65 MPH INTERSTATE ZONE</td>\n",
       "      <td>SPEED 31 PLUS OVER LIMIT</td>\n",
       "    </tr>\n",
       "  </tbody>\n",
       "</table>\n",
       "</div>"
      ],
      "text/plain": [
       "                                             text                prediction\n",
       "0        SPEEDING 45 IN A 25 MPH RESIDENTIAL ZONE  SPEED 20 PLUS OVER LIMIT\n",
       "1            SPEEDING 88 IN A 55 MPH HIGHWAY ZONE  SPEED 31 PLUS OVER LIMIT\n",
       "2                                SPEEDING 25 PLUS  SPEED 25 PLUS OVER LIMIT\n",
       "3              SPEEDING 50/35 IN DOWNTOWN TRAFFIC  SPEED 15 PLUS OVER LIMIT\n",
       "4  SPEEDING AT 95 MPH IN A 65 MPH INTERSTATE ZONE  SPEED 31 PLUS OVER LIMIT"
      ]
     },
     "execution_count": 163,
     "metadata": {},
     "output_type": "execute_result"
    }
   ],
   "source": [
    "predictions"
   ]
  },
  {
   "cell_type": "code",
   "execution_count": 208,
   "id": "48e7fba2-cd8e-4de0-b498-abd06ee05325",
   "metadata": {},
   "outputs": [
    {
     "data": {
      "text/html": [
       "<div>\n",
       "<style scoped>\n",
       "    .dataframe tbody tr th:only-of-type {\n",
       "        vertical-align: middle;\n",
       "    }\n",
       "\n",
       "    .dataframe tbody tr th {\n",
       "        vertical-align: top;\n",
       "    }\n",
       "\n",
       "    .dataframe thead th {\n",
       "        text-align: right;\n",
       "    }\n",
       "</style>\n",
       "<table border=\"1\" class=\"dataframe\">\n",
       "  <thead>\n",
       "    <tr style=\"text-align: right;\">\n",
       "      <th></th>\n",
       "      <th>text</th>\n",
       "      <th>prediction</th>\n",
       "    </tr>\n",
       "  </thead>\n",
       "  <tbody>\n",
       "    <tr>\n",
       "      <th>0</th>\n",
       "      <td>SPEEDING 45 IN A 25 MPH RESIDENTIAL ZONE</td>\n",
       "      <td>SPEED 16-20 OVER LIMIT</td>\n",
       "    </tr>\n",
       "    <tr>\n",
       "      <th>1</th>\n",
       "      <td>SPEEDING 88 IN A 55 MPH HIGHWAY ZONE</td>\n",
       "      <td>SPEED 31-35 OVER LIMIT</td>\n",
       "    </tr>\n",
       "    <tr>\n",
       "      <th>2</th>\n",
       "      <td>SPEEDING 25 MPH PLUS</td>\n",
       "      <td>SPEED - GENERAL</td>\n",
       "    </tr>\n",
       "    <tr>\n",
       "      <th>3</th>\n",
       "      <td>SPEEDING 50/35 IN DOWNTOWN TRAFFIC</td>\n",
       "      <td>SPEED 16-20 OVER LIMIT</td>\n",
       "    </tr>\n",
       "    <tr>\n",
       "      <th>4</th>\n",
       "      <td>SPEEDING AT 95 MPH IN A 65 MPH INTERSTATE ZONE</td>\n",
       "      <td>SPEED 31-35 OVER LIMIT</td>\n",
       "    </tr>\n",
       "  </tbody>\n",
       "</table>\n",
       "</div>"
      ],
      "text/plain": [
       "                                             text              prediction\n",
       "0        SPEEDING 45 IN A 25 MPH RESIDENTIAL ZONE  SPEED 16-20 OVER LIMIT\n",
       "1            SPEEDING 88 IN A 55 MPH HIGHWAY ZONE  SPEED 31-35 OVER LIMIT\n",
       "2                            SPEEDING 25 MPH PLUS         SPEED - GENERAL\n",
       "3              SPEEDING 50/35 IN DOWNTOWN TRAFFIC  SPEED 16-20 OVER LIMIT\n",
       "4  SPEEDING AT 95 MPH IN A 65 MPH INTERSTATE ZONE  SPEED 31-35 OVER LIMIT"
      ]
     },
     "execution_count": 208,
     "metadata": {},
     "output_type": "execute_result"
    }
   ],
   "source": [
    "predictions"
   ]
  },
  {
   "cell_type": "markdown",
   "id": "3671b760-3b85-4c19-9e93-a7ac920b4135",
   "metadata": {},
   "source": [
    "## PROMPTS"
   ]
  },
  {
   "cell_type": "code",
   "execution_count": null,
   "id": "8d686ba9-06d6-4d68-9ca7-b040cd02c902",
   "metadata": {},
   "outputs": [],
   "source": []
  },
  {
   "cell_type": "code",
   "execution_count": null,
   "id": "cd3dd42f-0241-4814-a868-e3c84e913c5a",
   "metadata": {},
   "outputs": [],
   "source": []
  },
  {
   "cell_type": "code",
   "execution_count": null,
   "id": "9a7a8d6f-12a3-4898-8dc0-d7c4d5175de5",
   "metadata": {},
   "outputs": [],
   "source": []
  }
 ],
 "metadata": {
  "kernelspec": {
   "display_name": "Python 3 (ipykernel)",
   "language": "python",
   "name": "python3"
  },
  "language_info": {
   "codemirror_mode": {
    "name": "ipython",
    "version": 3
   },
   "file_extension": ".py",
   "mimetype": "text/x-python",
   "name": "python",
   "nbconvert_exporter": "python",
   "pygments_lexer": "ipython3",
   "version": "3.8.8"
  }
 },
 "nbformat": 4,
 "nbformat_minor": 5
}
