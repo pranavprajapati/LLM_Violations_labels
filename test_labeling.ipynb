{
 "cells": [
  {
   "cell_type": "code",
   "execution_count": 17,
   "id": "c93f8aac-4628-4ea2-8b32-cb744e038e90",
   "metadata": {},
   "outputs": [],
   "source": [
    "import pandas as pd\n"
   ]
  },
  {
   "cell_type": "code",
   "execution_count": null,
   "id": "49312f07-46a2-4d34-bf36-71fa23021616",
   "metadata": {},
   "outputs": [],
   "source": []
  },
  {
   "cell_type": "markdown",
   "id": "8f3c1faa-0c4e-4b18-b0c7-bf27f3b82c0d",
   "metadata": {},
   "source": [
    "## Dataset Creation\n",
    "\n",
    "First, let's use a dataset of violations stored in pandas dataframe. This will help us manage our data as we add more attributes, like predictions and labels for svc codes"
   ]
  },
  {
   "cell_type": "code",
   "execution_count": 34,
   "id": "1584be06-ed7f-4f52-9bc1-36acf1ff96cb",
   "metadata": {},
   "outputs": [],
   "source": [
    "df = pd.read_csv('speeding_violations_dataset.csv')"
   ]
  },
  {
   "cell_type": "code",
   "execution_count": 35,
   "id": "7d136af4-b4dd-40b9-b3f5-5af41ff5e456",
   "metadata": {},
   "outputs": [
    {
     "data": {
      "text/html": [
       "<div>\n",
       "<style scoped>\n",
       "    .dataframe tbody tr th:only-of-type {\n",
       "        vertical-align: middle;\n",
       "    }\n",
       "\n",
       "    .dataframe tbody tr th {\n",
       "        vertical-align: top;\n",
       "    }\n",
       "\n",
       "    .dataframe thead th {\n",
       "        text-align: right;\n",
       "    }\n",
       "</style>\n",
       "<table border=\"1\" class=\"dataframe\">\n",
       "  <thead>\n",
       "    <tr style=\"text-align: right;\">\n",
       "      <th></th>\n",
       "      <th>text</th>\n",
       "      <th>ground_truth</th>\n",
       "    </tr>\n",
       "  </thead>\n",
       "  <tbody>\n",
       "    <tr>\n",
       "      <th>0</th>\n",
       "      <td>EXCEED POSTED SPEED/BRIDGE BY 13 MPH</td>\n",
       "      <td>SPEED 11-15 OVER LIMIT</td>\n",
       "    </tr>\n",
       "    <tr>\n",
       "      <th>1</th>\n",
       "      <td>SPEEDING IN SCHOOL ZONE 16 MPH IN A 20 MPH ZONE</td>\n",
       "      <td>SPEED IN SCHOOL ZONE</td>\n",
       "    </tr>\n",
       "    <tr>\n",
       "      <th>2</th>\n",
       "      <td>SPEEDING 80/70</td>\n",
       "      <td>SPEED 6-10 OVER LIMIT</td>\n",
       "    </tr>\n",
       "    <tr>\n",
       "      <th>3</th>\n",
       "      <td>SPEEDING 10% ABOVE THE POSTED SPEED 112MPH IN ...</td>\n",
       "      <td>SPEED 46 PLUS OVER LIMIT</td>\n",
       "    </tr>\n",
       "    <tr>\n",
       "      <th>4</th>\n",
       "      <td>SPEEDING 15 MPH OVER IN A RESIDENTIAL AREA</td>\n",
       "      <td>SPEED 11-15 OVER LIMIT</td>\n",
       "    </tr>\n",
       "    <tr>\n",
       "      <th>5</th>\n",
       "      <td>SPEEDING 21+ MPH COUNTY/STATE</td>\n",
       "      <td>SPEED 21-25 OVER LIMIT</td>\n",
       "    </tr>\n",
       "    <tr>\n",
       "      <th>6</th>\n",
       "      <td>SPEEDING 86 MPH IN A 75 MPH ZONE</td>\n",
       "      <td>SPEED 11-15 OVER LIMIT</td>\n",
       "    </tr>\n",
       "    <tr>\n",
       "      <th>7</th>\n",
       "      <td>SPEEDING (CITY - NOT URBAN)</td>\n",
       "      <td>SPEED - GENERAL</td>\n",
       "    </tr>\n",
       "    <tr>\n",
       "      <th>8</th>\n",
       "      <td>SPEEDING MORE THAN 10 MPH (11-14)76/55</td>\n",
       "      <td>SPEED 21-25 OVER LIMIT</td>\n",
       "    </tr>\n",
       "    <tr>\n",
       "      <th>9</th>\n",
       "      <td>SPEEDING IN EXCESSS OF LAWFUL MAXIMUM LIMIT(S15)</td>\n",
       "      <td>SPEED - GENERAL</td>\n",
       "    </tr>\n",
       "    <tr>\n",
       "      <th>10</th>\n",
       "      <td>SPEEDING NEAR A CONSTRUCTION ZONE AT 48 MPH IN...</td>\n",
       "      <td>SPEED IN WORK ZONE</td>\n",
       "    </tr>\n",
       "    <tr>\n",
       "      <th>11</th>\n",
       "      <td>SPEEDING (1-10)-CDL ONLY 45 MPH IN A 35 MPH ZONE</td>\n",
       "      <td>SPEED 6-10 OVER LIMIT</td>\n",
       "    </tr>\n",
       "    <tr>\n",
       "      <th>12</th>\n",
       "      <td>SPEEDING 25 PLUS</td>\n",
       "      <td>SPEED 25 PLUS OVER LIMIT</td>\n",
       "    </tr>\n",
       "  </tbody>\n",
       "</table>\n",
       "</div>"
      ],
      "text/plain": [
       "                                                 text  \\\n",
       "0                EXCEED POSTED SPEED/BRIDGE BY 13 MPH   \n",
       "1     SPEEDING IN SCHOOL ZONE 16 MPH IN A 20 MPH ZONE   \n",
       "2                                      SPEEDING 80/70   \n",
       "3   SPEEDING 10% ABOVE THE POSTED SPEED 112MPH IN ...   \n",
       "4          SPEEDING 15 MPH OVER IN A RESIDENTIAL AREA   \n",
       "5                       SPEEDING 21+ MPH COUNTY/STATE   \n",
       "6                    SPEEDING 86 MPH IN A 75 MPH ZONE   \n",
       "7                         SPEEDING (CITY - NOT URBAN)   \n",
       "8              SPEEDING MORE THAN 10 MPH (11-14)76/55   \n",
       "9    SPEEDING IN EXCESSS OF LAWFUL MAXIMUM LIMIT(S15)   \n",
       "10  SPEEDING NEAR A CONSTRUCTION ZONE AT 48 MPH IN...   \n",
       "11   SPEEDING (1-10)-CDL ONLY 45 MPH IN A 35 MPH ZONE   \n",
       "12                                   SPEEDING 25 PLUS   \n",
       "\n",
       "                ground_truth  \n",
       "0     SPEED 11-15 OVER LIMIT  \n",
       "1       SPEED IN SCHOOL ZONE  \n",
       "2      SPEED 6-10 OVER LIMIT  \n",
       "3   SPEED 46 PLUS OVER LIMIT  \n",
       "4     SPEED 11-15 OVER LIMIT  \n",
       "5     SPEED 21-25 OVER LIMIT  \n",
       "6     SPEED 11-15 OVER LIMIT  \n",
       "7            SPEED - GENERAL  \n",
       "8     SPEED 21-25 OVER LIMIT  \n",
       "9            SPEED - GENERAL  \n",
       "10        SPEED IN WORK ZONE  \n",
       "11     SPEED 6-10 OVER LIMIT  \n",
       "12  SPEED 25 PLUS OVER LIMIT  "
      ]
     },
     "execution_count": 35,
     "metadata": {},
     "output_type": "execute_result"
    }
   ],
   "source": [
    "df"
   ]
  },
  {
   "cell_type": "code",
   "execution_count": null,
   "id": "b685b317-3474-4e27-96a2-7170345e006a",
   "metadata": {},
   "outputs": [],
   "source": []
  },
  {
   "cell_type": "code",
   "execution_count": 28,
   "id": "dedcb722-ebbc-49f4-a820-3c939f3970ac",
   "metadata": {},
   "outputs": [],
   "source": [
    "speeding_list = ['SPEED IN SCHOOL ZONE', \n",
    "    'SPEED IN WORK ZONE', \n",
    "    'SPEED LIMIT FOR TRUCKS AND BUSES', \n",
    "    'SPEED WHILE TOWING'\n",
    "    'SPEED 1-5 OVER LIMIT',\n",
    "    'SPEED 6-10 OVER LIMIT',\n",
    "    'SPEED 11-15 OVER LIMIT',\n",
    "    'SPEED 16-20 OVER LIMIT',\n",
    "    'SPEED 21-25 OVER LIMIT',\n",
    "    'SPEED 26-30 OVER LIMIT',\n",
    "    'SPEED 31-35 OVER LIMIT',\n",
    "    'SPEED 36-40 OVER LIMIT',\n",
    "    'SPEED 41-45 OVER LIMIT',\n",
    "                 'SPEED 25 PLUS OVER LIMIT',\n",
    "    'SPEED 46 PLUS OVER LIMIT',\n",
    "    'SPEED OVER 29 MPH IN EXCESS',\n",
    "    'SPEED - GENERAL',\n",
    "    'SPEED GREATER THAN REASONABLE OR PRUDENT',\n",
    "    'DRIVE OVER MAXIMUM SPEED LIMIT',\n",
    "    'EXCESSIVE SPEED',\n",
    "    'SPECIAL SPEED LIMITATIONS',\n",
    "    'STATE SPEED ZONES AS NOTED BY SIGNS'\n",
    "    ]"
   ]
  },
  {
   "cell_type": "markdown",
   "id": "722ae97c-dbd1-45c3-b6b7-98f031b0adad",
   "metadata": {},
   "source": [
    "We instantiate Dataset that uses this pandas dataframe as a data source. Dataset object takes care of input data schema and data streaming:"
   ]
  },
  {
   "cell_type": "markdown",
   "id": "6a8d94f5-e9b8-4279-b48b-0a307d0c7724",
   "metadata": {},
   "source": [
    "## Create Agent\n",
    "To create Agent, we need to to define 2 things:\n",
    "\n",
    "Skills - Agent's abilities are defined as Skills. Each agent can possess many different skills. In our case, this agent only has one labeling skill, to produce a classification of SVC violation codes for a given piece of text. To define this skill, we will leverage an LLM, passing it instructions and the set of labeles we expect to receive back.\n",
    "\n",
    "Environment - that is where the Agent receives ground truth signal to improve its skill. Since we already created ground truth dataset, we can simply refer to the column from the dataframe. In the real world scenario, you may consider using a different environment where ground truth signal can be obtained asynchoronously by gathering real human feedback during agent's learning phase."
   ]
  },
  {
   "cell_type": "code",
   "execution_count": null,
   "id": "4db39d21-d7c9-4e3d-9b04-4d330264ab59",
   "metadata": {},
   "outputs": [],
   "source": []
  },
  {
   "cell_type": "code",
   "execution_count": 29,
   "id": "230bec93-1a23-40ee-a4cd-732a056cb603",
   "metadata": {},
   "outputs": [],
   "source": [
    "from adala.agents import Agent\n",
    "from adala.environments import StaticEnvironment\n",
    "from adala.skills import ClassificationSkill\n",
    "from adala.runtimes import OpenAIChatRuntime, GuidanceRuntime\n",
    "from rich import print"
   ]
  },
  {
   "cell_type": "code",
   "execution_count": 37,
   "id": "973be88b-8e92-4759-9a13-0ba80c83f1a8",
   "metadata": {},
   "outputs": [],
   "source": [
    "prompt = \"\"\"\n",
    "\n",
    "Your task is to classify each violation code into the correct category based on specific criteria. Consider the following instructions:\n",
    "\n",
    "1. If the violation description includes 'WORK ZONE' OR 'CONSTRUCTION ZONE', assign the label \"SPEED IN WORK ZONE.\" Apply the zone-specific labels regardless of mentions of numerical speeds like 1-10, 10-20, etc.\n",
    "\n",
    "2. If the violation description includes 'SCHOOL ZONE', assign the label \"SPEED IN SCHOOL ZONE.\" Apply the zone-specific labels regardless of mentions of numerical speeds like 1-10, 10-20, etc.\n",
    "\n",
    "3. For violations in the format 'SPEEDING X/Y,' deduce the excess amount (|X - Y|) to find the appropriate category range.  If the calculated excess falls within a specific range like Example: SPEEDING 80/70 excess is 10, hence label would be SPEED 6-10 OVER LIMIT because 10 is in the 6-10 range.\n",
    "\n",
    "4. For explicit speeds, such as 'SPEED X MPH IN A Y MPH ZONE,' calculate the excess as |X - Y| to determine the fitting category range. If the calculated excess is above 45, use the label \"SPEED 46 PLUS OVER LIMIT.\"\n",
    "\n",
    "5. Use the label 'SPEED - GENERAL' for violations with non-numerical descriptions or qualitative descriptions without specific speed details. Non-numerical descriptions mean that there is no mention of a range of speeds or quantifiable information regarding how much the speed exceeded by.\n",
    "\n",
    "Remember to provide the correct category label based on the specified criteria for each violation code.\n",
    "\"\"\""
   ]
  },
  {
   "cell_type": "code",
   "execution_count": null,
   "id": "3a0b8bf6-4157-4475-88b1-04795756324a",
   "metadata": {},
   "outputs": [],
   "source": []
  },
  {
   "cell_type": "code",
   "execution_count": 38,
   "id": "1a1d2d94-03ae-4332-8cc5-2fe0cde097c2",
   "metadata": {},
   "outputs": [
    {
     "data": {
      "text/plain": [
       "'\\n\\nYour task is to classify each violation code into the correct category based on specific criteria. Consider the following instructions:\\n\\n1. If the violation description includes \\'WORK ZONE\\' OR \\'CONSTRUCTION ZONE\\', assign the label \"SPEED IN WORK ZONE.\" Apply the zone-specific labels regardless of mentions of numerical speeds like 1-10, 10-20, etc.\\n\\n2. If the violation description includes \\'SCHOOL ZONE\\', assign the label \"SPEED IN SCHOOL ZONE.\" Apply the zone-specific labels regardless of mentions of numerical speeds like 1-10, 10-20, etc.\\n\\n3. For violations in the format \\'SPEEDING X/Y,\\' deduce the excess amount (|X - Y|) to find the appropriate category range.  If the calculated excess falls within a specific range like Example: SPEEDING 80/70 excess is 10, hence label would be SPEED 6-10 OVER LIMIT because 10 is in the 6-10 range.\\n\\n4. For explicit speeds, such as \\'SPEED X MPH IN A Y MPH ZONE,\\' calculate the excess as |X - Y| to determine the fitting category range. If the calculated excess is above 45, use the label \"SPEED 46 PLUS OVER LIMIT.\"\\n\\n5. Use the label \\'SPEED - GENERAL\\' for violations with non-numerical descriptions or qualitative descriptions without specific speed details. Non-numerical descriptions mean that there is no mention of a range of speeds or quantifiable information regarding how much the speed exceeded by.\\n\\nRemember to provide the correct category label based on the specified criteria for each violation code.\\n'"
      ]
     },
     "execution_count": 38,
     "metadata": {},
     "output_type": "execute_result"
    }
   ],
   "source": [
    "prompt"
   ]
  },
  {
   "cell_type": "code",
   "execution_count": 39,
   "id": "63c0225d-44f8-4b5b-a0c9-f9deb424dcc5",
   "metadata": {},
   "outputs": [
    {
     "data": {
      "text/html": [
       "<pre style=\"white-space:pre;overflow-x:auto;line-height:normal;font-family:Menlo,'DejaVu Sans Mono',consolas,'Courier New',monospace\"><span style=\"color: #000080; text-decoration-color: #000080; font-weight: bold\">Agent Instance</span>\n",
       "\n",
       "Environment: StaticEnvironment\n",
       "Skills: speeding_violation_catergorize\n",
       "Runtimes: openai\n",
       "Default Runtime: openai\n",
       "Default Teacher Runtime: openai-gpt3\n",
       "</pre>\n"
      ],
      "text/plain": [
       "\u001b[1;34mAgent Instance\u001b[0m\n",
       "\n",
       "Environment: StaticEnvironment\n",
       "Skills: speeding_violation_catergorize\n",
       "Runtimes: openai\n",
       "Default Runtime: openai\n",
       "Default Teacher Runtime: openai-gpt3\n"
      ]
     },
     "metadata": {},
     "output_type": "display_data"
    }
   ],
   "source": [
    "agent = Agent(\n",
    "    # define the agent's labeling skill that should classify text onto 2 categories\n",
    "    skills=ClassificationSkill(\n",
    "        name='speeding_violation_catergorize',\n",
    "        description='Classify traffic violation codes based on the nature and severity of the speeding incident.',\n",
    "        instructions=prompt,\n",
    "        labels={'prediction': speeding_list},\n",
    "        input_template='Input: {text}',\n",
    "        output_template='Output: {prediction}'\n",
    "    ),\n",
    "    \n",
    "    # basic environment extracts ground truth signal from the input records\n",
    "    environment=StaticEnvironment(\n",
    "        df=df,\n",
    "        ground_truth_columns={'prediction': 'ground_truth'}\n",
    "    ),\n",
    "    \n",
    "    runtimes = {\n",
    "        'openai': GuidanceRuntime(),\n",
    "    },\n",
    "    default_runtime='openai',\n",
    "    \n",
    "    teacher_runtimes = {\n",
    "      'openai-gpt3': OpenAIChatRuntime(model='gpt-3.5-turbo'),\n",
    "      'openai-gpt4': OpenAIChatRuntime(model='gpt-3.5-turbo'),\n",
    "    },\n",
    "    \n",
    "    # NOTE! If you don't have an access to gpt4 - replace it with \"openai-gpt3\"\n",
    "    default_teacher_runtime='openai-gpt3'\n",
    ")\n",
    "\n",
    "print(agent)"
   ]
  },
  {
   "cell_type": "markdown",
   "id": "b14dc6b7-bee0-4051-b9d1-9c0e02bb2978",
   "metadata": {},
   "source": [
    "Learning Agent\n",
    "We will now let Agent learn from the ground truth. After every action, Agent returns its Experience, where it stores various observations like predicted data, errors, accuracy, etc."
   ]
  },
  {
   "cell_type": "code",
   "execution_count": null,
   "id": "b8d8e165-8976-4574-bb07-1eebeb59c9a2",
   "metadata": {},
   "outputs": [],
   "source": []
  },
  {
   "cell_type": "code",
   "execution_count": 206,
   "id": "9b58d730-61c4-4d90-bcda-f4fd75f5c48e",
   "metadata": {},
   "outputs": [
    {
     "data": {
      "text/html": [
       "<pre style=\"white-space:pre;overflow-x:auto;line-height:normal;font-family:Menlo,'DejaVu Sans Mono',consolas,'Courier New',monospace\">\n",
       "\n",
       "=&gt; Iteration #<span style=\"color: #008080; text-decoration-color: #008080; font-weight: bold\">0</span>: Getting feedback, analyzing and improving <span style=\"color: #808000; text-decoration-color: #808000\">...</span>\n",
       "</pre>\n"
      ],
      "text/plain": [
       "\n",
       "\n",
       "=> Iteration #\u001b[1;36m0\u001b[0m: Getting feedback, analyzing and improving \u001b[33m...\u001b[0m\n"
      ]
     },
     "metadata": {},
     "output_type": "display_data"
    },
    {
     "data": {
      "text/html": [
       "<pre style=\"white-space:pre;overflow-x:auto;line-height:normal;font-family:Menlo,'DejaVu Sans Mono',consolas,'Courier New',monospace\">Applying skill: speeding_violation_catergorize\n",
       "</pre>\n"
      ],
      "text/plain": [
       "Applying skill: speeding_violation_catergorize\n"
      ]
     },
     "metadata": {},
     "output_type": "display_data"
    },
    {
     "name": "stderr",
     "output_type": "stream",
     "text": [
      "  0%|                                                   | 0/13 [00:00<?, ?it/s]/Users/pranav/opt/anaconda3/envs/label/lib/python3.8/site-packages/guidance/library/_select.py:146: RuntimeWarning: divide by zero encountered in log\n",
      "  logprobs_out[k] = np.log(or_prob)\n",
      "100%|██████████████████████████████████████████| 13/13 [00:00<00:00, 26.82it/s]\n"
     ]
    },
    {
     "data": {
      "text/html": [
       "<pre style=\"white-space:pre;overflow-x:auto;line-height:normal;font-family:Menlo,'DejaVu Sans Mono',consolas,'Courier New',monospace\">Predictions and feedback:\n",
       "</pre>\n"
      ],
      "text/plain": [
       "Predictions and feedback:\n"
      ]
     },
     "metadata": {},
     "output_type": "display_data"
    },
    {
     "data": {
      "text/html": [
       "<pre style=\"white-space:pre;overflow-x:auto;line-height:normal;font-family:Menlo,'DejaVu Sans Mono',consolas,'Courier New',monospace\">                                                                                                                   \n",
       " <span style=\"color: #800080; text-decoration-color: #800080; font-weight: bold\"> prediction__fb         </span> <span style=\"color: #800080; text-decoration-color: #800080; font-weight: bold\"> text                             </span> <span style=\"color: #800080; text-decoration-color: #800080; font-weight: bold\"> ground_truth             </span> <span style=\"color: #800080; text-decoration-color: #800080; font-weight: bold\"> prediction               </span> \n",
       " ───────────────────────────────────────────────────────────────────────────────────────────────────────────────── \n",
       "  Prediction is correct.   EXCEED POSTED SPEED/BRIDGE BY 13   SPEED 11-15 OVER LIMIT     SPEED 11-15 OVER LIMIT    \n",
       "                           MPH                                                                                     \n",
       " <span style=\"color: #7f7f7f; text-decoration-color: #7f7f7f\"> Prediction is correct. </span> <span style=\"color: #7f7f7f; text-decoration-color: #7f7f7f\"> SPEEDING IN SCHOOL ZONE 16 MPH   </span> <span style=\"color: #7f7f7f; text-decoration-color: #7f7f7f\"> SPEED IN SCHOOL ZONE     </span> <span style=\"color: #7f7f7f; text-decoration-color: #7f7f7f\"> SPEED IN SCHOOL ZONE     </span> \n",
       " <span style=\"color: #7f7f7f; text-decoration-color: #7f7f7f\">                        </span> <span style=\"color: #7f7f7f; text-decoration-color: #7f7f7f\"> IN A 20 MPH ZONE                 </span> <span style=\"color: #7f7f7f; text-decoration-color: #7f7f7f\">                          </span> <span style=\"color: #7f7f7f; text-decoration-color: #7f7f7f\">                          </span> \n",
       "  Prediction is correct.   SPEEDING 80/70                     SPEED 6-10 OVER LIMIT      SPEED 6-10 OVER LIMIT     \n",
       " <span style=\"color: #7f7f7f; text-decoration-color: #7f7f7f\"> Prediction is correct. </span> <span style=\"color: #7f7f7f; text-decoration-color: #7f7f7f\"> SPEEDING 10% ABOVE THE POSTED    </span> <span style=\"color: #7f7f7f; text-decoration-color: #7f7f7f\"> SPEED 46 PLUS OVER LIMIT </span> <span style=\"color: #7f7f7f; text-decoration-color: #7f7f7f\"> SPEED 46 PLUS OVER LIMIT </span> \n",
       " <span style=\"color: #7f7f7f; text-decoration-color: #7f7f7f\">                        </span> <span style=\"color: #7f7f7f; text-decoration-color: #7f7f7f\"> SPEED 112MPH IN A 60 MPH ZONE    </span> <span style=\"color: #7f7f7f; text-decoration-color: #7f7f7f\">                          </span> <span style=\"color: #7f7f7f; text-decoration-color: #7f7f7f\">                          </span> \n",
       "  Prediction is correct.   SPEEDING 15 MPH OVER IN A          SPEED 11-15 OVER LIMIT     SPEED 11-15 OVER LIMIT    \n",
       "                           RESIDENTIAL AREA                                                                        \n",
       "                                                                                                                   \n",
       "</pre>\n"
      ],
      "text/plain": [
       "                                                                                                                   \n",
       " \u001b[1;35m \u001b[0m\u001b[1;35mprediction__fb        \u001b[0m\u001b[1;35m \u001b[0m \u001b[1;35m \u001b[0m\u001b[1;35mtext                            \u001b[0m\u001b[1;35m \u001b[0m \u001b[1;35m \u001b[0m\u001b[1;35mground_truth            \u001b[0m\u001b[1;35m \u001b[0m \u001b[1;35m \u001b[0m\u001b[1;35mprediction              \u001b[0m\u001b[1;35m \u001b[0m \n",
       " ───────────────────────────────────────────────────────────────────────────────────────────────────────────────── \n",
       "  Prediction is correct.   EXCEED POSTED SPEED/BRIDGE BY 13   SPEED 11-15 OVER LIMIT     SPEED 11-15 OVER LIMIT    \n",
       "                           MPH                                                                                     \n",
       " \u001b[2m \u001b[0m\u001b[2mPrediction is correct.\u001b[0m\u001b[2m \u001b[0m \u001b[2m \u001b[0m\u001b[2mSPEEDING IN SCHOOL ZONE 16 MPH  \u001b[0m\u001b[2m \u001b[0m \u001b[2m \u001b[0m\u001b[2mSPEED IN SCHOOL ZONE    \u001b[0m\u001b[2m \u001b[0m \u001b[2m \u001b[0m\u001b[2mSPEED IN SCHOOL ZONE    \u001b[0m\u001b[2m \u001b[0m \n",
       " \u001b[2m                        \u001b[0m \u001b[2m \u001b[0m\u001b[2mIN A 20 MPH ZONE                \u001b[0m\u001b[2m \u001b[0m \u001b[2m                          \u001b[0m \u001b[2m                          \u001b[0m \n",
       "  Prediction is correct.   SPEEDING 80/70                     SPEED 6-10 OVER LIMIT      SPEED 6-10 OVER LIMIT     \n",
       " \u001b[2m \u001b[0m\u001b[2mPrediction is correct.\u001b[0m\u001b[2m \u001b[0m \u001b[2m \u001b[0m\u001b[2mSPEEDING 10% ABOVE THE POSTED   \u001b[0m\u001b[2m \u001b[0m \u001b[2m \u001b[0m\u001b[2mSPEED 46 PLUS OVER LIMIT\u001b[0m\u001b[2m \u001b[0m \u001b[2m \u001b[0m\u001b[2mSPEED 46 PLUS OVER LIMIT\u001b[0m\u001b[2m \u001b[0m \n",
       " \u001b[2m                        \u001b[0m \u001b[2m \u001b[0m\u001b[2mSPEED 112MPH IN A 60 MPH ZONE   \u001b[0m\u001b[2m \u001b[0m \u001b[2m                          \u001b[0m \u001b[2m                          \u001b[0m \n",
       "  Prediction is correct.   SPEEDING 15 MPH OVER IN A          SPEED 11-15 OVER LIMIT     SPEED 11-15 OVER LIMIT    \n",
       "                           RESIDENTIAL AREA                                                                        \n",
       "                                                                                                                   \n"
      ]
     },
     "metadata": {},
     "output_type": "display_data"
    },
    {
     "data": {
      "text/html": [
       "<pre style=\"white-space:pre;overflow-x:auto;line-height:normal;font-family:Menlo,'DejaVu Sans Mono',consolas,'Courier New',monospace\">No errors found!\n",
       "</pre>\n"
      ],
      "text/plain": [
       "No errors found!\n"
      ]
     },
     "metadata": {},
     "output_type": "display_data"
    },
    {
     "data": {
      "text/html": [
       "<pre style=\"white-space:pre;overflow-x:auto;line-height:normal;font-family:Menlo,'DejaVu Sans Mono',consolas,'Courier New',monospace\">\n",
       "\n",
       "=&gt; Iteration #<span style=\"color: #008080; text-decoration-color: #008080; font-weight: bold\">1</span>: Getting feedback, analyzing and improving <span style=\"color: #808000; text-decoration-color: #808000\">...</span>\n",
       "</pre>\n"
      ],
      "text/plain": [
       "\n",
       "\n",
       "=> Iteration #\u001b[1;36m1\u001b[0m: Getting feedback, analyzing and improving \u001b[33m...\u001b[0m\n"
      ]
     },
     "metadata": {},
     "output_type": "display_data"
    },
    {
     "data": {
      "text/html": [
       "<pre style=\"white-space:pre;overflow-x:auto;line-height:normal;font-family:Menlo,'DejaVu Sans Mono',consolas,'Courier New',monospace\">Applying skill: speeding_violation_catergorize\n",
       "</pre>\n"
      ],
      "text/plain": [
       "Applying skill: speeding_violation_catergorize\n"
      ]
     },
     "metadata": {},
     "output_type": "display_data"
    },
    {
     "name": "stderr",
     "output_type": "stream",
     "text": [
      "  0%|                                                   | 0/13 [00:00<?, ?it/s]/Users/pranav/opt/anaconda3/envs/label/lib/python3.8/site-packages/guidance/library/_select.py:146: RuntimeWarning: divide by zero encountered in log\n",
      "  logprobs_out[k] = np.log(or_prob)\n",
      "100%|██████████████████████████████████████████| 13/13 [00:00<00:00, 28.86it/s]\n"
     ]
    },
    {
     "data": {
      "text/html": [
       "<pre style=\"white-space:pre;overflow-x:auto;line-height:normal;font-family:Menlo,'DejaVu Sans Mono',consolas,'Courier New',monospace\">Predictions and feedback:\n",
       "</pre>\n"
      ],
      "text/plain": [
       "Predictions and feedback:\n"
      ]
     },
     "metadata": {},
     "output_type": "display_data"
    },
    {
     "data": {
      "text/html": [
       "<pre style=\"white-space:pre;overflow-x:auto;line-height:normal;font-family:Menlo,'DejaVu Sans Mono',consolas,'Courier New',monospace\">                                                                                                                   \n",
       " <span style=\"color: #800080; text-decoration-color: #800080; font-weight: bold\"> prediction__fb         </span> <span style=\"color: #800080; text-decoration-color: #800080; font-weight: bold\"> text                             </span> <span style=\"color: #800080; text-decoration-color: #800080; font-weight: bold\"> ground_truth             </span> <span style=\"color: #800080; text-decoration-color: #800080; font-weight: bold\"> prediction               </span> \n",
       " ───────────────────────────────────────────────────────────────────────────────────────────────────────────────── \n",
       "  Prediction is correct.   EXCEED POSTED SPEED/BRIDGE BY 13   SPEED 11-15 OVER LIMIT     SPEED 11-15 OVER LIMIT    \n",
       "                           MPH                                                                                     \n",
       " <span style=\"color: #7f7f7f; text-decoration-color: #7f7f7f\"> Prediction is correct. </span> <span style=\"color: #7f7f7f; text-decoration-color: #7f7f7f\"> SPEEDING IN SCHOOL ZONE 16 MPH   </span> <span style=\"color: #7f7f7f; text-decoration-color: #7f7f7f\"> SPEED IN SCHOOL ZONE     </span> <span style=\"color: #7f7f7f; text-decoration-color: #7f7f7f\"> SPEED IN SCHOOL ZONE     </span> \n",
       " <span style=\"color: #7f7f7f; text-decoration-color: #7f7f7f\">                        </span> <span style=\"color: #7f7f7f; text-decoration-color: #7f7f7f\"> IN A 20 MPH ZONE                 </span> <span style=\"color: #7f7f7f; text-decoration-color: #7f7f7f\">                          </span> <span style=\"color: #7f7f7f; text-decoration-color: #7f7f7f\">                          </span> \n",
       "  Prediction is correct.   SPEEDING 80/70                     SPEED 6-10 OVER LIMIT      SPEED 6-10 OVER LIMIT     \n",
       " <span style=\"color: #7f7f7f; text-decoration-color: #7f7f7f\"> Prediction is correct. </span> <span style=\"color: #7f7f7f; text-decoration-color: #7f7f7f\"> SPEEDING 10% ABOVE THE POSTED    </span> <span style=\"color: #7f7f7f; text-decoration-color: #7f7f7f\"> SPEED 46 PLUS OVER LIMIT </span> <span style=\"color: #7f7f7f; text-decoration-color: #7f7f7f\"> SPEED 46 PLUS OVER LIMIT </span> \n",
       " <span style=\"color: #7f7f7f; text-decoration-color: #7f7f7f\">                        </span> <span style=\"color: #7f7f7f; text-decoration-color: #7f7f7f\"> SPEED 112MPH IN A 60 MPH ZONE    </span> <span style=\"color: #7f7f7f; text-decoration-color: #7f7f7f\">                          </span> <span style=\"color: #7f7f7f; text-decoration-color: #7f7f7f\">                          </span> \n",
       "  Prediction is correct.   SPEEDING 15 MPH OVER IN A          SPEED 11-15 OVER LIMIT     SPEED 11-15 OVER LIMIT    \n",
       "                           RESIDENTIAL AREA                                                                        \n",
       "                                                                                                                   \n",
       "</pre>\n"
      ],
      "text/plain": [
       "                                                                                                                   \n",
       " \u001b[1;35m \u001b[0m\u001b[1;35mprediction__fb        \u001b[0m\u001b[1;35m \u001b[0m \u001b[1;35m \u001b[0m\u001b[1;35mtext                            \u001b[0m\u001b[1;35m \u001b[0m \u001b[1;35m \u001b[0m\u001b[1;35mground_truth            \u001b[0m\u001b[1;35m \u001b[0m \u001b[1;35m \u001b[0m\u001b[1;35mprediction              \u001b[0m\u001b[1;35m \u001b[0m \n",
       " ───────────────────────────────────────────────────────────────────────────────────────────────────────────────── \n",
       "  Prediction is correct.   EXCEED POSTED SPEED/BRIDGE BY 13   SPEED 11-15 OVER LIMIT     SPEED 11-15 OVER LIMIT    \n",
       "                           MPH                                                                                     \n",
       " \u001b[2m \u001b[0m\u001b[2mPrediction is correct.\u001b[0m\u001b[2m \u001b[0m \u001b[2m \u001b[0m\u001b[2mSPEEDING IN SCHOOL ZONE 16 MPH  \u001b[0m\u001b[2m \u001b[0m \u001b[2m \u001b[0m\u001b[2mSPEED IN SCHOOL ZONE    \u001b[0m\u001b[2m \u001b[0m \u001b[2m \u001b[0m\u001b[2mSPEED IN SCHOOL ZONE    \u001b[0m\u001b[2m \u001b[0m \n",
       " \u001b[2m                        \u001b[0m \u001b[2m \u001b[0m\u001b[2mIN A 20 MPH ZONE                \u001b[0m\u001b[2m \u001b[0m \u001b[2m                          \u001b[0m \u001b[2m                          \u001b[0m \n",
       "  Prediction is correct.   SPEEDING 80/70                     SPEED 6-10 OVER LIMIT      SPEED 6-10 OVER LIMIT     \n",
       " \u001b[2m \u001b[0m\u001b[2mPrediction is correct.\u001b[0m\u001b[2m \u001b[0m \u001b[2m \u001b[0m\u001b[2mSPEEDING 10% ABOVE THE POSTED   \u001b[0m\u001b[2m \u001b[0m \u001b[2m \u001b[0m\u001b[2mSPEED 46 PLUS OVER LIMIT\u001b[0m\u001b[2m \u001b[0m \u001b[2m \u001b[0m\u001b[2mSPEED 46 PLUS OVER LIMIT\u001b[0m\u001b[2m \u001b[0m \n",
       " \u001b[2m                        \u001b[0m \u001b[2m \u001b[0m\u001b[2mSPEED 112MPH IN A 60 MPH ZONE   \u001b[0m\u001b[2m \u001b[0m \u001b[2m                          \u001b[0m \u001b[2m                          \u001b[0m \n",
       "  Prediction is correct.   SPEEDING 15 MPH OVER IN A          SPEED 11-15 OVER LIMIT     SPEED 11-15 OVER LIMIT    \n",
       "                           RESIDENTIAL AREA                                                                        \n",
       "                                                                                                                   \n"
      ]
     },
     "metadata": {},
     "output_type": "display_data"
    },
    {
     "data": {
      "text/html": [
       "<pre style=\"white-space:pre;overflow-x:auto;line-height:normal;font-family:Menlo,'DejaVu Sans Mono',consolas,'Courier New',monospace\">No errors found!\n",
       "</pre>\n"
      ],
      "text/plain": [
       "No errors found!\n"
      ]
     },
     "metadata": {},
     "output_type": "display_data"
    },
    {
     "data": {
      "text/html": [
       "<pre style=\"white-space:pre;overflow-x:auto;line-height:normal;font-family:Menlo,'DejaVu Sans Mono',consolas,'Courier New',monospace\">\n",
       "\n",
       "=&gt; Iteration #<span style=\"color: #008080; text-decoration-color: #008080; font-weight: bold\">2</span>: Getting feedback, analyzing and improving <span style=\"color: #808000; text-decoration-color: #808000\">...</span>\n",
       "</pre>\n"
      ],
      "text/plain": [
       "\n",
       "\n",
       "=> Iteration #\u001b[1;36m2\u001b[0m: Getting feedback, analyzing and improving \u001b[33m...\u001b[0m\n"
      ]
     },
     "metadata": {},
     "output_type": "display_data"
    },
    {
     "data": {
      "text/html": [
       "<pre style=\"white-space:pre;overflow-x:auto;line-height:normal;font-family:Menlo,'DejaVu Sans Mono',consolas,'Courier New',monospace\">Applying skill: speeding_violation_catergorize\n",
       "</pre>\n"
      ],
      "text/plain": [
       "Applying skill: speeding_violation_catergorize\n"
      ]
     },
     "metadata": {},
     "output_type": "display_data"
    },
    {
     "name": "stderr",
     "output_type": "stream",
     "text": [
      "  0%|                                                   | 0/13 [00:00<?, ?it/s]/Users/pranav/opt/anaconda3/envs/label/lib/python3.8/site-packages/guidance/library/_select.py:146: RuntimeWarning: divide by zero encountered in log\n",
      "  logprobs_out[k] = np.log(or_prob)\n",
      "100%|██████████████████████████████████████████| 13/13 [00:00<00:00, 27.02it/s]\n"
     ]
    },
    {
     "data": {
      "text/html": [
       "<pre style=\"white-space:pre;overflow-x:auto;line-height:normal;font-family:Menlo,'DejaVu Sans Mono',consolas,'Courier New',monospace\">Predictions and feedback:\n",
       "</pre>\n"
      ],
      "text/plain": [
       "Predictions and feedback:\n"
      ]
     },
     "metadata": {},
     "output_type": "display_data"
    },
    {
     "data": {
      "text/html": [
       "<pre style=\"white-space:pre;overflow-x:auto;line-height:normal;font-family:Menlo,'DejaVu Sans Mono',consolas,'Courier New',monospace\">                                                                                                                   \n",
       " <span style=\"color: #800080; text-decoration-color: #800080; font-weight: bold\"> prediction__fb         </span> <span style=\"color: #800080; text-decoration-color: #800080; font-weight: bold\"> text                             </span> <span style=\"color: #800080; text-decoration-color: #800080; font-weight: bold\"> ground_truth             </span> <span style=\"color: #800080; text-decoration-color: #800080; font-weight: bold\"> prediction               </span> \n",
       " ───────────────────────────────────────────────────────────────────────────────────────────────────────────────── \n",
       "  Prediction is correct.   EXCEED POSTED SPEED/BRIDGE BY 13   SPEED 11-15 OVER LIMIT     SPEED 11-15 OVER LIMIT    \n",
       "                           MPH                                                                                     \n",
       " <span style=\"color: #7f7f7f; text-decoration-color: #7f7f7f\"> Prediction is correct. </span> <span style=\"color: #7f7f7f; text-decoration-color: #7f7f7f\"> SPEEDING IN SCHOOL ZONE 16 MPH   </span> <span style=\"color: #7f7f7f; text-decoration-color: #7f7f7f\"> SPEED IN SCHOOL ZONE     </span> <span style=\"color: #7f7f7f; text-decoration-color: #7f7f7f\"> SPEED IN SCHOOL ZONE     </span> \n",
       " <span style=\"color: #7f7f7f; text-decoration-color: #7f7f7f\">                        </span> <span style=\"color: #7f7f7f; text-decoration-color: #7f7f7f\"> IN A 20 MPH ZONE                 </span> <span style=\"color: #7f7f7f; text-decoration-color: #7f7f7f\">                          </span> <span style=\"color: #7f7f7f; text-decoration-color: #7f7f7f\">                          </span> \n",
       "  Prediction is correct.   SPEEDING 80/70                     SPEED 6-10 OVER LIMIT      SPEED 6-10 OVER LIMIT     \n",
       " <span style=\"color: #7f7f7f; text-decoration-color: #7f7f7f\"> Prediction is correct. </span> <span style=\"color: #7f7f7f; text-decoration-color: #7f7f7f\"> SPEEDING 10% ABOVE THE POSTED    </span> <span style=\"color: #7f7f7f; text-decoration-color: #7f7f7f\"> SPEED 46 PLUS OVER LIMIT </span> <span style=\"color: #7f7f7f; text-decoration-color: #7f7f7f\"> SPEED 46 PLUS OVER LIMIT </span> \n",
       " <span style=\"color: #7f7f7f; text-decoration-color: #7f7f7f\">                        </span> <span style=\"color: #7f7f7f; text-decoration-color: #7f7f7f\"> SPEED 112MPH IN A 60 MPH ZONE    </span> <span style=\"color: #7f7f7f; text-decoration-color: #7f7f7f\">                          </span> <span style=\"color: #7f7f7f; text-decoration-color: #7f7f7f\">                          </span> \n",
       "  Prediction is correct.   SPEEDING 15 MPH OVER IN A          SPEED 11-15 OVER LIMIT     SPEED 11-15 OVER LIMIT    \n",
       "                           RESIDENTIAL AREA                                                                        \n",
       "                                                                                                                   \n",
       "</pre>\n"
      ],
      "text/plain": [
       "                                                                                                                   \n",
       " \u001b[1;35m \u001b[0m\u001b[1;35mprediction__fb        \u001b[0m\u001b[1;35m \u001b[0m \u001b[1;35m \u001b[0m\u001b[1;35mtext                            \u001b[0m\u001b[1;35m \u001b[0m \u001b[1;35m \u001b[0m\u001b[1;35mground_truth            \u001b[0m\u001b[1;35m \u001b[0m \u001b[1;35m \u001b[0m\u001b[1;35mprediction              \u001b[0m\u001b[1;35m \u001b[0m \n",
       " ───────────────────────────────────────────────────────────────────────────────────────────────────────────────── \n",
       "  Prediction is correct.   EXCEED POSTED SPEED/BRIDGE BY 13   SPEED 11-15 OVER LIMIT     SPEED 11-15 OVER LIMIT    \n",
       "                           MPH                                                                                     \n",
       " \u001b[2m \u001b[0m\u001b[2mPrediction is correct.\u001b[0m\u001b[2m \u001b[0m \u001b[2m \u001b[0m\u001b[2mSPEEDING IN SCHOOL ZONE 16 MPH  \u001b[0m\u001b[2m \u001b[0m \u001b[2m \u001b[0m\u001b[2mSPEED IN SCHOOL ZONE    \u001b[0m\u001b[2m \u001b[0m \u001b[2m \u001b[0m\u001b[2mSPEED IN SCHOOL ZONE    \u001b[0m\u001b[2m \u001b[0m \n",
       " \u001b[2m                        \u001b[0m \u001b[2m \u001b[0m\u001b[2mIN A 20 MPH ZONE                \u001b[0m\u001b[2m \u001b[0m \u001b[2m                          \u001b[0m \u001b[2m                          \u001b[0m \n",
       "  Prediction is correct.   SPEEDING 80/70                     SPEED 6-10 OVER LIMIT      SPEED 6-10 OVER LIMIT     \n",
       " \u001b[2m \u001b[0m\u001b[2mPrediction is correct.\u001b[0m\u001b[2m \u001b[0m \u001b[2m \u001b[0m\u001b[2mSPEEDING 10% ABOVE THE POSTED   \u001b[0m\u001b[2m \u001b[0m \u001b[2m \u001b[0m\u001b[2mSPEED 46 PLUS OVER LIMIT\u001b[0m\u001b[2m \u001b[0m \u001b[2m \u001b[0m\u001b[2mSPEED 46 PLUS OVER LIMIT\u001b[0m\u001b[2m \u001b[0m \n",
       " \u001b[2m                        \u001b[0m \u001b[2m \u001b[0m\u001b[2mSPEED 112MPH IN A 60 MPH ZONE   \u001b[0m\u001b[2m \u001b[0m \u001b[2m                          \u001b[0m \u001b[2m                          \u001b[0m \n",
       "  Prediction is correct.   SPEEDING 15 MPH OVER IN A          SPEED 11-15 OVER LIMIT     SPEED 11-15 OVER LIMIT    \n",
       "                           RESIDENTIAL AREA                                                                        \n",
       "                                                                                                                   \n"
      ]
     },
     "metadata": {},
     "output_type": "display_data"
    },
    {
     "data": {
      "text/html": [
       "<pre style=\"white-space:pre;overflow-x:auto;line-height:normal;font-family:Menlo,'DejaVu Sans Mono',consolas,'Courier New',monospace\">No errors found!\n",
       "</pre>\n"
      ],
      "text/plain": [
       "No errors found!\n"
      ]
     },
     "metadata": {},
     "output_type": "display_data"
    },
    {
     "data": {
      "text/html": [
       "<pre style=\"white-space:pre;overflow-x:auto;line-height:normal;font-family:Menlo,'DejaVu Sans Mono',consolas,'Courier New',monospace\">Train is done!\n",
       "</pre>\n"
      ],
      "text/plain": [
       "Train is done!\n"
      ]
     },
     "metadata": {},
     "output_type": "display_data"
    }
   ],
   "source": [
    "ground_truth_signal = agent.learn(learning_iterations=3, accuracy_threshold=0.90)"
   ]
  },
  {
   "cell_type": "code",
   "execution_count": null,
   "id": "e3cb1aab-8758-4607-8474-27eecabaa1ed",
   "metadata": {},
   "outputs": [],
   "source": []
  },
  {
   "cell_type": "markdown",
   "id": "4f41b182-6400-498e-a68b-119b90ba98b2",
   "metadata": {},
   "source": [
    "## WITH THE PLUS LABELS"
   ]
  },
  {
   "cell_type": "code",
   "execution_count": 40,
   "id": "9aace926-82b3-47a8-ab0e-248037e15454",
   "metadata": {},
   "outputs": [
    {
     "data": {
      "text/html": [
       "<pre style=\"white-space:pre;overflow-x:auto;line-height:normal;font-family:Menlo,'DejaVu Sans Mono',consolas,'Courier New',monospace\">\n",
       "\n",
       "=&gt; Iteration #<span style=\"color: #008080; text-decoration-color: #008080; font-weight: bold\">0</span>: Getting feedback, analyzing and improving <span style=\"color: #808000; text-decoration-color: #808000\">...</span>\n",
       "</pre>\n"
      ],
      "text/plain": [
       "\n",
       "\n",
       "=> Iteration #\u001b[1;36m0\u001b[0m: Getting feedback, analyzing and improving \u001b[33m...\u001b[0m\n"
      ]
     },
     "metadata": {},
     "output_type": "display_data"
    },
    {
     "data": {
      "text/html": [
       "<pre style=\"white-space:pre;overflow-x:auto;line-height:normal;font-family:Menlo,'DejaVu Sans Mono',consolas,'Courier New',monospace\">Applying skill: speeding_violation_catergorize\n",
       "</pre>\n"
      ],
      "text/plain": [
       "Applying skill: speeding_violation_catergorize\n"
      ]
     },
     "metadata": {},
     "output_type": "display_data"
    },
    {
     "name": "stderr",
     "output_type": "stream",
     "text": [
      "  0%|                                                   | 0/13 [00:00<?, ?it/s]/Users/pranav/opt/anaconda3/envs/label/lib/python3.8/site-packages/guidance/library/_select.py:146: RuntimeWarning: divide by zero encountered in log\n",
      "  logprobs_out[k] = np.log(or_prob)\n",
      "100%|██████████████████████████████████████████| 13/13 [00:00<00:00, 27.37it/s]\n"
     ]
    },
    {
     "data": {
      "text/html": [
       "<pre style=\"white-space:pre;overflow-x:auto;line-height:normal;font-family:Menlo,'DejaVu Sans Mono',consolas,'Courier New',monospace\">Predictions and feedback:\n",
       "</pre>\n"
      ],
      "text/plain": [
       "Predictions and feedback:\n"
      ]
     },
     "metadata": {},
     "output_type": "display_data"
    },
    {
     "data": {
      "text/html": [
       "<pre style=\"white-space:pre;overflow-x:auto;line-height:normal;font-family:Menlo,'DejaVu Sans Mono',consolas,'Courier New',monospace\">                                                                                                                   \n",
       " <span style=\"color: #800080; text-decoration-color: #800080; font-weight: bold\"> prediction__fb         </span> <span style=\"color: #800080; text-decoration-color: #800080; font-weight: bold\"> text                             </span> <span style=\"color: #800080; text-decoration-color: #800080; font-weight: bold\"> ground_truth             </span> <span style=\"color: #800080; text-decoration-color: #800080; font-weight: bold\"> prediction               </span> \n",
       " ───────────────────────────────────────────────────────────────────────────────────────────────────────────────── \n",
       "  Prediction is correct.   EXCEED POSTED SPEED/BRIDGE BY 13   SPEED 11-15 OVER LIMIT     SPEED 11-15 OVER LIMIT    \n",
       "                           MPH                                                                                     \n",
       " <span style=\"color: #7f7f7f; text-decoration-color: #7f7f7f\"> Prediction is correct. </span> <span style=\"color: #7f7f7f; text-decoration-color: #7f7f7f\"> SPEEDING IN SCHOOL ZONE 16 MPH   </span> <span style=\"color: #7f7f7f; text-decoration-color: #7f7f7f\"> SPEED IN SCHOOL ZONE     </span> <span style=\"color: #7f7f7f; text-decoration-color: #7f7f7f\"> SPEED IN SCHOOL ZONE     </span> \n",
       " <span style=\"color: #7f7f7f; text-decoration-color: #7f7f7f\">                        </span> <span style=\"color: #7f7f7f; text-decoration-color: #7f7f7f\"> IN A 20 MPH ZONE                 </span> <span style=\"color: #7f7f7f; text-decoration-color: #7f7f7f\">                          </span> <span style=\"color: #7f7f7f; text-decoration-color: #7f7f7f\">                          </span> \n",
       "  Prediction is correct.   SPEEDING 80/70                     SPEED 6-10 OVER LIMIT      SPEED 6-10 OVER LIMIT     \n",
       " <span style=\"color: #7f7f7f; text-decoration-color: #7f7f7f\"> Prediction is correct. </span> <span style=\"color: #7f7f7f; text-decoration-color: #7f7f7f\"> SPEEDING 10% ABOVE THE POSTED    </span> <span style=\"color: #7f7f7f; text-decoration-color: #7f7f7f\"> SPEED 46 PLUS OVER LIMIT </span> <span style=\"color: #7f7f7f; text-decoration-color: #7f7f7f\"> SPEED 46 PLUS OVER LIMIT </span> \n",
       " <span style=\"color: #7f7f7f; text-decoration-color: #7f7f7f\">                        </span> <span style=\"color: #7f7f7f; text-decoration-color: #7f7f7f\"> SPEED 112MPH IN A 60 MPH ZONE    </span> <span style=\"color: #7f7f7f; text-decoration-color: #7f7f7f\">                          </span> <span style=\"color: #7f7f7f; text-decoration-color: #7f7f7f\">                          </span> \n",
       "  Prediction is correct.   SPEEDING 15 MPH OVER IN A          SPEED 11-15 OVER LIMIT     SPEED 11-15 OVER LIMIT    \n",
       "                           RESIDENTIAL AREA                                                                        \n",
       "                                                                                                                   \n",
       "</pre>\n"
      ],
      "text/plain": [
       "                                                                                                                   \n",
       " \u001b[1;35m \u001b[0m\u001b[1;35mprediction__fb        \u001b[0m\u001b[1;35m \u001b[0m \u001b[1;35m \u001b[0m\u001b[1;35mtext                            \u001b[0m\u001b[1;35m \u001b[0m \u001b[1;35m \u001b[0m\u001b[1;35mground_truth            \u001b[0m\u001b[1;35m \u001b[0m \u001b[1;35m \u001b[0m\u001b[1;35mprediction              \u001b[0m\u001b[1;35m \u001b[0m \n",
       " ───────────────────────────────────────────────────────────────────────────────────────────────────────────────── \n",
       "  Prediction is correct.   EXCEED POSTED SPEED/BRIDGE BY 13   SPEED 11-15 OVER LIMIT     SPEED 11-15 OVER LIMIT    \n",
       "                           MPH                                                                                     \n",
       " \u001b[2m \u001b[0m\u001b[2mPrediction is correct.\u001b[0m\u001b[2m \u001b[0m \u001b[2m \u001b[0m\u001b[2mSPEEDING IN SCHOOL ZONE 16 MPH  \u001b[0m\u001b[2m \u001b[0m \u001b[2m \u001b[0m\u001b[2mSPEED IN SCHOOL ZONE    \u001b[0m\u001b[2m \u001b[0m \u001b[2m \u001b[0m\u001b[2mSPEED IN SCHOOL ZONE    \u001b[0m\u001b[2m \u001b[0m \n",
       " \u001b[2m                        \u001b[0m \u001b[2m \u001b[0m\u001b[2mIN A 20 MPH ZONE                \u001b[0m\u001b[2m \u001b[0m \u001b[2m                          \u001b[0m \u001b[2m                          \u001b[0m \n",
       "  Prediction is correct.   SPEEDING 80/70                     SPEED 6-10 OVER LIMIT      SPEED 6-10 OVER LIMIT     \n",
       " \u001b[2m \u001b[0m\u001b[2mPrediction is correct.\u001b[0m\u001b[2m \u001b[0m \u001b[2m \u001b[0m\u001b[2mSPEEDING 10% ABOVE THE POSTED   \u001b[0m\u001b[2m \u001b[0m \u001b[2m \u001b[0m\u001b[2mSPEED 46 PLUS OVER LIMIT\u001b[0m\u001b[2m \u001b[0m \u001b[2m \u001b[0m\u001b[2mSPEED 46 PLUS OVER LIMIT\u001b[0m\u001b[2m \u001b[0m \n",
       " \u001b[2m                        \u001b[0m \u001b[2m \u001b[0m\u001b[2mSPEED 112MPH IN A 60 MPH ZONE   \u001b[0m\u001b[2m \u001b[0m \u001b[2m                          \u001b[0m \u001b[2m                          \u001b[0m \n",
       "  Prediction is correct.   SPEEDING 15 MPH OVER IN A          SPEED 11-15 OVER LIMIT     SPEED 11-15 OVER LIMIT    \n",
       "                           RESIDENTIAL AREA                                                                        \n",
       "                                                                                                                   \n"
      ]
     },
     "metadata": {},
     "output_type": "display_data"
    },
    {
     "data": {
      "text/html": [
       "<pre style=\"white-space:pre;overflow-x:auto;line-height:normal;font-family:Menlo,'DejaVu Sans Mono',consolas,'Courier New',monospace\"><span style=\"color: #800000; text-decoration-color: #800000; font-weight: bold\">Skill output to improve: </span><span style=\"color: #008000; text-decoration-color: #008000\">\"prediction\"</span><span style=\"color: #800000; text-decoration-color: #800000; font-weight: bold\"> (</span><span style=\"color: #808000; text-decoration-color: #808000; font-weight: bold\">Skill</span><span style=\"color: #800000; text-decoration-color: #800000; font-weight: bold\">=</span><span style=\"color: #008000; text-decoration-color: #008000\">\"speeding_violation_catergorize\"</span><span style=\"color: #800000; text-decoration-color: #800000; font-weight: bold\">)</span>\n",
       "<span style=\"color: #800000; text-decoration-color: #800000; font-weight: bold\">Accuracy = </span><span style=\"color: #008080; text-decoration-color: #008080; font-weight: bold\">92.31</span><span style=\"color: #800000; text-decoration-color: #800000; font-weight: bold\">%</span>\n",
       "</pre>\n"
      ],
      "text/plain": [
       "\u001b[1;31mSkill output to improve: \u001b[0m\u001b[32m\"prediction\"\u001b[0m\u001b[1;31m \u001b[0m\u001b[1;31m(\u001b[0m\u001b[1;33mSkill\u001b[0m\u001b[1;31m=\u001b[0m\u001b[32m\"speeding_violation_catergorize\"\u001b[0m\u001b[1;31m)\u001b[0m\n",
       "\u001b[1;31mAccuracy = \u001b[0m\u001b[1;36m92.31\u001b[0m\u001b[1;31m%\u001b[0m\n"
      ]
     },
     "metadata": {},
     "output_type": "display_data"
    },
    {
     "name": "stdout",
     "output_type": "stream",
     "text": [
      "\"{system}\":\n",
      "You are a helpful assistant.\n",
      "\"{user}\":\n",
      "\n",
      "A prompt is a text paragraph that outlines the expected actions and instructs the large language model (LLM) to generate a specific output. This prompt is concatenated with the input text, and the model then creates the required output.\n",
      "This describes the full template how the prompt is concatenated with the input to produce the output:\n",
      "\n",
      "```\n",
      "\n",
      "{prompt}\n",
      "Input: {text}\n",
      "Output: {prediction}\n",
      "```\n",
      "\n",
      "Here:\n",
      "- \"Input: {text}\" is input template,\n",
      "- \"{prompt}\" is the LLM prompt,\n",
      "- \"Output: {prediction}\" is the output template.\n",
      "\n",
      "Model can produce erroneous output if a prompt is not well defined. In our collaboration, we’ll work together to refine a prompt. The process consists of two main steps:\n",
      "\n",
      "## Step 1\n",
      "I will provide you with the current prompt along with prediction examples. Each example contains the input text, the final prediction produced by the model, and the user feedback. User feedback indicates whether the model prediction is correct or not. Your task is to analyze the examples and user feedback, determining whether the existing instruction is describing the task reflected by these examples precisely, and suggests changes to the prompt to address the incorrect predictions.\n",
      "\n",
      "## Step 2\n",
      "Next, you will carefully review your reasoning in step 1, integrate the insights to refine the prompt, and provide me with the new prompt that improves the model’s performance.\n",
      "\"{assistant}\":\n",
      "Sure, I’d be happy to help you with this prompt engineering problem. Please provide me with the current prompt and the examples with user feedback.\n",
      "\"{user}\":\n",
      "\n",
      "## Current prompt\n",
      "\n",
      "\n",
      "Your task is to classify each violation code into the correct category based on specific criteria. Consider the following instructions:\n",
      "\n",
      "1. If the violation description includes 'WORK ZONE' OR 'CONSTRUCTION ZONE', assign the label \"SPEED IN WORK ZONE.\" Apply the zone-specific labels regardless of mentions of numerical speeds like 1-10, 10-20, etc.\n",
      "\n",
      "2. If the violation description includes 'SCHOOL ZONE', assign the label \"SPEED IN SCHOOL ZONE.\" Apply the zone-specific labels regardless of mentions of numerical speeds like 1-10, 10-20, etc.\n",
      "\n",
      "3. For violations in the format 'SPEEDING X/Y,' deduce the excess amount (|X - Y|) to find the appropriate category range.  If the calculated excess falls within a specific range like Example: SPEEDING 80/70 excess is 10, hence label would be SPEED 6-10 OVER LIMIT because 10 is in the 6-10 range.\n",
      "\n",
      "4. For explicit speeds, such as 'SPEED X MPH IN A Y MPH ZONE,' calculate the excess as |X - Y| to determine the fitting category range. If the calculated excess is above 45, use the label \"SPEED 46 PLUS OVER LIMIT.\"\n",
      "\n",
      "5. Use the label 'SPEED - GENERAL' for violations with non-numerical descriptions or qualitative descriptions without specific speed details. Non-numerical descriptions mean that there is no mention of a range of speeds or quantifiable information regarding how much the speed exceeded by.\n",
      "\n",
      "Remember to provide the correct category label based on the specified criteria for each violation code.\n",
      "\n",
      "\n",
      "## Examples\n",
      "### Example #0\n",
      "\n",
      "Input: EXCEED POSTED SPEED/BRIDGE BY 13 MPH\n",
      "\n",
      "Output: SPEED 11-15 OVER LIMIT\n",
      "\n",
      "User feedback: Prediction is correct.\n",
      "\n",
      "\n",
      "### Example #1\n",
      "\n",
      "Input: SPEEDING IN SCHOOL ZONE 16 MPH IN A 20 MPH ZONE\n",
      "\n",
      "Output: SPEED IN SCHOOL ZONE\n",
      "\n",
      "User feedback: Prediction is correct.\n",
      "\n",
      "\n",
      "### Example #2\n",
      "\n",
      "Input: SPEEDING 80/70\n",
      "\n",
      "Output: SPEED 6-10 OVER LIMIT\n",
      "\n",
      "User feedback: Prediction is correct.\n",
      "\n",
      "\n",
      "### Example #3\n",
      "\n",
      "Input: SPEEDING 10% ABOVE THE POSTED SPEED 112MPH IN A 60 MPH ZONE\n",
      "\n",
      "Output: SPEED 46 PLUS OVER LIMIT\n",
      "\n",
      "User feedback: Prediction is correct.\n",
      "\n",
      "\n",
      "### Example #4\n",
      "\n",
      "Input: SPEEDING 15 MPH OVER IN A RESIDENTIAL AREA\n",
      "\n",
      "Output: SPEED 11-15 OVER LIMIT\n",
      "\n",
      "User feedback: Prediction is correct.\n",
      "\n",
      "\n",
      "### Example #5\n",
      "\n",
      "Input: SPEEDING 21+ MPH COUNTY/STATE\n",
      "\n",
      "Output: SPEED 21-25 OVER LIMIT\n",
      "\n",
      "User feedback: Prediction is correct.\n",
      "\n",
      "\n",
      "### Example #6\n",
      "\n",
      "Input: SPEEDING 86 MPH IN A 75 MPH ZONE\n",
      "\n",
      "Output: SPEED 11-15 OVER LIMIT\n",
      "\n",
      "User feedback: Prediction is correct.\n",
      "\n",
      "\n",
      "### Example #7\n",
      "\n",
      "Input: SPEEDING (CITY - NOT URBAN)\n",
      "\n",
      "Output: SPEED - GENERAL\n",
      "\n",
      "User feedback: Prediction is correct.\n",
      "\n",
      "\n",
      "### Example #8\n",
      "\n",
      "Input: SPEEDING MORE THAN 10 MPH (11-14)76/55\n",
      "\n",
      "Output: SPEED 11-15 OVER LIMIT\n",
      "\n",
      "User feedback: Prediction is correct.\n",
      "\n",
      "\n",
      "### Example #9\n",
      "\n",
      "Input: SPEEDING IN EXCESSS OF LAWFUL MAXIMUM LIMIT(S15)\n",
      "\n",
      "Output: SPEED - GENERAL\n",
      "\n",
      "User feedback: Prediction is correct.\n",
      "\n",
      "\n",
      "### Example #10\n",
      "\n",
      "Input: SPEEDING NEAR A CONSTRUCTION ZONE AT 48 MPH IN A 30 MPH ZONE,\n",
      "\n",
      "Output: SPEED IN WORK ZONE\n",
      "\n",
      "User feedback: Prediction is correct.\n",
      "\n",
      "\n",
      "### Example #11\n",
      "\n",
      "Input: SPEEDING (1-10)-CDL ONLY 45 MPH IN A 35 MPH ZONE\n",
      "\n",
      "Output: SPEED 6-10 OVER LIMIT\n",
      "\n",
      "User feedback: Prediction is correct.\n",
      "\n",
      "\n",
      "### Example #12\n",
      "\n",
      "Input: SPEEDING 25 PLUS\n",
      "\n",
      "Output: SPEED - GENERAL\n",
      "\n",
      "User feedback: Prediction is incorrect. Correct answer: \"SPEED 25 PLUS OVER LIMIT\"\n",
      "\n",
      "\n",
      "\n",
      "Summarize your analysis about incorrect predictions and suggest changes to the prompt.\n",
      "\"{assistant}\":\n",
      "Based on the analysis of the incorrect predictions, I have identified a few areas where the current prompt could be improved to address these issues:\n",
      "\n",
      "1. In Example #12, the model failed to generate the correct output because it did not account for the scenario where the excess speed is provided without an explicit numerical value. To handle such cases, we can add an additional criteria to the prompt:\n",
      "\n",
      "   **Suggested change:** If the violation description includes a phrase like \"SPEEDING X PLUS\" or \"SPEEDING X OR MORE,\" assign the label \"SPEED X PLUS OVER LIMIT.\"\n",
      "\n",
      "2. In Example #10, the model did not correctly identify the label for violations near a construction zone. This is likely because the prompt does not explicitly mention the phrase \"near a construction zone.\" To address this, we can modify the prompt to include this specific phrase:\n",
      "\n",
      "   **Suggested change:** If the violation description includes \"NEAR A CONSTRUCTION ZONE\" and a numerical speed, assign the label \"SPEED IN WORK ZONE.\"\n",
      "\n",
      "3. In Example #8, the model produced the correct output, but the prediction label \"SPEED 11-15 OVER LIMIT\" does not match the given output template. To improve consistency, we can modify the label to align with the template:\n",
      "\n",
      "   **Suggested change:** Change the label for violations with a range of speeds to \"SPEED X-Y OVER LIMIT\" (e.g., \"SPEED 11-15 OVER LIMIT\").\n",
      "\n",
      "With these suggested changes, the updated prompt would be as follows:\n",
      "\n",
      "## Updated prompt\n",
      "\n",
      "Your task is to classify each violation code into the correct category based on specific criteria. Consider the following instructions:\n",
      "\n",
      "1. If the violation description includes 'WORK ZONE' OR 'CONSTRUCTION ZONE' AND a numerical speed, assign the label \"SPEED IN WORK ZONE.\"\n",
      "\n",
      "2. If the violation description includes 'SCHOOL ZONE' AND a numerical speed, assign the label \"SPEED IN SCHOOL ZONE.\"\n",
      "\n",
      "3. For violations in the format 'SPEEDING X/Y,' deduce the excess amount (|X - Y|) to find the appropriate category range. If the calculated excess falls within a specific range like Example: SPEEDING 80/70 excess is 10, hence label would be SPEED X-Y OVER LIMIT because the excess is in the X-Y range.\n",
      "\n",
      "4. For explicit speeds, such as 'SPEED X MPH IN A Y MPH ZONE,' calculate the excess as |X - Y| to determine the fitting category range. If the calculated excess is above 45, use the label \"SPEED 46 PLUS OVER LIMIT.\"\n",
      "\n",
      "5. If the violation description includes a phrase like \"SPEEDING X PLUS\" or \"SPEEDING X OR MORE,\" assign the label \"SPEED X PLUS OVER LIMIT.\"\n",
      "\n",
      "6. If the violation description includes \"NEAR A CONSTRUCTION ZONE\" and a numerical speed, assign the label \"SPEED IN WORK ZONE.\"\n",
      "\n",
      "7. Use the label 'SPEED - GENERAL' for violations with non-numerical descriptions or qualitative descriptions without specific speed details.\n",
      "\n",
      "Remember to provide the correct category label based on the specified criteria for each violation code.\n",
      "\n",
      "Please review the suggested changes and let me know if you agree with the proposed modifications to the prompt.\n",
      "\"{user}\":\n",
      "\n",
      "Now please carefully review your reasoning in Step 1 and help with Step 2: refining the prompt.\n",
      "\n",
      "## Current prompt\n",
      "\n",
      "\n",
      "Your task is to classify each violation code into the correct category based on specific criteria. Consider the following instructions:\n",
      "\n",
      "1. If the violation description includes 'WORK ZONE' OR 'CONSTRUCTION ZONE', assign the label \"SPEED IN WORK ZONE.\" Apply the zone-specific labels regardless of mentions of numerical speeds like 1-10, 10-20, etc.\n",
      "\n",
      "2. If the violation description includes 'SCHOOL ZONE', assign the label \"SPEED IN SCHOOL ZONE.\" Apply the zone-specific labels regardless of mentions of numerical speeds like 1-10, 10-20, etc.\n",
      "\n",
      "3. For violations in the format 'SPEEDING X/Y,' deduce the excess amount (|X - Y|) to find the appropriate category range.  If the calculated excess falls within a specific range like Example: SPEEDING 80/70 excess is 10, hence label would be SPEED 6-10 OVER LIMIT because 10 is in the 6-10 range.\n",
      "\n",
      "4. For explicit speeds, such as 'SPEED X MPH IN A Y MPH ZONE,' calculate the excess as |X - Y| to determine the fitting category range. If the calculated excess is above 45, use the label \"SPEED 46 PLUS OVER LIMIT.\"\n",
      "\n",
      "5. Use the label 'SPEED - GENERAL' for violations with non-numerical descriptions or qualitative descriptions without specific speed details. Non-numerical descriptions mean that there is no mention of a range of speeds or quantifiable information regarding how much the speed exceeded by.\n",
      "\n",
      "Remember to provide the correct category label based on the specified criteria for each violation code.\n",
      "\n",
      "\n",
      "## Follow this guidance to refine the prompt:\n",
      "\n",
      "1. The new prompt should should describe the task precisely, and address the points raised in the user feedback.\n",
      "\n",
      "2. The new prompt should be similar to the current instruction, and only differ in the parts that address the issues you identified in Step 1.\n",
      "    Example:\n",
      "    - Current prompt: \"The model should generate a summary of the input text.\"\n",
      "    - New prompt: \"The model should generate a summary of the input text. Pay attention to the original style.\"\n",
      "\n",
      "3. Reply only with the new prompt. Do not include input and output templates in the prompt.\n"
     ]
    },
    {
     "data": {
      "text/html": [
       "<span style=\"background-color: lightgreen;\">R</span><span style=\"background-color: lightgreen;\">e</span><span style=\"background-color: lightgreen;\">f</span><span style=\"background-color: lightgreen;\">i</span><span style=\"background-color: lightgreen;\">n</span><span style=\"background-color: lightgreen;\">e</span><span style=\"background-color: lightgreen;\">d</span><span style=\"background-color: lightgreen;\"> </span><span style=\"background-color: lightgreen;\">P</span><span style=\"background-color: lightgreen;\">r</span><span style=\"background-color: lightgreen;\">o</span><span style=\"background-color: lightgreen;\">m</span><span style=\"background-color: lightgreen;\">p</span><span style=\"background-color: lightgreen;\">t</span><span style=\"background-color: lightgreen;\">:</span>\n",
       "\n",
       "Your task is to ca<span style=\"background-color: lightgreen;\">t</span><span style=\"background-color: lightgreen;\">e</span><span style=\"background-color: lightgreen;\">g</span><span style=\"background-color: lightgreen;\">o</span><span style=\"background-color: lightgreen;\">r</span>i<span style=\"background-color: lightgreen;\">z</span><span style=\"background-color: lightgreen;\">e</span><span style=\"background-color: lightgreen;\"> </span><span style=\"background-color: lightgreen;\">e</span><span style=\"background-color: lightgreen;\">a</span><span style=\"background-color: lightgreen;\">c</span><span style=\"background-color: lightgreen;\">h</span><span style=\"background-color: lightgreen;\"> </span><span style=\"background-color: lightgreen;\">v</span><span style=\"background-color: lightgreen;\">i</span><span style=\"background-color: lightgreen;\">o</span><span style=\"background-color: lightgreen;\">l</span><span style=\"background-color: lightgreen;\">a</span><span style=\"background-color: lightgreen;\">t</span><span style=\"background-color: lightgreen;\">i</span><span style=\"background-color: lightgreen;\">o</span><span style=\"background-color: lightgreen;\">n</span><span style=\"background-color: lightgreen;\"> </span><span style=\"background-color: lightgreen;\">c</span><span style=\"background-color: lightgreen;\">o</span><span style=\"background-color: lightgreen;\">d</span><span style=\"background-color: lightgreen;\">e</span><span style=\"background-color: lightgreen;\"> </span><span style=\"background-color: lightgreen;\">a</span><span style=\"background-color: lightgreen;\">c</span><span style=\"background-color: lightgreen;\">c</span><span style=\"background-color: lightgreen;\">u</span><span style=\"background-color: lightgreen;\">r</span><span style=\"background-color: lightgreen;\">a</span><span style=\"background-color: lightgreen;\">t</span><span style=\"background-color: lightgreen;\">e</span><span style=\"background-color: lightgreen;\">l</span>y <span style=\"background-color: lightgreen;\">b</span>a<span style=\"background-color: lightgreen;\">s</span><span style=\"background-color: lightgreen;\">e</span><span style=\"background-color: lightgreen;\">d</span><span style=\"background-color: lightgreen;\"> </span><span style=\"background-color: lightgreen;\">o</span><span style=\"background-color: lightgreen;\">n</span><span style=\"background-color: lightgreen;\"> </span><span style=\"background-color: lightgreen;\">s</span><span style=\"background-color: lightgreen;\">p</span><span style=\"background-color: lightgreen;\">e</span>c<span style=\"background-color: lightgreen;\">i</span><span style=\"background-color: lightgreen;\">f</span><span style=\"background-color: lightgreen;\">i</span><span style=\"background-color: lightgreen;\">c</span><span style=\"background-color: lightgreen;\"> </span><span style=\"background-color: lightgreen;\">c</span><span style=\"background-color: lightgreen;\">r</span><span style=\"background-color: lightgreen;\">i</span><span style=\"background-color: lightgreen;\">t</span><span style=\"background-color: lightgreen;\">e</span><span style=\"background-color: lightgreen;\">r</span><span style=\"background-color: lightgreen;\">i</span><span style=\"background-color: lightgreen;\">a</span><span style=\"background-color: lightgreen;\">.</span><span style=\"background-color: lightgreen;\"> </span><span style=\"background-color: lightgreen;\">C</span><span style=\"background-color: lightgreen;\">o</span><span style=\"background-color: lightgreen;\">n</span><span style=\"background-color: lightgreen;\">s</span><span style=\"background-color: lightgreen;\">i</span><span style=\"background-color: lightgreen;\">d</span><span style=\"background-color: lightgreen;\">e</span><span style=\"background-color: lightgreen;\">r</span><span style=\"background-color: lightgreen;\"> </span><span style=\"background-color: lightgreen;\">t</span>h<span style=\"background-color: lightgreen;\">e</span><span style=\"background-color: lightgreen;\"> </span><span style=\"background-color: lightgreen;\">f</span><span style=\"background-color: lightgreen;\">o</span><span style=\"background-color: lightgreen;\">l</span><span style=\"background-color: lightgreen;\">l</span><span style=\"background-color: lightgreen;\">o</span><span style=\"background-color: lightgreen;\">w</span><span style=\"background-color: lightgreen;\">i</span><span style=\"background-color: lightgreen;\">n</span><span style=\"background-color: lightgreen;\">g</span><span style=\"background-color: lightgreen;\"> </span><span style=\"background-color: lightgreen;\">i</span><span style=\"background-color: lightgreen;\">n</span><span style=\"background-color: lightgreen;\">s</span><span style=\"background-color: lightgreen;\">t</span><span style=\"background-color: lightgreen;\">r</span><span style=\"background-color: lightgreen;\">u</span><span style=\"background-color: lightgreen;\">c</span><span style=\"background-color: lightgreen;\">t</span><span style=\"background-color: lightgreen;\">i</span><span style=\"background-color: lightgreen;\">o</span><span style=\"background-color: lightgreen;\">n</span><span style=\"background-color: lightgreen;\">s</span><span style=\"background-color: lightgreen;\">:</span><span style=\"background-color: lightgreen;\">\n",
       "</span><span style=\"background-color: lightgreen;\">\n",
       "</span><span style=\"background-color: lightgreen;\">1</span><span style=\"background-color: lightgreen;\">.</span><span style=\"background-color: lightgreen;\"> </span><span style=\"background-color: lightgreen;\">A</span><span style=\"background-color: lightgreen;\">s</span><span style=\"background-color: lightgreen;\">s</span><span style=\"background-color: lightgreen;\">i</span><span style=\"background-color: lightgreen;\">g</span><span style=\"background-color: lightgreen;\">n</span><span style=\"background-color: lightgreen;\"> </span><span style=\"background-color: lightgreen;\">t</span><span style=\"background-color: lightgreen;\">h</span><span style=\"background-color: lightgreen;\">e</span><span style=\"background-color: lightgreen;\"> </span><span style=\"background-color: lightgreen;\">l</span><span style=\"background-color: lightgreen;\">a</span><span style=\"background-color: lightgreen;\">b</span><span style=\"background-color: lightgreen;\">e</span><span style=\"background-color: lightgreen;\">l</span><span style=\"background-color: lightgreen;\"> </span><span style=\"background-color: lightgreen;\">\"</span><span style=\"background-color: lightgreen;\">S</span><span style=\"background-color: lightgreen;\">P</span><span style=\"background-color: lightgreen;\">E</span><span style=\"background-color: lightgreen;\">E</span><span style=\"background-color: lightgreen;\">D</span><span style=\"background-color: lightgreen;\"> </span><span style=\"background-color: lightgreen;\">I</span><span style=\"background-color: lightgreen;\">N</span><span style=\"background-color: lightgreen;\"> </span><span style=\"background-color: lightgreen;\">W</span><span style=\"background-color: lightgreen;\">O</span><span style=\"background-color: lightgreen;\">R</span><span style=\"background-color: lightgreen;\">K</span><span style=\"background-color: lightgreen;\"> </span><span style=\"background-color: lightgreen;\">Z</span><span style=\"background-color: lightgreen;\">O</span><span style=\"background-color: lightgreen;\">N</span><span style=\"background-color: lightgreen;\">E</span><span style=\"background-color: lightgreen;\">\"</span><span style=\"background-color: lightgreen;\"> </span><span style=\"background-color: lightgreen;\">t</span><span style=\"background-color: lightgreen;\">o</span> violations that include<span style=\"background-color: lightgreen;\"> </span><span style=\"background-color: lightgreen;\">t</span><span style=\"background-color: lightgreen;\">h</span><span style=\"background-color: lightgreen;\">e</span><span style=\"background-color: lightgreen;\"> </span><span style=\"background-color: lightgreen;\">p</span><span style=\"background-color: lightgreen;\">h</span><span style=\"background-color: lightgreen;\">r</span><span style=\"background-color: lightgreen;\">a</span>s<span style=\"background-color: lightgreen;\">e</span> 'WORK ZONE' <span style=\"background-color: lightgreen;\">o</span><span style=\"background-color: lightgreen;\">r</span> 'CONSTRUCTION ZONE'<span style=\"background-color: lightgreen;\">.</span> <span style=\"background-color: lightgreen;\">I</span><span style=\"background-color: lightgreen;\">g</span><span style=\"background-color: lightgreen;\">n</span><span style=\"background-color: lightgreen;\">o</span><span style=\"background-color: lightgreen;\">r</span><span style=\"background-color: lightgreen;\">e</span><span style=\"background-color: lightgreen;\"> </span>a<span style=\"background-color: lightgreen;\">n</span><span style=\"background-color: lightgreen;\">y</span><span style=\"background-color: lightgreen;\"> </span><span style=\"background-color: lightgreen;\">m</span><span style=\"background-color: lightgreen;\">e</span><span style=\"background-color: lightgreen;\">n</span><span style=\"background-color: lightgreen;\">t</span><span style=\"background-color: lightgreen;\">i</span><span style=\"background-color: lightgreen;\">o</span><span style=\"background-color: lightgreen;\">n</span><span style=\"background-color: lightgreen;\">s</span><span style=\"background-color: lightgreen;\"> </span><span style=\"background-color: lightgreen;\">o</span><span style=\"background-color: lightgreen;\">f</span><span style=\"background-color: lightgreen;\"> </span><span style=\"background-color: lightgreen;\">n</span><span style=\"background-color: lightgreen;\">u</span><span style=\"background-color: lightgreen;\">m</span><span style=\"background-color: lightgreen;\">e</span><span style=\"background-color: lightgreen;\">r</span><span style=\"background-color: lightgreen;\">i</span><span style=\"background-color: lightgreen;\">c</span><span style=\"background-color: lightgreen;\">a</span><span style=\"background-color: lightgreen;\">l</span><span style=\"background-color: lightgreen;\"> </span><span style=\"background-color: lightgreen;\">s</span><span style=\"background-color: lightgreen;\">p</span><span style=\"background-color: lightgreen;\">e</span><span style=\"background-color: lightgreen;\">e</span><span style=\"background-color: lightgreen;\">d</span><span style=\"background-color: lightgreen;\">s</span><span style=\"background-color: lightgreen;\">.</span><span style=\"background-color: lightgreen;\">\n",
       "</span><span style=\"background-color: lightgreen;\">\n",
       "</span><span style=\"background-color: lightgreen;\">2</span><span style=\"background-color: lightgreen;\">.</span><span style=\"background-color: lightgreen;\"> </span><span style=\"background-color: lightgreen;\">A</span>ssign the label \"SPEED IN <span style=\"background-color: lightgreen;\">S</span><span style=\"background-color: lightgreen;\">C</span><span style=\"background-color: lightgreen;\">H</span>O<span style=\"background-color: lightgreen;\">O</span><span style=\"background-color: lightgreen;\">L</span> ZONE\" to violations <span style=\"background-color: lightgreen;\">t</span><span style=\"background-color: lightgreen;\">h</span><span style=\"background-color: lightgreen;\">a</span><span style=\"background-color: lightgreen;\">t</span><span style=\"background-color: lightgreen;\"> </span>include<span style=\"background-color: lightgreen;\"> </span><span style=\"background-color: lightgreen;\">t</span><span style=\"background-color: lightgreen;\">h</span><span style=\"background-color: lightgreen;\">e</span><span style=\"background-color: lightgreen;\"> </span><span style=\"background-color: lightgreen;\">p</span><span style=\"background-color: lightgreen;\">h</span><span style=\"background-color: lightgreen;\">r</span><span style=\"background-color: lightgreen;\">a</span>s<span style=\"background-color: lightgreen;\">e</span> 'SCHOOL ZONE'<span style=\"background-color: lightgreen;\">.</span><span style=\"background-color: lightgreen;\"> </span><span style=\"background-color: lightgreen;\">I</span><span style=\"background-color: lightgreen;\">g</span><span style=\"background-color: lightgreen;\">n</span><span style=\"background-color: lightgreen;\">o</span><span style=\"background-color: lightgreen;\">r</span><span style=\"background-color: lightgreen;\">e</span><span style=\"background-color: lightgreen;\"> </span><span style=\"background-color: lightgreen;\">a</span><span style=\"background-color: lightgreen;\">n</span><span style=\"background-color: lightgreen;\">y</span><span style=\"background-color: lightgreen;\"> </span><span style=\"background-color: lightgreen;\">m</span><span style=\"background-color: lightgreen;\">e</span><span style=\"background-color: lightgreen;\">n</span><span style=\"background-color: lightgreen;\">t</span><span style=\"background-color: lightgreen;\">i</span><span style=\"background-color: lightgreen;\">o</span><span style=\"background-color: lightgreen;\">n</span><span style=\"background-color: lightgreen;\">s</span><span style=\"background-color: lightgreen;\"> </span><span style=\"background-color: lightgreen;\">o</span><span style=\"background-color: lightgreen;\">f</span><span style=\"background-color: lightgreen;\"> </span><span style=\"background-color: lightgreen;\">n</span><span style=\"background-color: lightgreen;\">u</span><span style=\"background-color: lightgreen;\">m</span><span style=\"background-color: lightgreen;\">e</span><span style=\"background-color: lightgreen;\">r</span><span style=\"background-color: lightgreen;\">i</span><span style=\"background-color: lightgreen;\">c</span><span style=\"background-color: lightgreen;\">a</span><span style=\"background-color: lightgreen;\">l</span><span style=\"background-color: lightgreen;\"> </span><span style=\"background-color: lightgreen;\">s</span><span style=\"background-color: lightgreen;\">p</span><span style=\"background-color: lightgreen;\">e</span><span style=\"background-color: lightgreen;\">e</span><span style=\"background-color: lightgreen;\">d</span><span style=\"background-color: lightgreen;\">s</span><span style=\"background-color: lightgreen;\">.</span><span style=\"background-color: lightgreen;\">\n",
       "</span><span style=\"background-color: lightgreen;\">\n",
       "</span><span style=\"background-color: lightgreen;\">3</span><span style=\"background-color: lightgreen;\">.</span><span style=\"background-color: lightgreen;\"> </span><span style=\"background-color: lightgreen;\">F</span><span style=\"background-color: lightgreen;\">o</span><span style=\"background-color: lightgreen;\">r</span><span style=\"background-color: lightgreen;\"> </span><span style=\"background-color: lightgreen;\">v</span><span style=\"background-color: lightgreen;\">i</span><span style=\"background-color: lightgreen;\">o</span><span style=\"background-color: lightgreen;\">l</span><span style=\"background-color: lightgreen;\">a</span><span style=\"background-color: lightgreen;\">t</span><span style=\"background-color: lightgreen;\">i</span><span style=\"background-color: lightgreen;\">o</span><span style=\"background-color: lightgreen;\">n</span><span style=\"background-color: lightgreen;\">s</span><span style=\"background-color: lightgreen;\"> </span><span style=\"background-color: lightgreen;\">i</span><span style=\"background-color: lightgreen;\">n</span><span style=\"background-color: lightgreen;\"> </span><span style=\"background-color: lightgreen;\">t</span><span style=\"background-color: lightgreen;\">h</span><span style=\"background-color: lightgreen;\">e</span><span style=\"background-color: lightgreen;\"> </span><span style=\"background-color: lightgreen;\">f</span><span style=\"background-color: lightgreen;\">o</span><span style=\"background-color: lightgreen;\">r</span><span style=\"background-color: lightgreen;\">m</span><span style=\"background-color: lightgreen;\">a</span><span style=\"background-color: lightgreen;\">t</span><span style=\"background-color: lightgreen;\"> </span><span style=\"background-color: lightgreen;\">'</span><span style=\"background-color: lightgreen;\">S</span><span style=\"background-color: lightgreen;\">P</span><span style=\"background-color: lightgreen;\">E</span><span style=\"background-color: lightgreen;\">E</span><span style=\"background-color: lightgreen;\">D</span><span style=\"background-color: lightgreen;\">I</span><span style=\"background-color: lightgreen;\">N</span><span style=\"background-color: lightgreen;\">G</span><span style=\"background-color: lightgreen;\"> </span><span style=\"background-color: lightgreen;\">X</span><span style=\"background-color: lightgreen;\">/</span><span style=\"background-color: lightgreen;\">Y</span><span style=\"background-color: lightgreen;\">'</span><span style=\"background-color: lightgreen;\">,</span><span style=\"background-color: lightgreen;\"> </span><span style=\"background-color: lightgreen;\">d</span><span style=\"background-color: lightgreen;\">e</span><span style=\"background-color: lightgreen;\">t</span><span style=\"background-color: lightgreen;\">e</span><span style=\"background-color: lightgreen;\">r</span><span style=\"background-color: lightgreen;\">m</span><span style=\"background-color: lightgreen;\">i</span><span style=\"background-color: lightgreen;\">n</span><span style=\"background-color: lightgreen;\">e</span><span style=\"background-color: lightgreen;\"> </span><span style=\"background-color: lightgreen;\">t</span><span style=\"background-color: lightgreen;\">h</span><span style=\"background-color: lightgreen;\">e</span><span style=\"background-color: lightgreen;\"> </span><span style=\"background-color: lightgreen;\">e</span><span style=\"background-color: lightgreen;\">x</span><span style=\"background-color: lightgreen;\">c</span><span style=\"background-color: lightgreen;\">e</span><span style=\"background-color: lightgreen;\">s</span><span style=\"background-color: lightgreen;\">s</span><span style=\"background-color: lightgreen;\"> </span><span style=\"background-color: lightgreen;\">a</span><span style=\"background-color: lightgreen;\">m</span><span style=\"background-color: lightgreen;\">o</span><span style=\"background-color: lightgreen;\">u</span><span style=\"background-color: lightgreen;\">n</span><span style=\"background-color: lightgreen;\">t</span><span style=\"background-color: lightgreen;\"> </span><span style=\"background-color: lightgreen;\">(</span><span style=\"background-color: lightgreen;\">|</span><span style=\"background-color: lightgreen;\">X</span><span style=\"background-color: lightgreen;\"> </span><span style=\"background-color: lightgreen;\">-</span><span style=\"background-color: lightgreen;\"> </span><span style=\"background-color: lightgreen;\">Y</span><span style=\"background-color: lightgreen;\">|</span><span style=\"background-color: lightgreen;\">)</span><span style=\"background-color: lightgreen;\">.</span><span style=\"background-color: lightgreen;\"> </span><span style=\"background-color: lightgreen;\">I</span><span style=\"background-color: lightgreen;\">f</span><span style=\"background-color: lightgreen;\"> </span><span style=\"background-color: lightgreen;\">t</span><span style=\"background-color: lightgreen;\">h</span><span style=\"background-color: lightgreen;\">e</span><span style=\"background-color: lightgreen;\"> </span><span style=\"background-color: lightgreen;\">c</span><span style=\"background-color: lightgreen;\">a</span><span style=\"background-color: lightgreen;\">l</span><span style=\"background-color: lightgreen;\">c</span><span style=\"background-color: lightgreen;\">u</span><span style=\"background-color: lightgreen;\">l</span><span style=\"background-color: lightgreen;\">a</span><span style=\"background-color: lightgreen;\">t</span><span style=\"background-color: lightgreen;\">e</span><span style=\"background-color: lightgreen;\">d</span><span style=\"background-color: lightgreen;\"> </span><span style=\"background-color: lightgreen;\">e</span><span style=\"background-color: lightgreen;\">x</span><span style=\"background-color: lightgreen;\">c</span><span style=\"background-color: lightgreen;\">e</span><span style=\"background-color: lightgreen;\">s</span><span style=\"background-color: lightgreen;\">s</span><span style=\"background-color: lightgreen;\"> </span><span style=\"background-color: lightgreen;\">f</span><span style=\"background-color: lightgreen;\">a</span><span style=\"background-color: lightgreen;\">l</span><span style=\"background-color: lightgreen;\">l</span><span style=\"background-color: lightgreen;\">s</span><span style=\"background-color: lightgreen;\"> </span><span style=\"background-color: lightgreen;\">w</span><span style=\"background-color: lightgreen;\">i</span><span style=\"background-color: lightgreen;\">t</span><span style=\"background-color: lightgreen;\">h</span><span style=\"background-color: lightgreen;\">i</span><span style=\"background-color: lightgreen;\">n</span><span style=\"background-color: lightgreen;\"> </span><span style=\"background-color: lightgreen;\">a</span><span style=\"background-color: lightgreen;\"> </span><span style=\"background-color: lightgreen;\">s</span><span style=\"background-color: lightgreen;\">p</span><span style=\"background-color: lightgreen;\">e</span><span style=\"background-color: lightgreen;\">c</span><span style=\"background-color: lightgreen;\">i</span><span style=\"background-color: lightgreen;\">f</span><span style=\"background-color: lightgreen;\">i</span><span style=\"background-color: lightgreen;\">c</span><span style=\"background-color: lightgreen;\"> </span><span style=\"background-color: lightgreen;\">r</span><span style=\"background-color: lightgreen;\">a</span><span style=\"background-color: lightgreen;\">n</span><span style=\"background-color: lightgreen;\">g</span><span style=\"background-color: lightgreen;\">e</span>, assign the label \"SPEED <span style=\"background-color: lightgreen;\">X</span><span style=\"background-color: lightgreen;\">-</span><span style=\"background-color: lightgreen;\">Y</span> O<span style=\"background-color: lightgreen;\">V</span><span style=\"background-color: lightgreen;\">E</span><span style=\"background-color: lightgreen;\">R</span><span style=\"background-color: lightgreen;\"> </span>L<span style=\"background-color: lightgreen;\">I</span><span style=\"background-color: lightgreen;\">M</span><span style=\"background-color: lightgreen;\">I</span><span style=\"background-color: lightgreen;\">T</span>\".\n",
       "\n",
       "<span style=\"background-color: lightgreen;\">4</span>. For e<span style=\"background-color: lightgreen;\">x</span><span style=\"background-color: lightgreen;\">p</span><span style=\"background-color: lightgreen;\">l</span><span style=\"background-color: lightgreen;\">i</span><span style=\"background-color: lightgreen;\">c</span><span style=\"background-color: lightgreen;\">i</span>t<span style=\"background-color: lightgreen;\"> </span><span style=\"background-color: lightgreen;\">s</span><span style=\"background-color: lightgreen;\">p</span><span style=\"background-color: lightgreen;\">e</span><span style=\"background-color: lightgreen;\">e</span><span style=\"background-color: lightgreen;\">d</span><span style=\"background-color: lightgreen;\">s</span><span style=\"background-color: lightgreen;\"> </span><span style=\"background-color: lightgreen;\">m</span><span style=\"background-color: lightgreen;\">e</span><span style=\"background-color: lightgreen;\">n</span><span style=\"background-color: lightgreen;\">t</span><span style=\"background-color: lightgreen;\">i</span><span style=\"background-color: lightgreen;\">o</span><span style=\"background-color: lightgreen;\">n</span><span style=\"background-color: lightgreen;\">e</span><span style=\"background-color: lightgreen;\">d</span><span style=\"background-color: lightgreen;\"> </span><span style=\"background-color: lightgreen;\">a</span><span style=\"background-color: lightgreen;\">s</span> 'SPEED X MPH IN A Y MPH ZONE<span style=\"background-color: lightgreen;\">'</span>, calculate the excess as |X - Y|. If the excess e<span style=\"background-color: lightgreen;\">x</span><span style=\"background-color: lightgreen;\">c</span><span style=\"background-color: lightgreen;\">e</span><span style=\"background-color: lightgreen;\">e</span><span style=\"background-color: lightgreen;\">d</span><span style=\"background-color: lightgreen;\">s</span> 45, <span style=\"background-color: lightgreen;\">a</span>s<span style=\"background-color: lightgreen;\">s</span><span style=\"background-color: lightgreen;\">i</span><span style=\"background-color: lightgreen;\">g</span><span style=\"background-color: lightgreen;\">n</span> the label \"SPEED 46 PLUS OVER LIMIT\"<span style=\"background-color: lightgreen;\">.</span>\n",
       "\n",
       "5. Use the label 'SPEED - GENERAL' for violations with non-numerical descriptions or qualitative descriptions <span style=\"background-color: lightgreen;\">t</span><span style=\"background-color: lightgreen;\">h</span><span style=\"background-color: lightgreen;\">a</span><span style=\"background-color: lightgreen;\">t</span><span style=\"background-color: lightgreen;\"> </span><span style=\"background-color: lightgreen;\">d</span><span style=\"background-color: lightgreen;\">o</span><span style=\"background-color: lightgreen;\"> </span><span style=\"background-color: lightgreen;\">n</span><span style=\"background-color: lightgreen;\">o</span><span style=\"background-color: lightgreen;\">t</span><span style=\"background-color: lightgreen;\"> </span><span style=\"background-color: lightgreen;\">p</span><span style=\"background-color: lightgreen;\">r</span><span style=\"background-color: lightgreen;\">o</span><span style=\"background-color: lightgreen;\">v</span><span style=\"background-color: lightgreen;\">i</span><span style=\"background-color: lightgreen;\">d</span><span style=\"background-color: lightgreen;\">e</span><span style=\"background-color: lightgreen;\"> </span><span style=\"background-color: lightgreen;\">s</span><span style=\"background-color: lightgreen;\">p</span><span style=\"background-color: lightgreen;\">e</span><span style=\"background-color: lightgreen;\">c</span><span style=\"background-color: lightgreen;\">i</span><span style=\"background-color: lightgreen;\">f</span><span style=\"background-color: lightgreen;\">i</span><span style=\"background-color: lightgreen;\">c</span><span style=\"background-color: lightgreen;\"> </span><span style=\"background-color: lightgreen;\">s</span><span style=\"background-color: lightgreen;\">p</span><span style=\"background-color: lightgreen;\">e</span><span style=\"background-color: lightgreen;\">e</span><span style=\"background-color: lightgreen;\">d</span><span style=\"background-color: lightgreen;\"> </span><span style=\"background-color: lightgreen;\">d</span><span style=\"background-color: lightgreen;\">e</span><span style=\"background-color: lightgreen;\">t</span><span style=\"background-color: lightgreen;\">a</span><span style=\"background-color: lightgreen;\">i</span><span style=\"background-color: lightgreen;\">l</span><span style=\"background-color: lightgreen;\">s</span><span style=\"background-color: lightgreen;\">.</span><span style=\"background-color: lightgreen;\">\n",
       "</span><span style=\"background-color: lightgreen;\">\n",
       "</span><span style=\"background-color: lightgreen;\">R</span><span style=\"background-color: lightgreen;\">e</span><span style=\"background-color: lightgreen;\">m</span><span style=\"background-color: lightgreen;\">e</span><span style=\"background-color: lightgreen;\">m</span><span style=\"background-color: lightgreen;\">b</span><span style=\"background-color: lightgreen;\">e</span><span style=\"background-color: lightgreen;\">r</span><span style=\"background-color: lightgreen;\"> </span><span style=\"background-color: lightgreen;\">t</span><span style=\"background-color: lightgreen;\">o</span><span style=\"background-color: lightgreen;\"> </span><span style=\"background-color: lightgreen;\">a</span><span style=\"background-color: lightgreen;\">s</span><span style=\"background-color: lightgreen;\">s</span><span style=\"background-color: lightgreen;\">i</span><span style=\"background-color: lightgreen;\">g</span><span style=\"background-color: lightgreen;\">n</span><span style=\"background-color: lightgreen;\"> </span><span style=\"background-color: lightgreen;\">t</span><span style=\"background-color: lightgreen;\">h</span><span style=\"background-color: lightgreen;\">e</span><span style=\"background-color: lightgreen;\"> </span><span style=\"background-color: lightgreen;\">c</span><span style=\"background-color: lightgreen;\">o</span><span style=\"background-color: lightgreen;\">r</span><span style=\"background-color: lightgreen;\">r</span><span style=\"background-color: lightgreen;\">e</span><span style=\"background-color: lightgreen;\">c</span><span style=\"background-color: lightgreen;\">t</span><span style=\"background-color: lightgreen;\"> </span><span style=\"background-color: lightgreen;\">c</span><span style=\"background-color: lightgreen;\">a</span><span style=\"background-color: lightgreen;\">t</span><span style=\"background-color: lightgreen;\">e</span><span style=\"background-color: lightgreen;\">g</span><span style=\"background-color: lightgreen;\">o</span><span style=\"background-color: lightgreen;\">r</span><span style=\"background-color: lightgreen;\">y</span><span style=\"background-color: lightgreen;\"> </span><span style=\"background-color: lightgreen;\">l</span><span style=\"background-color: lightgreen;\">a</span><span style=\"background-color: lightgreen;\">b</span><span style=\"background-color: lightgreen;\">e</span><span style=\"background-color: lightgreen;\">l</span><span style=\"background-color: lightgreen;\"> </span><span style=\"background-color: lightgreen;\">t</span><span style=\"background-color: lightgreen;\">o</span><span style=\"background-color: lightgreen;\"> </span><span style=\"background-color: lightgreen;\">e</span><span style=\"background-color: lightgreen;\">a</span><span style=\"background-color: lightgreen;\">c</span><span style=\"background-color: lightgreen;\">h</span><span style=\"background-color: lightgreen;\"> </span><span style=\"background-color: lightgreen;\">v</span><span style=\"background-color: lightgreen;\">i</span><span style=\"background-color: lightgreen;\">o</span><span style=\"background-color: lightgreen;\">l</span><span style=\"background-color: lightgreen;\">a</span><span style=\"background-color: lightgreen;\">t</span><span style=\"background-color: lightgreen;\">i</span><span style=\"background-color: lightgreen;\">o</span><span style=\"background-color: lightgreen;\">n</span><span style=\"background-color: lightgreen;\"> </span><span style=\"background-color: lightgreen;\">c</span><span style=\"background-color: lightgreen;\">o</span><span style=\"background-color: lightgreen;\">d</span><span style=\"background-color: lightgreen;\">e</span><span style=\"background-color: lightgreen;\"> </span><span style=\"background-color: lightgreen;\">b</span><span style=\"background-color: lightgreen;\">a</span><span style=\"background-color: lightgreen;\">s</span><span style=\"background-color: lightgreen;\">e</span><span style=\"background-color: lightgreen;\">d</span><span style=\"background-color: lightgreen;\"> </span><span style=\"background-color: lightgreen;\">o</span><span style=\"background-color: lightgreen;\">n</span><span style=\"background-color: lightgreen;\"> </span><span style=\"background-color: lightgreen;\">t</span><span style=\"background-color: lightgreen;\">h</span><span style=\"background-color: lightgreen;\">e</span><span style=\"background-color: lightgreen;\"> </span><span style=\"background-color: lightgreen;\">s</span><span style=\"background-color: lightgreen;\">p</span><span style=\"background-color: lightgreen;\">e</span><span style=\"background-color: lightgreen;\">c</span><span style=\"background-color: lightgreen;\">i</span><span style=\"background-color: lightgreen;\">f</span><span style=\"background-color: lightgreen;\">i</span><span style=\"background-color: lightgreen;\">e</span><span style=\"background-color: lightgreen;\">d</span><span style=\"background-color: lightgreen;\"> </span><span style=\"background-color: lightgreen;\">c</span><span style=\"background-color: lightgreen;\">r</span><span style=\"background-color: lightgreen;\">i</span><span style=\"background-color: lightgreen;\">t</span><span style=\"background-color: lightgreen;\">e</span><span style=\"background-color: lightgreen;\">r</span><span style=\"background-color: lightgreen;\">i</span><span style=\"background-color: lightgreen;\">a</span><span style=\"background-color: lightgreen;\">.</span><span style=\"background-color: lightgreen;\">\n",
       "</span><span style=\"background-color: lightgreen;\">\n",
       "</span><span style=\"background-color: lightgreen;\">P</span><span style=\"background-color: lightgreen;\">l</span><span style=\"background-color: lightgreen;\">e</span><span style=\"background-color: lightgreen;\">a</span><span style=\"background-color: lightgreen;\">s</span><span style=\"background-color: lightgreen;\">e</span><span style=\"background-color: lightgreen;\"> </span><span style=\"background-color: lightgreen;\">r</span><span style=\"background-color: lightgreen;\">e</span><span style=\"background-color: lightgreen;\">v</span><span style=\"background-color: lightgreen;\">i</span><span style=\"background-color: lightgreen;\">e</span>w the ref<span style=\"background-color: lightgreen;\">i</span><span style=\"background-color: lightgreen;\">n</span>ed <span style=\"background-color: lightgreen;\">p</span>r<span style=\"background-color: lightgreen;\">o</span><span style=\"background-color: lightgreen;\">m</span><span style=\"background-color: lightgreen;\">p</span><span style=\"background-color: lightgreen;\">t</span> <span style=\"background-color: lightgreen;\">a</span><span style=\"background-color: lightgreen;\">n</span><span style=\"background-color: lightgreen;\">d</span><span style=\"background-color: lightgreen;\"> </span><span style=\"background-color: lightgreen;\">l</span><span style=\"background-color: lightgreen;\">e</span><span style=\"background-color: lightgreen;\">t</span><span style=\"background-color: lightgreen;\"> </span><span style=\"background-color: lightgreen;\">m</span><span style=\"background-color: lightgreen;\">e</span><span style=\"background-color: lightgreen;\"> </span><span style=\"background-color: lightgreen;\">k</span><span style=\"background-color: lightgreen;\">n</span><span style=\"background-color: lightgreen;\">o</span><span style=\"background-color: lightgreen;\">w</span><span style=\"background-color: lightgreen;\"> </span><span style=\"background-color: lightgreen;\">i</span><span style=\"background-color: lightgreen;\">f</span><span style=\"background-color: lightgreen;\"> </span><span style=\"background-color: lightgreen;\">a</span><span style=\"background-color: lightgreen;\">n</span><span style=\"background-color: lightgreen;\">y</span><span style=\"background-color: lightgreen;\"> </span><span style=\"background-color: lightgreen;\">f</span><span style=\"background-color: lightgreen;\">u</span><span style=\"background-color: lightgreen;\">r</span><span style=\"background-color: lightgreen;\">t</span><span style=\"background-color: lightgreen;\">h</span><span style=\"background-color: lightgreen;\">e</span><span style=\"background-color: lightgreen;\">r</span><span style=\"background-color: lightgreen;\"> </span><span style=\"background-color: lightgreen;\">m</span><span style=\"background-color: lightgreen;\">o</span><span style=\"background-color: lightgreen;\">d</span><span style=\"background-color: lightgreen;\">i</span><span style=\"background-color: lightgreen;\">f</span><span style=\"background-color: lightgreen;\">i</span><span style=\"background-color: lightgreen;\">c</span><span style=\"background-color: lightgreen;\">a</span><span style=\"background-color: lightgreen;\">t</span><span style=\"background-color: lightgreen;\">i</span><span style=\"background-color: lightgreen;\">o</span><span style=\"background-color: lightgreen;\">n</span><span style=\"background-color: lightgreen;\">s</span><span style=\"background-color: lightgreen;\"> </span><span style=\"background-color: lightgreen;\">a</span><span style=\"background-color: lightgreen;\">r</span><span style=\"background-color: lightgreen;\">e</span><span style=\"background-color: lightgreen;\"> </span><span style=\"background-color: lightgreen;\">r</span><span style=\"background-color: lightgreen;\">e</span>quired."
      ],
      "text/plain": [
       "<IPython.core.display.HTML object>"
      ]
     },
     "metadata": {},
     "output_type": "display_data"
    },
    {
     "data": {
      "text/html": [
       "<pre style=\"white-space:pre;overflow-x:auto;line-height:normal;font-family:Menlo,'DejaVu Sans Mono',consolas,'Courier New',monospace\">\n",
       "\n",
       "=&gt; Iteration #<span style=\"color: #008080; text-decoration-color: #008080; font-weight: bold\">1</span>: Getting feedback, analyzing and improving <span style=\"color: #808000; text-decoration-color: #808000\">...</span>\n",
       "</pre>\n"
      ],
      "text/plain": [
       "\n",
       "\n",
       "=> Iteration #\u001b[1;36m1\u001b[0m: Getting feedback, analyzing and improving \u001b[33m...\u001b[0m\n"
      ]
     },
     "metadata": {},
     "output_type": "display_data"
    },
    {
     "data": {
      "text/html": [
       "<pre style=\"white-space:pre;overflow-x:auto;line-height:normal;font-family:Menlo,'DejaVu Sans Mono',consolas,'Courier New',monospace\">Applying skill: speeding_violation_catergorize\n",
       "</pre>\n"
      ],
      "text/plain": [
       "Applying skill: speeding_violation_catergorize\n"
      ]
     },
     "metadata": {},
     "output_type": "display_data"
    },
    {
     "name": "stderr",
     "output_type": "stream",
     "text": [
      "  0%|                                                   | 0/13 [00:00<?, ?it/s]/Users/pranav/opt/anaconda3/envs/label/lib/python3.8/site-packages/guidance/library/_select.py:146: RuntimeWarning: divide by zero encountered in log\n",
      "  logprobs_out[k] = np.log(or_prob)\n",
      "100%|██████████████████████████████████████████| 13/13 [00:08<00:00,  1.61it/s]\n"
     ]
    },
    {
     "data": {
      "text/html": [
       "<pre style=\"white-space:pre;overflow-x:auto;line-height:normal;font-family:Menlo,'DejaVu Sans Mono',consolas,'Courier New',monospace\">Predictions and feedback:\n",
       "</pre>\n"
      ],
      "text/plain": [
       "Predictions and feedback:\n"
      ]
     },
     "metadata": {},
     "output_type": "display_data"
    },
    {
     "data": {
      "text/html": [
       "<pre style=\"white-space:pre;overflow-x:auto;line-height:normal;font-family:Menlo,'DejaVu Sans Mono',consolas,'Courier New',monospace\">                                                                                                                   \n",
       " <span style=\"color: #800080; text-decoration-color: #800080; font-weight: bold\"> prediction__fb              </span> <span style=\"color: #800080; text-decoration-color: #800080; font-weight: bold\"> text                        </span> <span style=\"color: #800080; text-decoration-color: #800080; font-weight: bold\"> ground_truth             </span> <span style=\"color: #800080; text-decoration-color: #800080; font-weight: bold\"> prediction               </span> \n",
       " ───────────────────────────────────────────────────────────────────────────────────────────────────────────────── \n",
       "  Prediction is incorrect.      EXCEED POSTED SPEED/BRIDGE    SPEED 11-15 OVER LIMIT     SPEED 46 PLUS OVER LIMIT  \n",
       "  Correct answer: \"SPEED        BY 13 MPH                                                                          \n",
       "  11-15 OVER LIMIT\"                                                                                                \n",
       " <span style=\"color: #7f7f7f; text-decoration-color: #7f7f7f\"> Prediction is correct.      </span> <span style=\"color: #7f7f7f; text-decoration-color: #7f7f7f\"> SPEEDING IN SCHOOL ZONE 16  </span> <span style=\"color: #7f7f7f; text-decoration-color: #7f7f7f\"> SPEED IN SCHOOL ZONE     </span> <span style=\"color: #7f7f7f; text-decoration-color: #7f7f7f\"> SPEED IN SCHOOL ZONE     </span> \n",
       " <span style=\"color: #7f7f7f; text-decoration-color: #7f7f7f\">                             </span> <span style=\"color: #7f7f7f; text-decoration-color: #7f7f7f\"> MPH IN A 20 MPH ZONE        </span> <span style=\"color: #7f7f7f; text-decoration-color: #7f7f7f\">                          </span> <span style=\"color: #7f7f7f; text-decoration-color: #7f7f7f\">                          </span> \n",
       "  Prediction is incorrect.      SPEEDING 80/70                SPEED 6-10 OVER LIMIT      SPEED 11-15 OVER LIMIT    \n",
       "  Correct answer: \"SPEED 6-10                                                                                      \n",
       "  OVER LIMIT\"                                                                                                      \n",
       " <span style=\"color: #7f7f7f; text-decoration-color: #7f7f7f\"> Prediction is correct.      </span> <span style=\"color: #7f7f7f; text-decoration-color: #7f7f7f\"> SPEEDING 10% ABOVE THE      </span> <span style=\"color: #7f7f7f; text-decoration-color: #7f7f7f\"> SPEED 46 PLUS OVER LIMIT </span> <span style=\"color: #7f7f7f; text-decoration-color: #7f7f7f\"> SPEED 46 PLUS OVER LIMIT </span> \n",
       " <span style=\"color: #7f7f7f; text-decoration-color: #7f7f7f\">                             </span> <span style=\"color: #7f7f7f; text-decoration-color: #7f7f7f\"> POSTED SPEED 112MPH IN A 60 </span> <span style=\"color: #7f7f7f; text-decoration-color: #7f7f7f\">                          </span> <span style=\"color: #7f7f7f; text-decoration-color: #7f7f7f\">                          </span> \n",
       " <span style=\"color: #7f7f7f; text-decoration-color: #7f7f7f\">                             </span> <span style=\"color: #7f7f7f; text-decoration-color: #7f7f7f\"> MPH ZONE                    </span> <span style=\"color: #7f7f7f; text-decoration-color: #7f7f7f\">                          </span> <span style=\"color: #7f7f7f; text-decoration-color: #7f7f7f\">                          </span> \n",
       "  Prediction is incorrect.      SPEEDING 15 MPH OVER IN A     SPEED 11-15 OVER LIMIT     SPEED 46 PLUS OVER LIMIT  \n",
       "  Correct answer: \"SPEED        RESIDENTIAL AREA                                                                   \n",
       "  11-15 OVER LIMIT\"                                                                                                \n",
       "                                                                                                                   \n",
       "</pre>\n"
      ],
      "text/plain": [
       "                                                                                                                   \n",
       " \u001b[1;35m \u001b[0m\u001b[1;35mprediction__fb             \u001b[0m\u001b[1;35m \u001b[0m \u001b[1;35m \u001b[0m\u001b[1;35mtext                       \u001b[0m\u001b[1;35m \u001b[0m \u001b[1;35m \u001b[0m\u001b[1;35mground_truth            \u001b[0m\u001b[1;35m \u001b[0m \u001b[1;35m \u001b[0m\u001b[1;35mprediction              \u001b[0m\u001b[1;35m \u001b[0m \n",
       " ───────────────────────────────────────────────────────────────────────────────────────────────────────────────── \n",
       "  Prediction is incorrect.      EXCEED POSTED SPEED/BRIDGE    SPEED 11-15 OVER LIMIT     SPEED 46 PLUS OVER LIMIT  \n",
       "  Correct answer: \"SPEED        BY 13 MPH                                                                          \n",
       "  11-15 OVER LIMIT\"                                                                                                \n",
       " \u001b[2m \u001b[0m\u001b[2mPrediction is correct.     \u001b[0m\u001b[2m \u001b[0m \u001b[2m \u001b[0m\u001b[2mSPEEDING IN SCHOOL ZONE 16 \u001b[0m\u001b[2m \u001b[0m \u001b[2m \u001b[0m\u001b[2mSPEED IN SCHOOL ZONE    \u001b[0m\u001b[2m \u001b[0m \u001b[2m \u001b[0m\u001b[2mSPEED IN SCHOOL ZONE    \u001b[0m\u001b[2m \u001b[0m \n",
       " \u001b[2m                             \u001b[0m \u001b[2m \u001b[0m\u001b[2mMPH IN A 20 MPH ZONE       \u001b[0m\u001b[2m \u001b[0m \u001b[2m                          \u001b[0m \u001b[2m                          \u001b[0m \n",
       "  Prediction is incorrect.      SPEEDING 80/70                SPEED 6-10 OVER LIMIT      SPEED 11-15 OVER LIMIT    \n",
       "  Correct answer: \"SPEED 6-10                                                                                      \n",
       "  OVER LIMIT\"                                                                                                      \n",
       " \u001b[2m \u001b[0m\u001b[2mPrediction is correct.     \u001b[0m\u001b[2m \u001b[0m \u001b[2m \u001b[0m\u001b[2mSPEEDING 10% ABOVE THE     \u001b[0m\u001b[2m \u001b[0m \u001b[2m \u001b[0m\u001b[2mSPEED 46 PLUS OVER LIMIT\u001b[0m\u001b[2m \u001b[0m \u001b[2m \u001b[0m\u001b[2mSPEED 46 PLUS OVER LIMIT\u001b[0m\u001b[2m \u001b[0m \n",
       " \u001b[2m                             \u001b[0m \u001b[2m \u001b[0m\u001b[2mPOSTED SPEED 112MPH IN A 60\u001b[0m\u001b[2m \u001b[0m \u001b[2m                          \u001b[0m \u001b[2m                          \u001b[0m \n",
       " \u001b[2m                             \u001b[0m \u001b[2m \u001b[0m\u001b[2mMPH ZONE                   \u001b[0m\u001b[2m \u001b[0m \u001b[2m                          \u001b[0m \u001b[2m                          \u001b[0m \n",
       "  Prediction is incorrect.      SPEEDING 15 MPH OVER IN A     SPEED 11-15 OVER LIMIT     SPEED 46 PLUS OVER LIMIT  \n",
       "  Correct answer: \"SPEED        RESIDENTIAL AREA                                                                   \n",
       "  11-15 OVER LIMIT\"                                                                                                \n",
       "                                                                                                                   \n"
      ]
     },
     "metadata": {},
     "output_type": "display_data"
    },
    {
     "data": {
      "text/html": [
       "<pre style=\"white-space:pre;overflow-x:auto;line-height:normal;font-family:Menlo,'DejaVu Sans Mono',consolas,'Courier New',monospace\"><span style=\"color: #800000; text-decoration-color: #800000; font-weight: bold\">Skill output to improve: </span><span style=\"color: #008000; text-decoration-color: #008000\">\"prediction\"</span><span style=\"color: #800000; text-decoration-color: #800000; font-weight: bold\"> (</span><span style=\"color: #808000; text-decoration-color: #808000; font-weight: bold\">Skill</span><span style=\"color: #800000; text-decoration-color: #800000; font-weight: bold\">=</span><span style=\"color: #008000; text-decoration-color: #008000\">\"speeding_violation_catergorize\"</span><span style=\"color: #800000; text-decoration-color: #800000; font-weight: bold\">)</span>\n",
       "<span style=\"color: #800000; text-decoration-color: #800000; font-weight: bold\">Accuracy = </span><span style=\"color: #008080; text-decoration-color: #008080; font-weight: bold\">69.23</span><span style=\"color: #800000; text-decoration-color: #800000; font-weight: bold\">%</span>\n",
       "</pre>\n"
      ],
      "text/plain": [
       "\u001b[1;31mSkill output to improve: \u001b[0m\u001b[32m\"prediction\"\u001b[0m\u001b[1;31m \u001b[0m\u001b[1;31m(\u001b[0m\u001b[1;33mSkill\u001b[0m\u001b[1;31m=\u001b[0m\u001b[32m\"speeding_violation_catergorize\"\u001b[0m\u001b[1;31m)\u001b[0m\n",
       "\u001b[1;31mAccuracy = \u001b[0m\u001b[1;36m69.23\u001b[0m\u001b[1;31m%\u001b[0m\n"
      ]
     },
     "metadata": {},
     "output_type": "display_data"
    },
    {
     "name": "stdout",
     "output_type": "stream",
     "text": [
      "\"{system}\":\n",
      "You are a helpful assistant.\n",
      "\"{user}\":\n",
      "\n",
      "A prompt is a text paragraph that outlines the expected actions and instructs the large language model (LLM) to generate a specific output. This prompt is concatenated with the input text, and the model then creates the required output.\n",
      "This describes the full template how the prompt is concatenated with the input to produce the output:\n",
      "\n",
      "```\n",
      "\n",
      "{prompt}\n",
      "Input: {text}\n",
      "Output: {prediction}\n",
      "```\n",
      "\n",
      "Here:\n",
      "- \"Input: {text}\" is input template,\n",
      "- \"{prompt}\" is the LLM prompt,\n",
      "- \"Output: {prediction}\" is the output template.\n",
      "\n",
      "Model can produce erroneous output if a prompt is not well defined. In our collaboration, we’ll work together to refine a prompt. The process consists of two main steps:\n",
      "\n",
      "## Step 1\n",
      "I will provide you with the current prompt along with prediction examples. Each example contains the input text, the final prediction produced by the model, and the user feedback. User feedback indicates whether the model prediction is correct or not. Your task is to analyze the examples and user feedback, determining whether the existing instruction is describing the task reflected by these examples precisely, and suggests changes to the prompt to address the incorrect predictions.\n",
      "\n",
      "## Step 2\n",
      "Next, you will carefully review your reasoning in step 1, integrate the insights to refine the prompt, and provide me with the new prompt that improves the model’s performance.\n",
      "\"{assistant}\":\n",
      "Sure, I’d be happy to help you with this prompt engineering problem. Please provide me with the current prompt and the examples with user feedback.\n",
      "\"{user}\":\n",
      "\n",
      "## Current prompt\n",
      "Refined Prompt:\n",
      "\n",
      "Your task is to categorize each violation code accurately based on specific criteria. Consider the following instructions:\n",
      "\n",
      "1. Assign the label \"SPEED IN WORK ZONE\" to violations that include the phrase 'WORK ZONE' or 'CONSTRUCTION ZONE'. Ignore any mentions of numerical speeds.\n",
      "\n",
      "2. Assign the label \"SPEED IN SCHOOL ZONE\" to violations that include the phrase 'SCHOOL ZONE'. Ignore any mentions of numerical speeds.\n",
      "\n",
      "3. For violations in the format 'SPEEDING X/Y', determine the excess amount (|X - Y|). If the calculated excess falls within a specific range, assign the label \"SPEED X-Y OVER LIMIT\".\n",
      "\n",
      "4. For explicit speeds mentioned as 'SPEED X MPH IN A Y MPH ZONE', calculate the excess as |X - Y|. If the excess exceeds 45, assign the label \"SPEED 46 PLUS OVER LIMIT\".\n",
      "\n",
      "5. Use the label 'SPEED - GENERAL' for violations with non-numerical descriptions or qualitative descriptions that do not provide specific speed details.\n",
      "\n",
      "Remember to assign the correct category label to each violation code based on the specified criteria.\n",
      "\n",
      "Please review the refined prompt and let me know if any further modifications are required.\n",
      "\n",
      "## Examples\n",
      "### Example #0\n",
      "\n",
      "Input: EXCEED POSTED SPEED/BRIDGE BY 13 MPH\n",
      "\n",
      "Output: SPEED 46 PLUS OVER LIMIT\n",
      "\n",
      "User feedback: Prediction is incorrect. Correct answer: \"SPEED 11-15 OVER LIMIT\"\n",
      "\n",
      "\n",
      "### Example #1\n",
      "\n",
      "Input: SPEEDING IN SCHOOL ZONE 16 MPH IN A 20 MPH ZONE\n",
      "\n",
      "Output: SPEED IN SCHOOL ZONE\n",
      "\n",
      "User feedback: Prediction is correct.\n",
      "\n",
      "\n",
      "### Example #2\n",
      "\n",
      "Input: SPEEDING 80/70\n",
      "\n",
      "Output: SPEED 11-15 OVER LIMIT\n",
      "\n",
      "User feedback: Prediction is incorrect. Correct answer: \"SPEED 6-10 OVER LIMIT\"\n",
      "\n",
      "\n",
      "### Example #3\n",
      "\n",
      "Input: SPEEDING 10% ABOVE THE POSTED SPEED 112MPH IN A 60 MPH ZONE\n",
      "\n",
      "Output: SPEED 46 PLUS OVER LIMIT\n",
      "\n",
      "User feedback: Prediction is correct.\n",
      "\n",
      "\n",
      "### Example #4\n",
      "\n",
      "Input: SPEEDING 15 MPH OVER IN A RESIDENTIAL AREA\n",
      "\n",
      "Output: SPEED 46 PLUS OVER LIMIT\n",
      "\n",
      "User feedback: Prediction is incorrect. Correct answer: \"SPEED 11-15 OVER LIMIT\"\n",
      "\n",
      "\n",
      "### Example #5\n",
      "\n",
      "Input: SPEEDING 21+ MPH COUNTY/STATE\n",
      "\n",
      "Output: SPEED 21-25 OVER LIMIT\n",
      "\n",
      "User feedback: Prediction is correct.\n",
      "\n",
      "\n",
      "### Example #6\n",
      "\n",
      "Input: SPEEDING 86 MPH IN A 75 MPH ZONE\n",
      "\n",
      "Output: SPEED 11-15 OVER LIMIT\n",
      "\n",
      "User feedback: Prediction is correct.\n",
      "\n",
      "\n",
      "### Example #7\n",
      "\n",
      "Input: SPEEDING (CITY - NOT URBAN)\n",
      "\n",
      "Output: SPEED - GENERAL\n",
      "\n",
      "User feedback: Prediction is correct.\n",
      "\n",
      "\n",
      "### Example #8\n",
      "\n",
      "Input: SPEEDING MORE THAN 10 MPH (11-14)76/55\n",
      "\n",
      "Output: SPEED 21-25 OVER LIMIT\n",
      "\n",
      "User feedback: Prediction is correct.\n",
      "\n",
      "\n",
      "### Example #9\n",
      "\n",
      "Input: SPEEDING IN EXCESSS OF LAWFUL MAXIMUM LIMIT(S15)\n",
      "\n",
      "Output: SPEED - GENERAL\n",
      "\n",
      "User feedback: Prediction is correct.\n",
      "\n",
      "\n",
      "### Example #10\n",
      "\n",
      "Input: SPEEDING NEAR A CONSTRUCTION ZONE AT 48 MPH IN A 30 MPH ZONE,\n",
      "\n",
      "Output: SPEED IN WORK ZONE\n",
      "\n",
      "User feedback: Prediction is correct.\n",
      "\n",
      "\n",
      "### Example #11\n",
      "\n",
      "Input: SPEEDING (1-10)-CDL ONLY 45 MPH IN A 35 MPH ZONE\n",
      "\n",
      "Output: SPEED 46 PLUS OVER LIMIT\n",
      "\n",
      "User feedback: Prediction is incorrect. Correct answer: \"SPEED 6-10 OVER LIMIT\"\n",
      "\n",
      "\n",
      "### Example #12\n",
      "\n",
      "Input: SPEEDING 25 PLUS\n",
      "\n",
      "Output: SPEED 25 PLUS OVER LIMIT\n",
      "\n",
      "User feedback: Prediction is correct.\n",
      "\n",
      "\n",
      "\n",
      "Summarize your analysis about incorrect predictions and suggest changes to the prompt.\n",
      "\"{assistant}\":\n",
      "Based on the analysis of the incorrect predictions and user feedback, here are the suggested changes to the prompt:\n",
      "\n",
      "1. In example #0, the model incorrectly predicted \"SPEED 46 PLUS OVER LIMIT\" instead of the correct label \"SPEED 11-15 OVER LIMIT\". The prompt should include a specific instruction to calculate the excess using the formula |X - Y| for violations in the format 'EXCEED POSTED SPEED/X BY Y MPH'.\n",
      "\n",
      "2. In example #2, the model predicted \"SPEED 11-15 OVER LIMIT\" instead of the correct label \"SPEED 6-10 OVER LIMIT\". The prompt should specify the correct range for excess amounts when the violation is in the format 'SPEEDING X/Y'.\n",
      "\n",
      "3. In example #4, the model predicted \"SPEED 46 PLUS OVER LIMIT\" instead of the correct label \"SPEED 11-15 OVER LIMIT\". The prompt should provide specific instructions for violations that mention an explicit speed but not in the format 'SPEED X MPH IN A Y MPH ZONE'. \n",
      "\n",
      "4. In example #11, the model predicted \"SPEED 46 PLUS OVER LIMIT\" instead of the correct label \"SPEED 6-10 OVER LIMIT\". Similar to the previous point, the prompt should provide specific instructions for violations that mention an explicit speed but not in the format 'SPEED X MPH IN A Y MPH ZONE'. \n",
      "\n",
      "Based on these observations, the following changes should be made to the prompt:\n",
      "\n",
      "- Add an instruction for violations in the format 'EXCEED POSTED SPEED/X BY Y MPH' to calculate the excess amount using the formula |X - Y|, and assign the label \"SPEED X-Y OVER LIMIT\" based on the specific range of excess amounts.\n",
      "\n",
      "- Specify the correct range for excess amounts when the violation is in the format 'SPEEDING X/Y'.\n",
      "\n",
      "- Provide specific instructions for violations that mention an explicit speed without being in the format 'SPEED X MPH IN A Y MPH ZONE', and assign the appropriate label based on the excess amount.\n",
      "\n",
      "Here is the updated prompt incorporating these changes:\n",
      "\n",
      "```markdown\n",
      "Your task is to categorize each violation code accurately based on specific criteria. Consider the following instructions:\n",
      "\n",
      "1. Assign the label \"SPEED IN WORK ZONE\" to violations that include the phrase 'WORK ZONE' or 'CONSTRUCTION ZONE'. Ignore any mentions of numerical speeds.\n",
      "\n",
      "2. Assign the label \"SPEED IN SCHOOL ZONE\" to violations that include the phrase 'SCHOOL ZONE'. Ignore any mentions of numerical speeds.\n",
      "\n",
      "3. For violations in the format 'SPEEDING X/Y', calculate the excess amount (|X - Y|). If the calculated excess falls within the range 1-5, assign the label \"SPEED 1-5 OVER LIMIT\". If the excess falls within the range 6-10, assign the label \"SPEED 6-10 OVER LIMIT\". If the excess falls within the range 11-15, assign the label \"SPEED 11-15 OVER LIMIT\". If the excess exceeds 15, assign the label \"SPEED 16 PLUS OVER LIMIT\".\n",
      "\n",
      "4. For explicit speeds mentioned as 'EXCEED POSTED SPEED/X BY Y MPH', calculate the excess amount (|X - Y|). If the calculated excess falls within the range 1-5, assign the label \"SPEED X-Y OVER LIMIT\". If the excess falls within the range 6-10, assign the label \"SPEED X-Y OVER LIMIT\". If the excess falls within the range 11-15, assign the label \"SPEED X-Y OVER LIMIT\". If the excess exceeds 15, assign the label \"SPEED X-Y OVER LIMIT\".\n",
      "\n",
      "5. For violations in the format 'SPEED X MPH IN A Y MPH ZONE', calculate the excess amount (|X - Y|). If the calculated excess falls within the range 1-5, assign the label \"SPEED X-Y OVER LIMIT\". If the excess falls within the range 6-10, assign the label \"SPEED X-Y OVER LIMIT\". If the excess falls within the range 11-15, assign the label \"SPEED X-Y OVER LIMIT\". If the excess exceeds 15, assign the label \"SPEED 46 PLUS OVER LIMIT\".\n",
      "\n",
      "6. Use the label 'SPEED - GENERAL' for violations with non-numerical descriptions or qualitative descriptions that do not provide specific speed details.\n",
      "\n",
      "Remember to assign the correct category label to each violation code based on the specified criteria.\n",
      "```\n",
      "\n",
      "Please review the updated prompt and let me know if any further modifications are required.\n",
      "\"{user}\":\n",
      "\n",
      "Now please carefully review your reasoning in Step 1 and help with Step 2: refining the prompt.\n",
      "\n",
      "## Current prompt\n",
      "Refined Prompt:\n",
      "\n",
      "Your task is to categorize each violation code accurately based on specific criteria. Consider the following instructions:\n",
      "\n",
      "1. Assign the label \"SPEED IN WORK ZONE\" to violations that include the phrase 'WORK ZONE' or 'CONSTRUCTION ZONE'. Ignore any mentions of numerical speeds.\n",
      "\n",
      "2. Assign the label \"SPEED IN SCHOOL ZONE\" to violations that include the phrase 'SCHOOL ZONE'. Ignore any mentions of numerical speeds.\n",
      "\n",
      "3. For violations in the format 'SPEEDING X/Y', determine the excess amount (|X - Y|). If the calculated excess falls within a specific range, assign the label \"SPEED X-Y OVER LIMIT\".\n",
      "\n",
      "4. For explicit speeds mentioned as 'SPEED X MPH IN A Y MPH ZONE', calculate the excess as |X - Y|. If the excess exceeds 45, assign the label \"SPEED 46 PLUS OVER LIMIT\".\n",
      "\n",
      "5. Use the label 'SPEED - GENERAL' for violations with non-numerical descriptions or qualitative descriptions that do not provide specific speed details.\n",
      "\n",
      "Remember to assign the correct category label to each violation code based on the specified criteria.\n",
      "\n",
      "Please review the refined prompt and let me know if any further modifications are required.\n",
      "\n",
      "## Follow this guidance to refine the prompt:\n",
      "\n",
      "1. The new prompt should should describe the task precisely, and address the points raised in the user feedback.\n",
      "\n",
      "2. The new prompt should be similar to the current instruction, and only differ in the parts that address the issues you identified in Step 1.\n",
      "    Example:\n",
      "    - Current prompt: \"The model should generate a summary of the input text.\"\n",
      "    - New prompt: \"The model should generate a summary of the input text. Pay attention to the original style.\"\n",
      "\n",
      "3. Reply only with the new prompt. Do not include input and output templates in the prompt.\n"
     ]
    },
    {
     "data": {
      "text/html": [
       "Refined Prompt:\n",
       "\n",
       "Your task is to <span style=\"background-color: lightgreen;\">a</span><span style=\"background-color: lightgreen;\">c</span><span style=\"background-color: lightgreen;\">c</span><span style=\"background-color: lightgreen;\">u</span><span style=\"background-color: lightgreen;\">r</span><span style=\"background-color: lightgreen;\">a</span><span style=\"background-color: lightgreen;\">t</span><span style=\"background-color: lightgreen;\">e</span><span style=\"background-color: lightgreen;\">l</span><span style=\"background-color: lightgreen;\">y</span><span style=\"background-color: lightgreen;\"> </span>categorize each violation code based on specific criteria. Consider the following instructions:\n",
       "\n",
       "1. Assign the label \"SPEED IN WORK ZONE\" to violations that c<span style=\"background-color: lightgreen;\">o</span><span style=\"background-color: lightgreen;\">n</span>ta<span style=\"background-color: lightgreen;\">i</span><span style=\"background-color: lightgreen;\">n</span><span style=\"background-color: lightgreen;\"> </span><span style=\"background-color: lightgreen;\">t</span><span style=\"background-color: lightgreen;\">h</span>e<span style=\"background-color: lightgreen;\"> </span><span style=\"background-color: lightgreen;\">p</span><span style=\"background-color: lightgreen;\">h</span><span style=\"background-color: lightgreen;\">r</span><span style=\"background-color: lightgreen;\">a</span><span style=\"background-color: lightgreen;\">s</span><span style=\"background-color: lightgreen;\">e</span><span style=\"background-color: lightgreen;\">s</span> 'WORK ZONE' or 'CONSTRUCTION ZONE'. <span style=\"background-color: lightgreen;\">D</span><span style=\"background-color: lightgreen;\">i</span><span style=\"background-color: lightgreen;\">s</span>re<span style=\"background-color: lightgreen;\">g</span><span style=\"background-color: lightgreen;\">a</span><span style=\"background-color: lightgreen;\">r</span><span style=\"background-color: lightgreen;\">d</span> any numerical speed<span style=\"background-color: lightgreen;\"> </span><span style=\"background-color: lightgreen;\">m</span><span style=\"background-color: lightgreen;\">e</span><span style=\"background-color: lightgreen;\">n</span><span style=\"background-color: lightgreen;\">t</span><span style=\"background-color: lightgreen;\">i</span><span style=\"background-color: lightgreen;\">o</span><span style=\"background-color: lightgreen;\">n</span>s.\n",
       "\n",
       "2. Assign the label \"SPEED IN SCHOOL ZONE\" to violations that <span style=\"background-color: lightgreen;\">m</span>e<span style=\"background-color: lightgreen;\">n</span><span style=\"background-color: lightgreen;\">t</span><span style=\"background-color: lightgreen;\">i</span><span style=\"background-color: lightgreen;\">o</span><span style=\"background-color: lightgreen;\">n</span> the phrase 'SCHOOL ZONE'. <span style=\"background-color: lightgreen;\">D</span><span style=\"background-color: lightgreen;\">i</span><span style=\"background-color: lightgreen;\">s</span>re<span style=\"background-color: lightgreen;\">g</span><span style=\"background-color: lightgreen;\">a</span><span style=\"background-color: lightgreen;\">r</span><span style=\"background-color: lightgreen;\">d</span> any numerical speed<span style=\"background-color: lightgreen;\"> </span><span style=\"background-color: lightgreen;\">m</span><span style=\"background-color: lightgreen;\">e</span><span style=\"background-color: lightgreen;\">n</span><span style=\"background-color: lightgreen;\">t</span><span style=\"background-color: lightgreen;\">i</span><span style=\"background-color: lightgreen;\">o</span><span style=\"background-color: lightgreen;\">n</span>s.\n",
       "\n",
       "3. For violations in the format 'SPEEDING X/Y', <span style=\"background-color: lightgreen;\">c</span><span style=\"background-color: lightgreen;\">a</span><span style=\"background-color: lightgreen;\">l</span><span style=\"background-color: lightgreen;\">c</span><span style=\"background-color: lightgreen;\">u</span><span style=\"background-color: lightgreen;\">l</span><span style=\"background-color: lightgreen;\">a</span>te the excess amount<span style=\"background-color: lightgreen;\"> </span><span style=\"background-color: lightgreen;\">b</span><span style=\"background-color: lightgreen;\">y</span><span style=\"background-color: lightgreen;\"> </span><span style=\"background-color: lightgreen;\">s</span><span style=\"background-color: lightgreen;\">u</span><span style=\"background-color: lightgreen;\">b</span><span style=\"background-color: lightgreen;\">t</span><span style=\"background-color: lightgreen;\">r</span><span style=\"background-color: lightgreen;\">a</span><span style=\"background-color: lightgreen;\">c</span><span style=\"background-color: lightgreen;\">t</span><span style=\"background-color: lightgreen;\">i</span><span style=\"background-color: lightgreen;\">n</span><span style=\"background-color: lightgreen;\">g</span><span style=\"background-color: lightgreen;\"> </span><span style=\"background-color: lightgreen;\">Y</span><span style=\"background-color: lightgreen;\"> </span><span style=\"background-color: lightgreen;\">f</span><span style=\"background-color: lightgreen;\">r</span><span style=\"background-color: lightgreen;\">o</span><span style=\"background-color: lightgreen;\">m</span><span style=\"background-color: lightgreen;\"> </span><span style=\"background-color: lightgreen;\">X</span> (|X - Y|). <span style=\"background-color: lightgreen;\">A</span>ssign the label \"SPEED X-Y OVER LIMIT\"<span style=\"background-color: lightgreen;\"> </span><span style=\"background-color: lightgreen;\">b</span><span style=\"background-color: lightgreen;\">a</span><span style=\"background-color: lightgreen;\">s</span><span style=\"background-color: lightgreen;\">e</span><span style=\"background-color: lightgreen;\">d</span><span style=\"background-color: lightgreen;\"> </span><span style=\"background-color: lightgreen;\">o</span><span style=\"background-color: lightgreen;\">n</span><span style=\"background-color: lightgreen;\"> </span><span style=\"background-color: lightgreen;\">t</span><span style=\"background-color: lightgreen;\">h</span><span style=\"background-color: lightgreen;\">e</span><span style=\"background-color: lightgreen;\"> </span><span style=\"background-color: lightgreen;\">s</span><span style=\"background-color: lightgreen;\">p</span><span style=\"background-color: lightgreen;\">e</span><span style=\"background-color: lightgreen;\">c</span><span style=\"background-color: lightgreen;\">i</span><span style=\"background-color: lightgreen;\">f</span><span style=\"background-color: lightgreen;\">i</span><span style=\"background-color: lightgreen;\">c</span><span style=\"background-color: lightgreen;\"> </span><span style=\"background-color: lightgreen;\">r</span><span style=\"background-color: lightgreen;\">a</span><span style=\"background-color: lightgreen;\">n</span><span style=\"background-color: lightgreen;\">g</span><span style=\"background-color: lightgreen;\">e</span><span style=\"background-color: lightgreen;\"> </span><span style=\"background-color: lightgreen;\">t</span><span style=\"background-color: lightgreen;\">h</span><span style=\"background-color: lightgreen;\">a</span><span style=\"background-color: lightgreen;\">t</span><span style=\"background-color: lightgreen;\"> </span><span style=\"background-color: lightgreen;\">t</span><span style=\"background-color: lightgreen;\">h</span><span style=\"background-color: lightgreen;\">e</span><span style=\"background-color: lightgreen;\"> </span><span style=\"background-color: lightgreen;\">e</span><span style=\"background-color: lightgreen;\">x</span><span style=\"background-color: lightgreen;\">c</span><span style=\"background-color: lightgreen;\">e</span><span style=\"background-color: lightgreen;\">s</span><span style=\"background-color: lightgreen;\">s</span><span style=\"background-color: lightgreen;\"> </span><span style=\"background-color: lightgreen;\">f</span><span style=\"background-color: lightgreen;\">a</span><span style=\"background-color: lightgreen;\">l</span><span style=\"background-color: lightgreen;\">l</span><span style=\"background-color: lightgreen;\">s</span><span style=\"background-color: lightgreen;\"> </span><span style=\"background-color: lightgreen;\">i</span><span style=\"background-color: lightgreen;\">n</span><span style=\"background-color: lightgreen;\">t</span><span style=\"background-color: lightgreen;\">o</span>.\n",
       "\n",
       "4. For <span style=\"background-color: lightgreen;\">v</span><span style=\"background-color: lightgreen;\">i</span><span style=\"background-color: lightgreen;\">o</span><span style=\"background-color: lightgreen;\">l</span><span style=\"background-color: lightgreen;\">a</span><span style=\"background-color: lightgreen;\">t</span><span style=\"background-color: lightgreen;\">i</span><span style=\"background-color: lightgreen;\">o</span><span style=\"background-color: lightgreen;\">n</span><span style=\"background-color: lightgreen;\">s</span><span style=\"background-color: lightgreen;\"> </span><span style=\"background-color: lightgreen;\">t</span><span style=\"background-color: lightgreen;\">h</span><span style=\"background-color: lightgreen;\">a</span><span style=\"background-color: lightgreen;\">t</span><span style=\"background-color: lightgreen;\"> </span>explicit<span style=\"background-color: lightgreen;\">l</span><span style=\"background-color: lightgreen;\">y</span> st<span style=\"background-color: lightgreen;\">a</span><span style=\"background-color: lightgreen;\">t</span><span style=\"background-color: lightgreen;\">e</span><span style=\"background-color: lightgreen;\"> </span><span style=\"background-color: lightgreen;\">a</span><span style=\"background-color: lightgreen;\"> </span><span style=\"background-color: lightgreen;\">s</span><span style=\"background-color: lightgreen;\">p</span><span style=\"background-color: lightgreen;\">e</span>ed as 'SPEED X MPH IN A Y MPH ZONE', calculate the excess <span style=\"background-color: lightgreen;\">b</span><span style=\"background-color: lightgreen;\">y</span> <span style=\"background-color: lightgreen;\">s</span><span style=\"background-color: lightgreen;\">u</span><span style=\"background-color: lightgreen;\">b</span><span style=\"background-color: lightgreen;\">t</span><span style=\"background-color: lightgreen;\">r</span><span style=\"background-color: lightgreen;\">a</span><span style=\"background-color: lightgreen;\">c</span><span style=\"background-color: lightgreen;\">t</span><span style=\"background-color: lightgreen;\">i</span><span style=\"background-color: lightgreen;\">n</span><span style=\"background-color: lightgreen;\">g</span><span style=\"background-color: lightgreen;\"> </span><span style=\"background-color: lightgreen;\">Y</span><span style=\"background-color: lightgreen;\"> </span><span style=\"background-color: lightgreen;\">f</span><span style=\"background-color: lightgreen;\">r</span><span style=\"background-color: lightgreen;\">o</span><span style=\"background-color: lightgreen;\">m</span><span style=\"background-color: lightgreen;\"> </span><span style=\"background-color: lightgreen;\">X</span><span style=\"background-color: lightgreen;\"> </span><span style=\"background-color: lightgreen;\">(</span>|X - Y|<span style=\"background-color: lightgreen;\">)</span>. If the excess exceeds 45, assign the label \"SPEED 46 PLUS OVER LIMIT\".\n",
       "\n",
       "5. Use the label 'SPEED - GENERAL' for violations with non-numerical or qualitative descriptions that do not provide specific speed details.\n",
       "\n",
       "<span style=\"background-color: lightgreen;\">E</span>n<span style=\"background-color: lightgreen;\">s</span><span style=\"background-color: lightgreen;\">u</span>re t<span style=\"background-color: lightgreen;\">h</span><span style=\"background-color: lightgreen;\">a</span><span style=\"background-color: lightgreen;\">t</span><span style=\"background-color: lightgreen;\"> </span>y<span style=\"background-color: lightgreen;\">o</span><span style=\"background-color: lightgreen;\">u</span><span style=\"background-color: lightgreen;\"> </span><span style=\"background-color: lightgreen;\">a</span><span style=\"background-color: lightgreen;\">s</span><span style=\"background-color: lightgreen;\">s</span><span style=\"background-color: lightgreen;\">i</span><span style=\"background-color: lightgreen;\">g</span><span style=\"background-color: lightgreen;\">n</span><span style=\"background-color: lightgreen;\"> </span><span style=\"background-color: lightgreen;\">t</span><span style=\"background-color: lightgreen;\">h</span><span style=\"background-color: lightgreen;\">e</span><span style=\"background-color: lightgreen;\"> </span><span style=\"background-color: lightgreen;\">a</span><span style=\"background-color: lightgreen;\">p</span><span style=\"background-color: lightgreen;\">p</span><span style=\"background-color: lightgreen;\">r</span><span style=\"background-color: lightgreen;\">o</span><span style=\"background-color: lightgreen;\">p</span><span style=\"background-color: lightgreen;\">r</span><span style=\"background-color: lightgreen;\">i</span><span style=\"background-color: lightgreen;\">a</span><span style=\"background-color: lightgreen;\">t</span><span style=\"background-color: lightgreen;\">e</span><span style=\"background-color: lightgreen;\"> </span><span style=\"background-color: lightgreen;\">c</span><span style=\"background-color: lightgreen;\">a</span><span style=\"background-color: lightgreen;\">t</span><span style=\"background-color: lightgreen;\">e</span><span style=\"background-color: lightgreen;\">g</span><span style=\"background-color: lightgreen;\">o</span><span style=\"background-color: lightgreen;\">r</span><span style=\"background-color: lightgreen;\">y</span> label to each violation code based on the <span style=\"background-color: lightgreen;\">g</span>i<span style=\"background-color: lightgreen;\">v</span>e<span style=\"background-color: lightgreen;\">n</span> criteria.\n",
       "\n",
       "Please review and let me know if any further modifications are <span style=\"background-color: lightgreen;\">n</span>eed<span style=\"background-color: lightgreen;\">e</span><span style=\"background-color: lightgreen;\">d</span><span style=\"background-color: lightgreen;\"> </span><span style=\"background-color: lightgreen;\">t</span><span style=\"background-color: lightgreen;\">o</span><span style=\"background-color: lightgreen;\"> </span><span style=\"background-color: lightgreen;\">t</span><span style=\"background-color: lightgreen;\">h</span><span style=\"background-color: lightgreen;\">e</span><span style=\"background-color: lightgreen;\"> </span><span style=\"background-color: lightgreen;\">p</span><span style=\"background-color: lightgreen;\">r</span><span style=\"background-color: lightgreen;\">o</span><span style=\"background-color: lightgreen;\">m</span><span style=\"background-color: lightgreen;\">p</span><span style=\"background-color: lightgreen;\">t</span>."
      ],
      "text/plain": [
       "<IPython.core.display.HTML object>"
      ]
     },
     "metadata": {},
     "output_type": "display_data"
    },
    {
     "data": {
      "text/html": [
       "<pre style=\"white-space:pre;overflow-x:auto;line-height:normal;font-family:Menlo,'DejaVu Sans Mono',consolas,'Courier New',monospace\">\n",
       "\n",
       "=&gt; Iteration #<span style=\"color: #008080; text-decoration-color: #008080; font-weight: bold\">2</span>: Getting feedback, analyzing and improving <span style=\"color: #808000; text-decoration-color: #808000\">...</span>\n",
       "</pre>\n"
      ],
      "text/plain": [
       "\n",
       "\n",
       "=> Iteration #\u001b[1;36m2\u001b[0m: Getting feedback, analyzing and improving \u001b[33m...\u001b[0m\n"
      ]
     },
     "metadata": {},
     "output_type": "display_data"
    },
    {
     "data": {
      "text/html": [
       "<pre style=\"white-space:pre;overflow-x:auto;line-height:normal;font-family:Menlo,'DejaVu Sans Mono',consolas,'Courier New',monospace\">Applying skill: speeding_violation_catergorize\n",
       "</pre>\n"
      ],
      "text/plain": [
       "Applying skill: speeding_violation_catergorize\n"
      ]
     },
     "metadata": {},
     "output_type": "display_data"
    },
    {
     "name": "stderr",
     "output_type": "stream",
     "text": [
      "  0%|                                                   | 0/13 [00:00<?, ?it/s]/Users/pranav/opt/anaconda3/envs/label/lib/python3.8/site-packages/guidance/library/_select.py:146: RuntimeWarning: divide by zero encountered in log\n",
      "  logprobs_out[k] = np.log(or_prob)\n",
      "100%|██████████████████████████████████████████| 13/13 [00:08<00:00,  1.52it/s]\n"
     ]
    },
    {
     "data": {
      "text/html": [
       "<pre style=\"white-space:pre;overflow-x:auto;line-height:normal;font-family:Menlo,'DejaVu Sans Mono',consolas,'Courier New',monospace\">Predictions and feedback:\n",
       "</pre>\n"
      ],
      "text/plain": [
       "Predictions and feedback:\n"
      ]
     },
     "metadata": {},
     "output_type": "display_data"
    },
    {
     "data": {
      "text/html": [
       "<pre style=\"white-space:pre;overflow-x:auto;line-height:normal;font-family:Menlo,'DejaVu Sans Mono',consolas,'Courier New',monospace\">                                                                                                                   \n",
       " <span style=\"color: #800080; text-decoration-color: #800080; font-weight: bold\"> prediction__fb              </span> <span style=\"color: #800080; text-decoration-color: #800080; font-weight: bold\"> text                        </span> <span style=\"color: #800080; text-decoration-color: #800080; font-weight: bold\"> ground_truth             </span> <span style=\"color: #800080; text-decoration-color: #800080; font-weight: bold\"> prediction               </span> \n",
       " ───────────────────────────────────────────────────────────────────────────────────────────────────────────────── \n",
       "  Prediction is incorrect.      EXCEED POSTED SPEED/BRIDGE    SPEED 11-15 OVER LIMIT     SPEED 46 PLUS OVER LIMIT  \n",
       "  Correct answer: \"SPEED        BY 13 MPH                                                                          \n",
       "  11-15 OVER LIMIT\"                                                                                                \n",
       " <span style=\"color: #7f7f7f; text-decoration-color: #7f7f7f\"> Prediction is correct.      </span> <span style=\"color: #7f7f7f; text-decoration-color: #7f7f7f\"> SPEEDING IN SCHOOL ZONE 16  </span> <span style=\"color: #7f7f7f; text-decoration-color: #7f7f7f\"> SPEED IN SCHOOL ZONE     </span> <span style=\"color: #7f7f7f; text-decoration-color: #7f7f7f\"> SPEED IN SCHOOL ZONE     </span> \n",
       " <span style=\"color: #7f7f7f; text-decoration-color: #7f7f7f\">                             </span> <span style=\"color: #7f7f7f; text-decoration-color: #7f7f7f\"> MPH IN A 20 MPH ZONE        </span> <span style=\"color: #7f7f7f; text-decoration-color: #7f7f7f\">                          </span> <span style=\"color: #7f7f7f; text-decoration-color: #7f7f7f\">                          </span> \n",
       "  Prediction is incorrect.      SPEEDING 80/70                SPEED 6-10 OVER LIMIT      SPEED 11-15 OVER LIMIT    \n",
       "  Correct answer: \"SPEED 6-10                                                                                      \n",
       "  OVER LIMIT\"                                                                                                      \n",
       " <span style=\"color: #7f7f7f; text-decoration-color: #7f7f7f\"> Prediction is correct.      </span> <span style=\"color: #7f7f7f; text-decoration-color: #7f7f7f\"> SPEEDING 10% ABOVE THE      </span> <span style=\"color: #7f7f7f; text-decoration-color: #7f7f7f\"> SPEED 46 PLUS OVER LIMIT </span> <span style=\"color: #7f7f7f; text-decoration-color: #7f7f7f\"> SPEED 46 PLUS OVER LIMIT </span> \n",
       " <span style=\"color: #7f7f7f; text-decoration-color: #7f7f7f\">                             </span> <span style=\"color: #7f7f7f; text-decoration-color: #7f7f7f\"> POSTED SPEED 112MPH IN A 60 </span> <span style=\"color: #7f7f7f; text-decoration-color: #7f7f7f\">                          </span> <span style=\"color: #7f7f7f; text-decoration-color: #7f7f7f\">                          </span> \n",
       " <span style=\"color: #7f7f7f; text-decoration-color: #7f7f7f\">                             </span> <span style=\"color: #7f7f7f; text-decoration-color: #7f7f7f\"> MPH ZONE                    </span> <span style=\"color: #7f7f7f; text-decoration-color: #7f7f7f\">                          </span> <span style=\"color: #7f7f7f; text-decoration-color: #7f7f7f\">                          </span> \n",
       "  Prediction is incorrect.      SPEEDING 15 MPH OVER IN A     SPEED 11-15 OVER LIMIT     SPEED 16-20 OVER LIMIT    \n",
       "  Correct answer: \"SPEED        RESIDENTIAL AREA                                                                   \n",
       "  11-15 OVER LIMIT\"                                                                                                \n",
       "                                                                                                                   \n",
       "</pre>\n"
      ],
      "text/plain": [
       "                                                                                                                   \n",
       " \u001b[1;35m \u001b[0m\u001b[1;35mprediction__fb             \u001b[0m\u001b[1;35m \u001b[0m \u001b[1;35m \u001b[0m\u001b[1;35mtext                       \u001b[0m\u001b[1;35m \u001b[0m \u001b[1;35m \u001b[0m\u001b[1;35mground_truth            \u001b[0m\u001b[1;35m \u001b[0m \u001b[1;35m \u001b[0m\u001b[1;35mprediction              \u001b[0m\u001b[1;35m \u001b[0m \n",
       " ───────────────────────────────────────────────────────────────────────────────────────────────────────────────── \n",
       "  Prediction is incorrect.      EXCEED POSTED SPEED/BRIDGE    SPEED 11-15 OVER LIMIT     SPEED 46 PLUS OVER LIMIT  \n",
       "  Correct answer: \"SPEED        BY 13 MPH                                                                          \n",
       "  11-15 OVER LIMIT\"                                                                                                \n",
       " \u001b[2m \u001b[0m\u001b[2mPrediction is correct.     \u001b[0m\u001b[2m \u001b[0m \u001b[2m \u001b[0m\u001b[2mSPEEDING IN SCHOOL ZONE 16 \u001b[0m\u001b[2m \u001b[0m \u001b[2m \u001b[0m\u001b[2mSPEED IN SCHOOL ZONE    \u001b[0m\u001b[2m \u001b[0m \u001b[2m \u001b[0m\u001b[2mSPEED IN SCHOOL ZONE    \u001b[0m\u001b[2m \u001b[0m \n",
       " \u001b[2m                             \u001b[0m \u001b[2m \u001b[0m\u001b[2mMPH IN A 20 MPH ZONE       \u001b[0m\u001b[2m \u001b[0m \u001b[2m                          \u001b[0m \u001b[2m                          \u001b[0m \n",
       "  Prediction is incorrect.      SPEEDING 80/70                SPEED 6-10 OVER LIMIT      SPEED 11-15 OVER LIMIT    \n",
       "  Correct answer: \"SPEED 6-10                                                                                      \n",
       "  OVER LIMIT\"                                                                                                      \n",
       " \u001b[2m \u001b[0m\u001b[2mPrediction is correct.     \u001b[0m\u001b[2m \u001b[0m \u001b[2m \u001b[0m\u001b[2mSPEEDING 10% ABOVE THE     \u001b[0m\u001b[2m \u001b[0m \u001b[2m \u001b[0m\u001b[2mSPEED 46 PLUS OVER LIMIT\u001b[0m\u001b[2m \u001b[0m \u001b[2m \u001b[0m\u001b[2mSPEED 46 PLUS OVER LIMIT\u001b[0m\u001b[2m \u001b[0m \n",
       " \u001b[2m                             \u001b[0m \u001b[2m \u001b[0m\u001b[2mPOSTED SPEED 112MPH IN A 60\u001b[0m\u001b[2m \u001b[0m \u001b[2m                          \u001b[0m \u001b[2m                          \u001b[0m \n",
       " \u001b[2m                             \u001b[0m \u001b[2m \u001b[0m\u001b[2mMPH ZONE                   \u001b[0m\u001b[2m \u001b[0m \u001b[2m                          \u001b[0m \u001b[2m                          \u001b[0m \n",
       "  Prediction is incorrect.      SPEEDING 15 MPH OVER IN A     SPEED 11-15 OVER LIMIT     SPEED 16-20 OVER LIMIT    \n",
       "  Correct answer: \"SPEED        RESIDENTIAL AREA                                                                   \n",
       "  11-15 OVER LIMIT\"                                                                                                \n",
       "                                                                                                                   \n"
      ]
     },
     "metadata": {},
     "output_type": "display_data"
    },
    {
     "data": {
      "text/html": [
       "<pre style=\"white-space:pre;overflow-x:auto;line-height:normal;font-family:Menlo,'DejaVu Sans Mono',consolas,'Courier New',monospace\"><span style=\"color: #800000; text-decoration-color: #800000; font-weight: bold\">Skill output to improve: </span><span style=\"color: #008000; text-decoration-color: #008000\">\"prediction\"</span><span style=\"color: #800000; text-decoration-color: #800000; font-weight: bold\"> (</span><span style=\"color: #808000; text-decoration-color: #808000; font-weight: bold\">Skill</span><span style=\"color: #800000; text-decoration-color: #800000; font-weight: bold\">=</span><span style=\"color: #008000; text-decoration-color: #008000\">\"speeding_violation_catergorize\"</span><span style=\"color: #800000; text-decoration-color: #800000; font-weight: bold\">)</span>\n",
       "<span style=\"color: #800000; text-decoration-color: #800000; font-weight: bold\">Accuracy = </span><span style=\"color: #008080; text-decoration-color: #008080; font-weight: bold\">61.54</span><span style=\"color: #800000; text-decoration-color: #800000; font-weight: bold\">%</span>\n",
       "</pre>\n"
      ],
      "text/plain": [
       "\u001b[1;31mSkill output to improve: \u001b[0m\u001b[32m\"prediction\"\u001b[0m\u001b[1;31m \u001b[0m\u001b[1;31m(\u001b[0m\u001b[1;33mSkill\u001b[0m\u001b[1;31m=\u001b[0m\u001b[32m\"speeding_violation_catergorize\"\u001b[0m\u001b[1;31m)\u001b[0m\n",
       "\u001b[1;31mAccuracy = \u001b[0m\u001b[1;36m61.54\u001b[0m\u001b[1;31m%\u001b[0m\n"
      ]
     },
     "metadata": {},
     "output_type": "display_data"
    },
    {
     "name": "stdout",
     "output_type": "stream",
     "text": [
      "\"{system}\":\n",
      "You are a helpful assistant.\n",
      "\"{user}\":\n",
      "\n",
      "A prompt is a text paragraph that outlines the expected actions and instructs the large language model (LLM) to generate a specific output. This prompt is concatenated with the input text, and the model then creates the required output.\n",
      "This describes the full template how the prompt is concatenated with the input to produce the output:\n",
      "\n",
      "```\n",
      "\n",
      "{prompt}\n",
      "Input: {text}\n",
      "Output: {prediction}\n",
      "```\n",
      "\n",
      "Here:\n",
      "- \"Input: {text}\" is input template,\n",
      "- \"{prompt}\" is the LLM prompt,\n",
      "- \"Output: {prediction}\" is the output template.\n",
      "\n",
      "Model can produce erroneous output if a prompt is not well defined. In our collaboration, we’ll work together to refine a prompt. The process consists of two main steps:\n",
      "\n",
      "## Step 1\n",
      "I will provide you with the current prompt along with prediction examples. Each example contains the input text, the final prediction produced by the model, and the user feedback. User feedback indicates whether the model prediction is correct or not. Your task is to analyze the examples and user feedback, determining whether the existing instruction is describing the task reflected by these examples precisely, and suggests changes to the prompt to address the incorrect predictions.\n",
      "\n",
      "## Step 2\n",
      "Next, you will carefully review your reasoning in step 1, integrate the insights to refine the prompt, and provide me with the new prompt that improves the model’s performance.\n",
      "\"{assistant}\":\n",
      "Sure, I’d be happy to help you with this prompt engineering problem. Please provide me with the current prompt and the examples with user feedback.\n",
      "\"{user}\":\n",
      "\n",
      "## Current prompt\n",
      "Refined Prompt:\n",
      "\n",
      "Your task is to accurately categorize each violation code based on specific criteria. Consider the following instructions:\n",
      "\n",
      "1. Assign the label \"SPEED IN WORK ZONE\" to violations that contain the phrases 'WORK ZONE' or 'CONSTRUCTION ZONE'. Disregard any numerical speed mentions.\n",
      "\n",
      "2. Assign the label \"SPEED IN SCHOOL ZONE\" to violations that mention the phrase 'SCHOOL ZONE'. Disregard any numerical speed mentions.\n",
      "\n",
      "3. For violations in the format 'SPEEDING X/Y', calculate the excess amount by subtracting Y from X (|X - Y|). Assign the label \"SPEED X-Y OVER LIMIT\" based on the specific range that the excess falls into.\n",
      "\n",
      "4. For violations that explicitly state a speed as 'SPEED X MPH IN A Y MPH ZONE', calculate the excess by subtracting Y from X (|X - Y|). If the excess exceeds 45, assign the label \"SPEED 46 PLUS OVER LIMIT\".\n",
      "\n",
      "5. Use the label 'SPEED - GENERAL' for violations with non-numerical or qualitative descriptions that do not provide specific speed details.\n",
      "\n",
      "Ensure that you assign the appropriate category label to each violation code based on the given criteria.\n",
      "\n",
      "Please review and let me know if any further modifications are needed to the prompt.\n",
      "\n",
      "## Examples\n",
      "### Example #0\n",
      "\n",
      "Input: EXCEED POSTED SPEED/BRIDGE BY 13 MPH\n",
      "\n",
      "Output: SPEED 46 PLUS OVER LIMIT\n",
      "\n",
      "User feedback: Prediction is incorrect. Correct answer: \"SPEED 11-15 OVER LIMIT\"\n",
      "\n",
      "\n",
      "### Example #1\n",
      "\n",
      "Input: SPEEDING IN SCHOOL ZONE 16 MPH IN A 20 MPH ZONE\n",
      "\n",
      "Output: SPEED IN SCHOOL ZONE\n",
      "\n",
      "User feedback: Prediction is correct.\n",
      "\n",
      "\n",
      "### Example #2\n",
      "\n",
      "Input: SPEEDING 80/70\n",
      "\n",
      "Output: SPEED 11-15 OVER LIMIT\n",
      "\n",
      "User feedback: Prediction is incorrect. Correct answer: \"SPEED 6-10 OVER LIMIT\"\n",
      "\n",
      "\n",
      "### Example #3\n",
      "\n",
      "Input: SPEEDING 10% ABOVE THE POSTED SPEED 112MPH IN A 60 MPH ZONE\n",
      "\n",
      "Output: SPEED 46 PLUS OVER LIMIT\n",
      "\n",
      "User feedback: Prediction is correct.\n",
      "\n",
      "\n",
      "### Example #4\n",
      "\n",
      "Input: SPEEDING 15 MPH OVER IN A RESIDENTIAL AREA\n",
      "\n",
      "Output: SPEED 16-20 OVER LIMIT\n",
      "\n",
      "User feedback: Prediction is incorrect. Correct answer: \"SPEED 11-15 OVER LIMIT\"\n",
      "\n",
      "\n",
      "### Example #5\n",
      "\n",
      "Input: SPEEDING 21+ MPH COUNTY/STATE\n",
      "\n",
      "Output: SPEED 21-25 OVER LIMIT\n",
      "\n",
      "User feedback: Prediction is correct.\n",
      "\n",
      "\n",
      "### Example #6\n",
      "\n",
      "Input: SPEEDING 86 MPH IN A 75 MPH ZONE\n",
      "\n",
      "Output: SPEED 11-15 OVER LIMIT\n",
      "\n",
      "User feedback: Prediction is correct.\n",
      "\n",
      "\n",
      "### Example #7\n",
      "\n",
      "Input: SPEEDING (CITY - NOT URBAN)\n",
      "\n",
      "Output: SPEED - GENERAL\n",
      "\n",
      "User feedback: Prediction is correct.\n",
      "\n",
      "\n",
      "### Example #8\n",
      "\n",
      "Input: SPEEDING MORE THAN 10 MPH (11-14)76/55\n",
      "\n",
      "Output: SPEED 21-25 OVER LIMIT\n",
      "\n",
      "User feedback: Prediction is correct.\n",
      "\n",
      "\n",
      "### Example #9\n",
      "\n",
      "Input: SPEEDING IN EXCESSS OF LAWFUL MAXIMUM LIMIT(S15)\n",
      "\n",
      "Output: SPEED 46 PLUS OVER LIMIT\n",
      "\n",
      "User feedback: Prediction is incorrect. Correct answer: \"SPEED - GENERAL\"\n",
      "\n",
      "\n",
      "### Example #10\n",
      "\n",
      "Input: SPEEDING NEAR A CONSTRUCTION ZONE AT 48 MPH IN A 30 MPH ZONE,\n",
      "\n",
      "Output: SPEED IN WORK ZONE\n",
      "\n",
      "User feedback: Prediction is correct.\n",
      "\n",
      "\n",
      "### Example #11\n",
      "\n",
      "Input: SPEEDING (1-10)-CDL ONLY 45 MPH IN A 35 MPH ZONE\n",
      "\n",
      "Output: SPEED 46 PLUS OVER LIMIT\n",
      "\n",
      "User feedback: Prediction is incorrect. Correct answer: \"SPEED 6-10 OVER LIMIT\"\n",
      "\n",
      "\n",
      "### Example #12\n",
      "\n",
      "Input: SPEEDING 25 PLUS\n",
      "\n",
      "Output: SPEED 25 PLUS OVER LIMIT\n",
      "\n",
      "User feedback: Prediction is correct.\n",
      "\n",
      "\n",
      "\n",
      "Summarize your analysis about incorrect predictions and suggest changes to the prompt.\n",
      "\"{assistant}\":\n",
      "Based on the analysis of the examples and user feedback, I have identified a few areas where the prompt could be modified to address the incorrect predictions:\n",
      "\n",
      "1. In Example #0, the model incorrectly predicted \"SPEED 46 PLUS OVER LIMIT\" instead of the correct label \"SPEED 11-15 OVER LIMIT.\" This suggests that the instructions for assigning the label \"SPEED X-Y OVER LIMIT\" based on the specific range of excess speed may need to be clarified.\n",
      "\n",
      "2. In Examples #2 and #4, the model incorrectly predicted \"SPEED 11-15 OVER LIMIT\" instead of the correct labels \"SPEED 6-10 OVER LIMIT\" and \"SPEED 11-15 OVER LIMIT,\" respectively. This indicates that the range for assigning the \"SPEED X-Y OVER LIMIT\" label may need to be adjusted.\n",
      "\n",
      "3. In Example #9, the model incorrectly predicted \"SPEED 46 PLUS OVER LIMIT\" instead of the correct label \"SPEED - GENERAL.\" This suggests that the instructions for assigning the \"SPEED - GENERAL\" label for violations with non-numerical and qualitative descriptions need to be made more explicit.\n",
      "\n",
      "Based on these observations, I would suggest the following modifications to the prompt:\n",
      "\n",
      "1. Clarify the range for assigning the \"SPEED X-Y OVER LIMIT\" labels. For example, specify that a range of 1-5 mph excess speed corresponds to the \"SPEED 1-5 OVER LIMIT\" label, a range of 6-10 mph corresponds to the \"SPEED 6-10 OVER LIMIT\" label, and so on.\n",
      "\n",
      "2. Explicitly state that for violations with non-numerical and qualitative descriptions, the label to be assigned is \"SPEED - GENERAL.\"\n",
      "\n",
      "With these modifications, the prompt should provide clearer and more precise instructions for the model, leading to improved performance. The refined prompt would be as follows:\n",
      "\n",
      "```\n",
      "Refined Prompt:\n",
      "\n",
      "Your task is to accurately categorize each violation code based on specific criteria. Consider the following instructions:\n",
      "\n",
      "1. Assign the label \"SPEED IN WORK ZONE\" to violations that contain the phrases 'WORK ZONE' or 'CONSTRUCTION ZONE'. Disregard any numerical speed mentions.\n",
      "\n",
      "2. Assign the label \"SPEED IN SCHOOL ZONE\" to violations that mention the phrase 'SCHOOL ZONE'. Disregard any numerical speed mentions.\n",
      "\n",
      "3. For violations in the format 'SPEEDING X/Y', calculate the excess amount by subtracting Y from X (|X - Y|). Assign the label \"SPEED X-Y OVER LIMIT\" based on the specific range that the excess falls into. For example, a range of 1-5 mph excess speed corresponds to the label \"SPEED 1-5 OVER LIMIT\", a range of 6-10 mph corresponds to the label \"SPEED 6-10 OVER LIMIT\", and so on.\n",
      "\n",
      "4. For violations that explicitly state a speed as 'SPEED X MPH IN A Y MPH ZONE', calculate the excess by subtracting Y from X (|X - Y|). If the excess exceeds 45, assign the label \"SPEED 46 PLUS OVER LIMIT\".\n",
      "\n",
      "5. Use the label 'SPEED - GENERAL' for violations with non-numerical or qualitative descriptions that do not provide specific speed details.\n",
      "\n",
      "Ensure that you assign the appropriate category label to each violation code based on the given criteria.\n",
      "```\n",
      "\n",
      "Please review the suggested changes and let me know if any further modifications are needed.\n",
      "\"{user}\":\n",
      "\n",
      "Now please carefully review your reasoning in Step 1 and help with Step 2: refining the prompt.\n",
      "\n",
      "## Current prompt\n",
      "Refined Prompt:\n",
      "\n",
      "Your task is to accurately categorize each violation code based on specific criteria. Consider the following instructions:\n",
      "\n",
      "1. Assign the label \"SPEED IN WORK ZONE\" to violations that contain the phrases 'WORK ZONE' or 'CONSTRUCTION ZONE'. Disregard any numerical speed mentions.\n",
      "\n",
      "2. Assign the label \"SPEED IN SCHOOL ZONE\" to violations that mention the phrase 'SCHOOL ZONE'. Disregard any numerical speed mentions.\n",
      "\n",
      "3. For violations in the format 'SPEEDING X/Y', calculate the excess amount by subtracting Y from X (|X - Y|). Assign the label \"SPEED X-Y OVER LIMIT\" based on the specific range that the excess falls into.\n",
      "\n",
      "4. For violations that explicitly state a speed as 'SPEED X MPH IN A Y MPH ZONE', calculate the excess by subtracting Y from X (|X - Y|). If the excess exceeds 45, assign the label \"SPEED 46 PLUS OVER LIMIT\".\n",
      "\n",
      "5. Use the label 'SPEED - GENERAL' for violations with non-numerical or qualitative descriptions that do not provide specific speed details.\n",
      "\n",
      "Ensure that you assign the appropriate category label to each violation code based on the given criteria.\n",
      "\n",
      "Please review and let me know if any further modifications are needed to the prompt.\n",
      "\n",
      "## Follow this guidance to refine the prompt:\n",
      "\n",
      "1. The new prompt should should describe the task precisely, and address the points raised in the user feedback.\n",
      "\n",
      "2. The new prompt should be similar to the current instruction, and only differ in the parts that address the issues you identified in Step 1.\n",
      "    Example:\n",
      "    - Current prompt: \"The model should generate a summary of the input text.\"\n",
      "    - New prompt: \"The model should generate a summary of the input text. Pay attention to the original style.\"\n",
      "\n",
      "3. Reply only with the new prompt. Do not include input and output templates in the prompt.\n"
     ]
    },
    {
     "data": {
      "text/html": [
       "Refined Prompt:\n",
       "\n",
       "Your task is to accurately categorize each violation code based on <span style=\"background-color: lightgreen;\">t</span><span style=\"background-color: lightgreen;\">h</span>e<span style=\"background-color: lightgreen;\"> </span><span style=\"background-color: lightgreen;\">p</span><span style=\"background-color: lightgreen;\">r</span><span style=\"background-color: lightgreen;\">o</span><span style=\"background-color: lightgreen;\">v</span>i<span style=\"background-color: lightgreen;\">d</span><span style=\"background-color: lightgreen;\">e</span><span style=\"background-color: lightgreen;\">d</span> criteria. Consider the following instructions:\n",
       "\n",
       "1. Assign the label \"SPEED IN WORK ZONE\" to violations that contain the phrases 'WORK ZONE' or 'CONSTRUCTION ZONE'. Disregard any numerical speed mentions.\n",
       "\n",
       "2. Assign the label \"SPEED IN SCHOOL ZONE\" to violations that mention the phrase 'SCHOOL ZONE'. Disregard any numerical speed mentions.\n",
       "\n",
       "3. For violations in the format 'SPEEDING X/Y', calculate the excess amount by subtracting Y from X (|X - Y|). Assign the label \"SPEED X-Y OVER LIMIT\" based on the specific range that the excess falls into.<span style=\"background-color: lightgreen;\"> </span><span style=\"background-color: lightgreen;\">S</span><span style=\"background-color: lightgreen;\">p</span><span style=\"background-color: lightgreen;\">e</span><span style=\"background-color: lightgreen;\">c</span><span style=\"background-color: lightgreen;\">i</span><span style=\"background-color: lightgreen;\">f</span><span style=\"background-color: lightgreen;\">i</span><span style=\"background-color: lightgreen;\">c</span><span style=\"background-color: lightgreen;\">a</span><span style=\"background-color: lightgreen;\">l</span><span style=\"background-color: lightgreen;\">l</span><span style=\"background-color: lightgreen;\">y</span><span style=\"background-color: lightgreen;\">,</span><span style=\"background-color: lightgreen;\"> </span><span style=\"background-color: lightgreen;\">u</span><span style=\"background-color: lightgreen;\">s</span><span style=\"background-color: lightgreen;\">e</span><span style=\"background-color: lightgreen;\"> </span><span style=\"background-color: lightgreen;\">t</span><span style=\"background-color: lightgreen;\">h</span><span style=\"background-color: lightgreen;\">e</span><span style=\"background-color: lightgreen;\"> </span><span style=\"background-color: lightgreen;\">f</span><span style=\"background-color: lightgreen;\">o</span><span style=\"background-color: lightgreen;\">l</span><span style=\"background-color: lightgreen;\">l</span><span style=\"background-color: lightgreen;\">o</span><span style=\"background-color: lightgreen;\">w</span><span style=\"background-color: lightgreen;\">i</span><span style=\"background-color: lightgreen;\">n</span><span style=\"background-color: lightgreen;\">g</span><span style=\"background-color: lightgreen;\"> </span><span style=\"background-color: lightgreen;\">r</span><span style=\"background-color: lightgreen;\">a</span><span style=\"background-color: lightgreen;\">n</span><span style=\"background-color: lightgreen;\">g</span><span style=\"background-color: lightgreen;\">e</span><span style=\"background-color: lightgreen;\">s</span><span style=\"background-color: lightgreen;\">:</span><span style=\"background-color: lightgreen;\"> </span><span style=\"background-color: lightgreen;\">1</span><span style=\"background-color: lightgreen;\">-</span><span style=\"background-color: lightgreen;\">5</span><span style=\"background-color: lightgreen;\"> </span><span style=\"background-color: lightgreen;\">m</span><span style=\"background-color: lightgreen;\">p</span><span style=\"background-color: lightgreen;\">h</span><span style=\"background-color: lightgreen;\"> </span><span style=\"background-color: lightgreen;\">e</span><span style=\"background-color: lightgreen;\">x</span><span style=\"background-color: lightgreen;\">c</span><span style=\"background-color: lightgreen;\">e</span><span style=\"background-color: lightgreen;\">s</span><span style=\"background-color: lightgreen;\">s</span><span style=\"background-color: lightgreen;\"> </span><span style=\"background-color: lightgreen;\">s</span><span style=\"background-color: lightgreen;\">p</span><span style=\"background-color: lightgreen;\">e</span><span style=\"background-color: lightgreen;\">e</span><span style=\"background-color: lightgreen;\">d</span><span style=\"background-color: lightgreen;\"> </span><span style=\"background-color: lightgreen;\">c</span><span style=\"background-color: lightgreen;\">o</span><span style=\"background-color: lightgreen;\">r</span><span style=\"background-color: lightgreen;\">r</span><span style=\"background-color: lightgreen;\">e</span><span style=\"background-color: lightgreen;\">s</span><span style=\"background-color: lightgreen;\">p</span><span style=\"background-color: lightgreen;\">o</span><span style=\"background-color: lightgreen;\">n</span><span style=\"background-color: lightgreen;\">d</span><span style=\"background-color: lightgreen;\">s</span><span style=\"background-color: lightgreen;\"> </span><span style=\"background-color: lightgreen;\">t</span><span style=\"background-color: lightgreen;\">o</span><span style=\"background-color: lightgreen;\"> </span><span style=\"background-color: lightgreen;\">t</span><span style=\"background-color: lightgreen;\">h</span><span style=\"background-color: lightgreen;\">e</span><span style=\"background-color: lightgreen;\"> </span><span style=\"background-color: lightgreen;\">l</span><span style=\"background-color: lightgreen;\">a</span><span style=\"background-color: lightgreen;\">b</span><span style=\"background-color: lightgreen;\">e</span><span style=\"background-color: lightgreen;\">l</span><span style=\"background-color: lightgreen;\"> </span><span style=\"background-color: lightgreen;\">\"</span><span style=\"background-color: lightgreen;\">S</span><span style=\"background-color: lightgreen;\">P</span><span style=\"background-color: lightgreen;\">E</span><span style=\"background-color: lightgreen;\">E</span><span style=\"background-color: lightgreen;\">D</span><span style=\"background-color: lightgreen;\"> </span><span style=\"background-color: lightgreen;\">1</span><span style=\"background-color: lightgreen;\">-</span><span style=\"background-color: lightgreen;\">5</span><span style=\"background-color: lightgreen;\"> </span><span style=\"background-color: lightgreen;\">O</span><span style=\"background-color: lightgreen;\">V</span><span style=\"background-color: lightgreen;\">E</span><span style=\"background-color: lightgreen;\">R</span><span style=\"background-color: lightgreen;\"> </span><span style=\"background-color: lightgreen;\">L</span><span style=\"background-color: lightgreen;\">I</span><span style=\"background-color: lightgreen;\">M</span><span style=\"background-color: lightgreen;\">I</span><span style=\"background-color: lightgreen;\">T</span><span style=\"background-color: lightgreen;\">\"</span><span style=\"background-color: lightgreen;\">,</span><span style=\"background-color: lightgreen;\"> </span><span style=\"background-color: lightgreen;\">6</span><span style=\"background-color: lightgreen;\">-</span><span style=\"background-color: lightgreen;\">1</span><span style=\"background-color: lightgreen;\">0</span><span style=\"background-color: lightgreen;\"> </span><span style=\"background-color: lightgreen;\">m</span><span style=\"background-color: lightgreen;\">p</span><span style=\"background-color: lightgreen;\">h</span><span style=\"background-color: lightgreen;\"> </span><span style=\"background-color: lightgreen;\">c</span><span style=\"background-color: lightgreen;\">o</span><span style=\"background-color: lightgreen;\">r</span><span style=\"background-color: lightgreen;\">r</span><span style=\"background-color: lightgreen;\">e</span><span style=\"background-color: lightgreen;\">s</span><span style=\"background-color: lightgreen;\">p</span><span style=\"background-color: lightgreen;\">o</span><span style=\"background-color: lightgreen;\">n</span><span style=\"background-color: lightgreen;\">d</span><span style=\"background-color: lightgreen;\">s</span><span style=\"background-color: lightgreen;\"> </span><span style=\"background-color: lightgreen;\">t</span><span style=\"background-color: lightgreen;\">o</span><span style=\"background-color: lightgreen;\"> </span><span style=\"background-color: lightgreen;\">t</span><span style=\"background-color: lightgreen;\">h</span><span style=\"background-color: lightgreen;\">e</span><span style=\"background-color: lightgreen;\"> </span><span style=\"background-color: lightgreen;\">l</span><span style=\"background-color: lightgreen;\">a</span><span style=\"background-color: lightgreen;\">b</span><span style=\"background-color: lightgreen;\">e</span><span style=\"background-color: lightgreen;\">l</span><span style=\"background-color: lightgreen;\"> </span><span style=\"background-color: lightgreen;\">\"</span><span style=\"background-color: lightgreen;\">S</span><span style=\"background-color: lightgreen;\">P</span><span style=\"background-color: lightgreen;\">E</span><span style=\"background-color: lightgreen;\">E</span><span style=\"background-color: lightgreen;\">D</span><span style=\"background-color: lightgreen;\"> </span><span style=\"background-color: lightgreen;\">6</span><span style=\"background-color: lightgreen;\">-</span><span style=\"background-color: lightgreen;\">1</span><span style=\"background-color: lightgreen;\">0</span><span style=\"background-color: lightgreen;\"> </span><span style=\"background-color: lightgreen;\">O</span><span style=\"background-color: lightgreen;\">V</span><span style=\"background-color: lightgreen;\">E</span><span style=\"background-color: lightgreen;\">R</span><span style=\"background-color: lightgreen;\"> </span><span style=\"background-color: lightgreen;\">L</span><span style=\"background-color: lightgreen;\">I</span><span style=\"background-color: lightgreen;\">M</span><span style=\"background-color: lightgreen;\">I</span><span style=\"background-color: lightgreen;\">T</span><span style=\"background-color: lightgreen;\">\"</span><span style=\"background-color: lightgreen;\">,</span><span style=\"background-color: lightgreen;\"> </span><span style=\"background-color: lightgreen;\">1</span><span style=\"background-color: lightgreen;\">1</span><span style=\"background-color: lightgreen;\">-</span><span style=\"background-color: lightgreen;\">1</span><span style=\"background-color: lightgreen;\">5</span><span style=\"background-color: lightgreen;\"> </span><span style=\"background-color: lightgreen;\">m</span><span style=\"background-color: lightgreen;\">p</span><span style=\"background-color: lightgreen;\">h</span><span style=\"background-color: lightgreen;\"> </span><span style=\"background-color: lightgreen;\">c</span><span style=\"background-color: lightgreen;\">o</span><span style=\"background-color: lightgreen;\">r</span><span style=\"background-color: lightgreen;\">r</span><span style=\"background-color: lightgreen;\">e</span><span style=\"background-color: lightgreen;\">s</span><span style=\"background-color: lightgreen;\">p</span><span style=\"background-color: lightgreen;\">o</span><span style=\"background-color: lightgreen;\">n</span><span style=\"background-color: lightgreen;\">d</span><span style=\"background-color: lightgreen;\">s</span><span style=\"background-color: lightgreen;\"> </span><span style=\"background-color: lightgreen;\">t</span><span style=\"background-color: lightgreen;\">o</span><span style=\"background-color: lightgreen;\"> </span><span style=\"background-color: lightgreen;\">t</span><span style=\"background-color: lightgreen;\">h</span><span style=\"background-color: lightgreen;\">e</span><span style=\"background-color: lightgreen;\"> </span><span style=\"background-color: lightgreen;\">l</span><span style=\"background-color: lightgreen;\">a</span><span style=\"background-color: lightgreen;\">b</span><span style=\"background-color: lightgreen;\">e</span><span style=\"background-color: lightgreen;\">l</span><span style=\"background-color: lightgreen;\"> </span><span style=\"background-color: lightgreen;\">\"</span><span style=\"background-color: lightgreen;\">S</span><span style=\"background-color: lightgreen;\">P</span><span style=\"background-color: lightgreen;\">E</span><span style=\"background-color: lightgreen;\">E</span><span style=\"background-color: lightgreen;\">D</span><span style=\"background-color: lightgreen;\"> </span><span style=\"background-color: lightgreen;\">1</span><span style=\"background-color: lightgreen;\">1</span><span style=\"background-color: lightgreen;\">-</span><span style=\"background-color: lightgreen;\">1</span><span style=\"background-color: lightgreen;\">5</span><span style=\"background-color: lightgreen;\"> </span><span style=\"background-color: lightgreen;\">O</span><span style=\"background-color: lightgreen;\">V</span><span style=\"background-color: lightgreen;\">E</span><span style=\"background-color: lightgreen;\">R</span><span style=\"background-color: lightgreen;\"> </span><span style=\"background-color: lightgreen;\">L</span><span style=\"background-color: lightgreen;\">I</span><span style=\"background-color: lightgreen;\">M</span><span style=\"background-color: lightgreen;\">I</span><span style=\"background-color: lightgreen;\">T</span><span style=\"background-color: lightgreen;\">\"</span><span style=\"background-color: lightgreen;\">,</span><span style=\"background-color: lightgreen;\"> </span><span style=\"background-color: lightgreen;\">a</span><span style=\"background-color: lightgreen;\">n</span><span style=\"background-color: lightgreen;\">d</span><span style=\"background-color: lightgreen;\"> </span><span style=\"background-color: lightgreen;\">s</span><span style=\"background-color: lightgreen;\">o</span><span style=\"background-color: lightgreen;\"> </span><span style=\"background-color: lightgreen;\">o</span><span style=\"background-color: lightgreen;\">n</span><span style=\"background-color: lightgreen;\">.</span>\n",
       "\n",
       "4. For violations that explicitly state a speed as 'SPEED X MPH IN A Y MPH ZONE', calculate the excess by subtracting Y from X (|X - Y|). If the excess exceeds 45, assign the label \"SPEED 46 PLUS OVER LIMIT\".\n",
       "\n",
       "5. Use the label 'SPEED - GENERAL' for violations with non-numerical or qualitative descriptions that do not provide specific speed details.\n",
       "\n",
       "Ensure that you assign the appropriate category label to each violation code based on the given criteria.\n",
       "\n",
       "Please review <span style=\"background-color: lightgreen;\">t</span><span style=\"background-color: lightgreen;\">h</span><span style=\"background-color: lightgreen;\">e</span><span style=\"background-color: lightgreen;\"> </span><span style=\"background-color: lightgreen;\">r</span><span style=\"background-color: lightgreen;\">e</span><span style=\"background-color: lightgreen;\">f</span><span style=\"background-color: lightgreen;\">i</span><span style=\"background-color: lightgreen;\">n</span><span style=\"background-color: lightgreen;\">e</span><span style=\"background-color: lightgreen;\">d</span><span style=\"background-color: lightgreen;\"> </span><span style=\"background-color: lightgreen;\">p</span><span style=\"background-color: lightgreen;\">r</span><span style=\"background-color: lightgreen;\">o</span><span style=\"background-color: lightgreen;\">m</span><span style=\"background-color: lightgreen;\">p</span><span style=\"background-color: lightgreen;\">t</span><span style=\"background-color: lightgreen;\"> </span>and let me know if any further modifications are needed."
      ],
      "text/plain": [
       "<IPython.core.display.HTML object>"
      ]
     },
     "metadata": {},
     "output_type": "display_data"
    },
    {
     "data": {
      "text/html": [
       "<pre style=\"white-space:pre;overflow-x:auto;line-height:normal;font-family:Menlo,'DejaVu Sans Mono',consolas,'Courier New',monospace\">Train is done!\n",
       "</pre>\n"
      ],
      "text/plain": [
       "Train is done!\n"
      ]
     },
     "metadata": {},
     "output_type": "display_data"
    }
   ],
   "source": [
    "ground_truth_signal = agent.learn(learning_iterations=3, accuracy_threshold=0.90)"
   ]
  },
  {
   "cell_type": "code",
   "execution_count": null,
   "id": "efc63aa4-1d32-4f65-8c53-f1b0a5a924d6",
   "metadata": {},
   "outputs": [],
   "source": []
  },
  {
   "cell_type": "code",
   "execution_count": 193,
   "id": "445c6f3f-18fb-44f6-a634-e9ac9dc3665b",
   "metadata": {},
   "outputs": [],
   "source": [
    "test_df = pd.DataFrame([\n",
    "    \"SPEEDING 45 IN A 25 MPH RESIDENTIAL ZONE\",\n",
    "    \"SPEEDING 88 IN A 55 MPH HIGHWAY ZONE\",\n",
    "    \"SPEEDING 25 MPH PLUS\",\n",
    "    \"SPEEDING 50/35 IN DOWNTOWN TRAFFIC\",\n",
    "    \"SPEEDING AT 95 MPH IN A 65 MPH INTERSTATE ZONE\"\n",
    "], columns=['text'])\n"
   ]
  },
  {
   "cell_type": "code",
   "execution_count": 194,
   "id": "3a8a45ec-46ab-425e-b347-5e3e7bdd2e65",
   "metadata": {},
   "outputs": [
    {
     "data": {
      "text/html": [
       "<div>\n",
       "<style scoped>\n",
       "    .dataframe tbody tr th:only-of-type {\n",
       "        vertical-align: middle;\n",
       "    }\n",
       "\n",
       "    .dataframe tbody tr th {\n",
       "        vertical-align: top;\n",
       "    }\n",
       "\n",
       "    .dataframe thead th {\n",
       "        text-align: right;\n",
       "    }\n",
       "</style>\n",
       "<table border=\"1\" class=\"dataframe\">\n",
       "  <thead>\n",
       "    <tr style=\"text-align: right;\">\n",
       "      <th></th>\n",
       "      <th>text</th>\n",
       "    </tr>\n",
       "  </thead>\n",
       "  <tbody>\n",
       "    <tr>\n",
       "      <th>0</th>\n",
       "      <td>SPEEDING 45 IN A 25 MPH RESIDENTIAL ZONE</td>\n",
       "    </tr>\n",
       "    <tr>\n",
       "      <th>1</th>\n",
       "      <td>SPEEDING 88 IN A 55 MPH HIGHWAY ZONE</td>\n",
       "    </tr>\n",
       "    <tr>\n",
       "      <th>2</th>\n",
       "      <td>SPEEDING 25 MPH PLUS</td>\n",
       "    </tr>\n",
       "    <tr>\n",
       "      <th>3</th>\n",
       "      <td>SPEEDING 50/35 IN DOWNTOWN TRAFFIC</td>\n",
       "    </tr>\n",
       "    <tr>\n",
       "      <th>4</th>\n",
       "      <td>SPEEDING AT 95 MPH IN A 65 MPH INTERSTATE ZONE</td>\n",
       "    </tr>\n",
       "  </tbody>\n",
       "</table>\n",
       "</div>"
      ],
      "text/plain": [
       "                                             text\n",
       "0        SPEEDING 45 IN A 25 MPH RESIDENTIAL ZONE\n",
       "1            SPEEDING 88 IN A 55 MPH HIGHWAY ZONE\n",
       "2                            SPEEDING 25 MPH PLUS\n",
       "3              SPEEDING 50/35 IN DOWNTOWN TRAFFIC\n",
       "4  SPEEDING AT 95 MPH IN A 65 MPH INTERSTATE ZONE"
      ]
     },
     "execution_count": 194,
     "metadata": {},
     "output_type": "execute_result"
    }
   ],
   "source": [
    "test_df"
   ]
  },
  {
   "cell_type": "code",
   "execution_count": 207,
   "id": "e2898c17-d718-4d2d-bce2-dd5c00ed8230",
   "metadata": {},
   "outputs": [
    {
     "data": {
      "text/html": [
       "<pre style=\"white-space:pre;overflow-x:auto;line-height:normal;font-family:Menlo,'DejaVu Sans Mono',consolas,'Courier New',monospace\">Applying skill: speeding_violation_catergorize\n",
       "</pre>\n"
      ],
      "text/plain": [
       "Applying skill: speeding_violation_catergorize\n"
      ]
     },
     "metadata": {},
     "output_type": "display_data"
    },
    {
     "name": "stderr",
     "output_type": "stream",
     "text": [
      "  0%|                                                    | 0/5 [00:00<?, ?it/s]/Users/pranav/opt/anaconda3/envs/label/lib/python3.8/site-packages/guidance/library/_select.py:146: RuntimeWarning: divide by zero encountered in log\n",
      "  logprobs_out[k] = np.log(or_prob)\n",
      "100%|████████████████████████████████████████████| 5/5 [00:00<00:00, 26.06it/s]\n"
     ]
    }
   ],
   "source": [
    "predictions = agent.run(test_df)\n"
   ]
  },
  {
   "cell_type": "code",
   "execution_count": 163,
   "id": "8973ada0-f564-4c71-9b1a-83ec730c903d",
   "metadata": {},
   "outputs": [
    {
     "data": {
      "text/html": [
       "<div>\n",
       "<style scoped>\n",
       "    .dataframe tbody tr th:only-of-type {\n",
       "        vertical-align: middle;\n",
       "    }\n",
       "\n",
       "    .dataframe tbody tr th {\n",
       "        vertical-align: top;\n",
       "    }\n",
       "\n",
       "    .dataframe thead th {\n",
       "        text-align: right;\n",
       "    }\n",
       "</style>\n",
       "<table border=\"1\" class=\"dataframe\">\n",
       "  <thead>\n",
       "    <tr style=\"text-align: right;\">\n",
       "      <th></th>\n",
       "      <th>text</th>\n",
       "      <th>prediction</th>\n",
       "    </tr>\n",
       "  </thead>\n",
       "  <tbody>\n",
       "    <tr>\n",
       "      <th>0</th>\n",
       "      <td>SPEEDING 45 IN A 25 MPH RESIDENTIAL ZONE</td>\n",
       "      <td>SPEED 20 PLUS OVER LIMIT</td>\n",
       "    </tr>\n",
       "    <tr>\n",
       "      <th>1</th>\n",
       "      <td>SPEEDING 88 IN A 55 MPH HIGHWAY ZONE</td>\n",
       "      <td>SPEED 31 PLUS OVER LIMIT</td>\n",
       "    </tr>\n",
       "    <tr>\n",
       "      <th>2</th>\n",
       "      <td>SPEEDING 25 PLUS</td>\n",
       "      <td>SPEED 25 PLUS OVER LIMIT</td>\n",
       "    </tr>\n",
       "    <tr>\n",
       "      <th>3</th>\n",
       "      <td>SPEEDING 50/35 IN DOWNTOWN TRAFFIC</td>\n",
       "      <td>SPEED 15 PLUS OVER LIMIT</td>\n",
       "    </tr>\n",
       "    <tr>\n",
       "      <th>4</th>\n",
       "      <td>SPEEDING AT 95 MPH IN A 65 MPH INTERSTATE ZONE</td>\n",
       "      <td>SPEED 31 PLUS OVER LIMIT</td>\n",
       "    </tr>\n",
       "  </tbody>\n",
       "</table>\n",
       "</div>"
      ],
      "text/plain": [
       "                                             text                prediction\n",
       "0        SPEEDING 45 IN A 25 MPH RESIDENTIAL ZONE  SPEED 20 PLUS OVER LIMIT\n",
       "1            SPEEDING 88 IN A 55 MPH HIGHWAY ZONE  SPEED 31 PLUS OVER LIMIT\n",
       "2                                SPEEDING 25 PLUS  SPEED 25 PLUS OVER LIMIT\n",
       "3              SPEEDING 50/35 IN DOWNTOWN TRAFFIC  SPEED 15 PLUS OVER LIMIT\n",
       "4  SPEEDING AT 95 MPH IN A 65 MPH INTERSTATE ZONE  SPEED 31 PLUS OVER LIMIT"
      ]
     },
     "execution_count": 163,
     "metadata": {},
     "output_type": "execute_result"
    }
   ],
   "source": [
    "predictions"
   ]
  },
  {
   "cell_type": "code",
   "execution_count": 208,
   "id": "48e7fba2-cd8e-4de0-b498-abd06ee05325",
   "metadata": {},
   "outputs": [
    {
     "data": {
      "text/html": [
       "<div>\n",
       "<style scoped>\n",
       "    .dataframe tbody tr th:only-of-type {\n",
       "        vertical-align: middle;\n",
       "    }\n",
       "\n",
       "    .dataframe tbody tr th {\n",
       "        vertical-align: top;\n",
       "    }\n",
       "\n",
       "    .dataframe thead th {\n",
       "        text-align: right;\n",
       "    }\n",
       "</style>\n",
       "<table border=\"1\" class=\"dataframe\">\n",
       "  <thead>\n",
       "    <tr style=\"text-align: right;\">\n",
       "      <th></th>\n",
       "      <th>text</th>\n",
       "      <th>prediction</th>\n",
       "    </tr>\n",
       "  </thead>\n",
       "  <tbody>\n",
       "    <tr>\n",
       "      <th>0</th>\n",
       "      <td>SPEEDING 45 IN A 25 MPH RESIDENTIAL ZONE</td>\n",
       "      <td>SPEED 16-20 OVER LIMIT</td>\n",
       "    </tr>\n",
       "    <tr>\n",
       "      <th>1</th>\n",
       "      <td>SPEEDING 88 IN A 55 MPH HIGHWAY ZONE</td>\n",
       "      <td>SPEED 31-35 OVER LIMIT</td>\n",
       "    </tr>\n",
       "    <tr>\n",
       "      <th>2</th>\n",
       "      <td>SPEEDING 25 MPH PLUS</td>\n",
       "      <td>SPEED - GENERAL</td>\n",
       "    </tr>\n",
       "    <tr>\n",
       "      <th>3</th>\n",
       "      <td>SPEEDING 50/35 IN DOWNTOWN TRAFFIC</td>\n",
       "      <td>SPEED 16-20 OVER LIMIT</td>\n",
       "    </tr>\n",
       "    <tr>\n",
       "      <th>4</th>\n",
       "      <td>SPEEDING AT 95 MPH IN A 65 MPH INTERSTATE ZONE</td>\n",
       "      <td>SPEED 31-35 OVER LIMIT</td>\n",
       "    </tr>\n",
       "  </tbody>\n",
       "</table>\n",
       "</div>"
      ],
      "text/plain": [
       "                                             text              prediction\n",
       "0        SPEEDING 45 IN A 25 MPH RESIDENTIAL ZONE  SPEED 16-20 OVER LIMIT\n",
       "1            SPEEDING 88 IN A 55 MPH HIGHWAY ZONE  SPEED 31-35 OVER LIMIT\n",
       "2                            SPEEDING 25 MPH PLUS         SPEED - GENERAL\n",
       "3              SPEEDING 50/35 IN DOWNTOWN TRAFFIC  SPEED 16-20 OVER LIMIT\n",
       "4  SPEEDING AT 95 MPH IN A 65 MPH INTERSTATE ZONE  SPEED 31-35 OVER LIMIT"
      ]
     },
     "execution_count": 208,
     "metadata": {},
     "output_type": "execute_result"
    }
   ],
   "source": [
    "predictions"
   ]
  },
  {
   "cell_type": "markdown",
   "id": "3671b760-3b85-4c19-9e93-a7ac920b4135",
   "metadata": {},
   "source": [
    "## PROMPTS"
   ]
  },
  {
   "cell_type": "code",
   "execution_count": null,
   "id": "8d686ba9-06d6-4d68-9ca7-b040cd02c902",
   "metadata": {},
   "outputs": [],
   "source": []
  },
  {
   "cell_type": "code",
   "execution_count": null,
   "id": "cd3dd42f-0241-4814-a868-e3c84e913c5a",
   "metadata": {},
   "outputs": [],
   "source": []
  },
  {
   "cell_type": "code",
   "execution_count": null,
   "id": "9a7a8d6f-12a3-4898-8dc0-d7c4d5175de5",
   "metadata": {},
   "outputs": [],
   "source": []
  }
 ],
 "metadata": {
  "kernelspec": {
   "display_name": "Python 3 (ipykernel)",
   "language": "python",
   "name": "python3"
  },
  "language_info": {
   "codemirror_mode": {
    "name": "ipython",
    "version": 3
   },
   "file_extension": ".py",
   "mimetype": "text/x-python",
   "name": "python",
   "nbconvert_exporter": "python",
   "pygments_lexer": "ipython3",
   "version": "3.8.8"
  }
 },
 "nbformat": 4,
 "nbformat_minor": 5
}
